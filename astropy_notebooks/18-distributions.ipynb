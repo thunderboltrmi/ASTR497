{
 "cells": [
  {
   "cell_type": "markdown",
   "metadata": {},
   "source": [
    "# Uncertainties and Distributions\n",
    "\n",
    "The [astropy.uncertainty](http://docs.astropy.org/en/stable/uncertainty/index.html) sub-package is a relatively new sub-package which provides a framework for doing uncertainty propagation in calculations. For now, this is focused on the more accurate but slower method of tracking uncertainties by Monte-Carlo sampling. Since it is a relatively new sub-package, it is possible that it will evolve a little over time."
   ]
  },
  {
   "cell_type": "markdown",
   "metadata": {},
   "source": [
    "\n",
    "<section class=\"objectives panel panel-warning\">\n",
    "<div class=\"panel-heading\">\n",
    "<h2><span class=\"fa fa-certificate\"></span> Objectives</h2>\n",
    "</div>\n",
    "\n",
    "\n",
    "<div class=\"panel-body\">\n",
    "\n",
    "<ul>\n",
    "<li>Create distributions</li>\n",
    "<li>Plot distributions</li>\n",
    "<li>Extract useful statistics</li>\n",
    "<li>Combine distributions</li>\n",
    "</ul>\n",
    "\n",
    "</div>\n",
    "\n",
    "</section>\n"
   ]
  },
  {
   "cell_type": "markdown",
   "metadata": {},
   "source": [
    "## Documentation\n",
    "\n",
    "This notebook only shows a subset of the functionality in astropy.uncertainty. For more information about the features presented below as well as other available features, you can read the\n",
    "[astropy.uncertainty documentation](https://docs.astropy.org/en/stable/uncertainty/)."
   ]
  },
  {
   "cell_type": "code",
   "execution_count": 1,
   "metadata": {},
   "outputs": [],
   "source": [
    "%matplotlib inline\n",
    "import matplotlib.pyplot as plt\n",
    "plt.rc('image', origin='lower')\n",
    "plt.rc('figure', figsize=(10, 6))"
   ]
  },
  {
   "cell_type": "markdown",
   "metadata": {},
   "source": [
    "## Creating distributions\n",
    "\n",
    "The central object in astropy.uncertainty is the [Distribution](http://docs.astropy.org/en/stable/api/astropy.uncertainty.Distribution.html#astropy.uncertainty.Distribution) class, which can be thought of as a quantity with an underlying distribution of values. Several helper functions are provided to create standard distributions:"
   ]
  },
  {
   "cell_type": "code",
   "execution_count": 2,
   "metadata": {},
   "outputs": [],
   "source": [
    "from astropy import units as u\n",
    "from astropy import uncertainty as unc"
   ]
  },
  {
   "cell_type": "code",
   "execution_count": 3,
   "metadata": {},
   "outputs": [
    {
     "data": {
      "text/latex": [
       "$[3.8057914,~4.811394,~3.9765499,~\\dots,~3.8369979,~4.2994555,~4.6403127] \\; \\mathrm{kpc}, \\; n_{\\rm samp}=10000$"
      ],
      "text/plain": [
       "<QuantityDistribution [3.80579143, 4.81139396, 3.97654988, ..., 3.83699791, 4.29945552,\n",
       "           4.64031266] kpc with n_samples=10000>"
      ]
     },
     "execution_count": 3,
     "metadata": {},
     "output_type": "execute_result"
    }
   ],
   "source": [
    "distance = unc.normal(4*u.kpc,std=0.5*u.kpc,n_samples=10000)\n",
    "distance"
   ]
  },
  {
   "cell_type": "code",
   "execution_count": 4,
   "metadata": {},
   "outputs": [],
   "source": [
    "velocity = unc.uniform(center=5*u.km/u.s,width=2*u.km/u.s,n_samples=10000)"
   ]
  },
  {
   "cell_type": "markdown",
   "metadata": {},
   "source": [
    "You can also create arbitrary distributions - see the [documentation](http://docs.astropy.org/en/stable/uncertainty/index.html#creating-distributions) for more details."
   ]
  },
  {
   "cell_type": "markdown",
   "metadata": {},
   "source": [
    "The easiest way to visualize these distributions is to use the ``.distribution`` attribute of the ``Distribution`` objects, which returns the individual Monte-Carlo samples:"
   ]
  },
  {
   "cell_type": "code",
   "execution_count": 5,
   "metadata": {},
   "outputs": [
    {
     "data": {
      "text/plain": [
       "<astropy.visualization.units.quantity_support.<locals>.MplQuantityConverter at 0x194f5e648e0>"
      ]
     },
     "execution_count": 5,
     "metadata": {},
     "output_type": "execute_result"
    }
   ],
   "source": [
    "from astropy.visualization import quantity_support, hist\n",
    "quantity_support()"
   ]
  },
  {
   "cell_type": "code",
   "execution_count": 6,
   "metadata": {},
   "outputs": [
    {
     "data": {
      "text/plain": [
       "(array([  2.,   1.,   2.,   2.,   1.,   6.,   3.,   4.,   7.,   9.,  18.,\n",
       "         36.,  37.,  49.,  75.,  84.,  91., 123., 164., 197., 206., 263.,\n",
       "        314., 323., 351., 446., 459., 481., 517., 484., 509., 499., 462.,\n",
       "        455., 466., 397., 380., 321., 279., 265., 232., 203., 159., 131.,\n",
       "        117.,  79.,  79.,  64.,  41.,  26.,  30.,  13.,  10.,  14.,   6.,\n",
       "          2.,   2.,   2.,   2.]),\n",
       " array([2.07548593, 2.13847278, 2.20145962, 2.26444647, 2.32743331,\n",
       "        2.39042016, 2.453407  , 2.51639384, 2.57938069, 2.64236753,\n",
       "        2.70535438, 2.76834122, 2.83132807, 2.89431491, 2.95730176,\n",
       "        3.0202886 , 3.08327545, 3.14626229, 3.20924914, 3.27223598,\n",
       "        3.33522283, 3.39820967, 3.46119652, 3.52418336, 3.58717021,\n",
       "        3.65015705, 3.7131439 , 3.77613074, 3.83911759, 3.90210443,\n",
       "        3.96509128, 4.02807812, 4.09106497, 4.15405181, 4.21703866,\n",
       "        4.2800255 , 4.34301234, 4.40599919, 4.46898603, 4.53197288,\n",
       "        4.59495972, 4.65794657, 4.72093341, 4.78392026, 4.8469071 ,\n",
       "        4.90989395, 4.97288079, 5.03586764, 5.09885448, 5.16184133,\n",
       "        5.22482817, 5.28781502, 5.35080186, 5.41378871, 5.47677555,\n",
       "        5.5397624 , 5.60274924, 5.66573609, 5.72872293, 5.79170978]),\n",
       " <BarContainer object of 59 artists>)"
      ]
     },
     "execution_count": 6,
     "metadata": {},
     "output_type": "execute_result"
    },
    {
     "data": {
      "image/png": "[encoded data removed]",
      "text/plain": [
       "<Figure size 720x432 with 1 Axes>"
      ]
     },
     "metadata": {
      "needs_background": "light"
     },
     "output_type": "display_data"
    }
   ],
   "source": [
    "hist(distance.distribution,bins='knuth')"
   ]
  },
  {
   "cell_type": "markdown",
   "metadata": {},
   "source": [
    "## Using distributions\n",
    "\n",
    "Now that we have created a couple of distributions, we can use properties on these distributions to compute useful values:"
   ]
  },
  {
   "cell_type": "code",
   "execution_count": 7,
   "metadata": {},
   "outputs": [
    {
     "data": {
      "text/latex": [
       "$\\mathrm{kpc}$"
      ],
      "text/plain": [
       "Unit(\"kpc\")"
      ]
     },
     "execution_count": 7,
     "metadata": {},
     "output_type": "execute_result"
    }
   ],
   "source": [
    "distance.unit"
   ]
  },
  {
   "cell_type": "code",
   "execution_count": 8,
   "metadata": {},
   "outputs": [
    {
     "data": {
      "text/plain": [
       "10000"
      ]
     },
     "execution_count": 8,
     "metadata": {},
     "output_type": "execute_result"
    }
   ],
   "source": [
    "distance.n_samples"
   ]
  },
  {
   "cell_type": "code",
   "execution_count": 9,
   "metadata": {},
   "outputs": [
    {
     "data": {
      "text/latex": [
       "$4.0019852 \\; \\mathrm{kpc}$"
      ],
      "text/plain": [
       "<Quantity 4.00198516 kpc>"
      ]
     },
     "execution_count": 9,
     "metadata": {},
     "output_type": "execute_result"
    }
   ],
   "source": [
    "distance.pdf_mean()"
   ]
  },
  {
   "cell_type": "code",
   "execution_count": 10,
   "metadata": {},
   "outputs": [
    {
     "data": {
      "text/latex": [
       "$0.50157597 \\; \\mathrm{kpc}$"
      ],
      "text/plain": [
       "<Quantity 0.50157597 kpc>"
      ]
     },
     "execution_count": 10,
     "metadata": {},
     "output_type": "execute_result"
    }
   ],
   "source": [
    "distance.pdf_std()"
   ]
  },
  {
   "cell_type": "code",
   "execution_count": 11,
   "metadata": {},
   "outputs": [
    {
     "data": {
      "text/latex": [
       "$0.49345265 \\; \\mathrm{kpc}$"
      ],
      "text/plain": [
       "<Quantity 0.49345265 kpc>"
      ]
     },
     "execution_count": 11,
     "metadata": {},
     "output_type": "execute_result"
    }
   ],
   "source": [
    "distance.pdf_smad()"
   ]
  },
  {
   "cell_type": "code",
   "execution_count": null,
   "metadata": {},
   "outputs": [],
   "source": []
  },
  {
   "cell_type": "markdown",
   "metadata": {},
   "source": [
    "Distributions can be combined with quantities seamlessly:"
   ]
  },
  {
   "cell_type": "code",
   "execution_count": 12,
   "metadata": {},
   "outputs": [
    {
     "data": {
      "text/latex": [
       "$[4.3374312,~5.0959498,~5.1556819,~\\dots,~4.9257263,~5.8198112,~4.8321518] \\; \\mathrm{\\frac{km}{s}}, \\; n_{\\rm samp}=10000$"
      ],
      "text/plain": [
       "<QuantityDistribution [4.33743123, 5.09594981, 5.15568191, ..., 4.9257263 , 5.81981115,\n",
       "           4.83215178] km / s with n_samples=10000>"
      ]
     },
     "execution_count": 12,
     "metadata": {},
     "output_type": "execute_result"
    }
   ],
   "source": [
    "velocity_fixed_time = distance/(2*u.Myr)\n",
    "velocity"
   ]
  },
  {
   "cell_type": "code",
   "execution_count": 13,
   "metadata": {},
   "outputs": [
    {
     "data": {
      "text/plain": [
       "(array([  2.,   1.,   2.,   2.,   1.,   6.,   3.,   4.,   7.,   9.,  18.,\n",
       "         36.,  37.,  49.,  75.,  84.,  91., 123., 164., 197., 206., 263.,\n",
       "        314., 323., 351., 446., 459., 481., 517., 484., 509., 499., 462.,\n",
       "        455., 466., 397., 380., 321., 279., 265., 232., 203., 159., 131.,\n",
       "        117.,  79.,  79.,  64.,  41.,  26.,  30.,  13.,  10.,  14.,   6.,\n",
       "          2.,   2.,   2.,   2.]),\n",
       " array([1.03774297, 1.06923639, 1.10072981, 1.13222323, 1.16371666,\n",
       "        1.19521008, 1.2267035 , 1.25819692, 1.28969034, 1.32118377,\n",
       "        1.35267719, 1.38417061, 1.41566403, 1.44715746, 1.47865088,\n",
       "        1.5101443 , 1.54163772, 1.57313115, 1.60462457, 1.63611799,\n",
       "        1.66761141, 1.69910484, 1.73059826, 1.76209168, 1.7935851 ,\n",
       "        1.82507853, 1.85657195, 1.88806537, 1.91955879, 1.95105222,\n",
       "        1.98254564, 2.01403906, 2.04553248, 2.07702591, 2.10851933,\n",
       "        2.14001275, 2.17150617, 2.20299959, 2.23449302, 2.26598644,\n",
       "        2.29747986, 2.32897328, 2.36046671, 2.39196013, 2.42345355,\n",
       "        2.45494697, 2.4864404 , 2.51793382, 2.54942724, 2.58092066,\n",
       "        2.61241409, 2.64390751, 2.67540093, 2.70689435, 2.73838778,\n",
       "        2.7698812 , 2.80137462, 2.83286804, 2.86436147, 2.89585489]),\n",
       " <BarContainer object of 59 artists>)"
      ]
     },
     "execution_count": 13,
     "metadata": {},
     "output_type": "execute_result"
    },
    {
     "data": {
      "image/png": "[encoded data removed]",
      "text/plain": [
       "<Figure size 720x432 with 1 Axes>"
      ]
     },
     "metadata": {
      "needs_background": "light"
     },
     "output_type": "display_data"
    }
   ],
   "source": [
    "hist(velocity_fixed_time.distribution,bins='knuth')"
   ]
  },
  {
   "cell_type": "markdown",
   "metadata": {},
   "source": [
    "and distributions can also be combined with other distributions:"
   ]
  },
  {
   "cell_type": "code",
   "execution_count": 14,
   "metadata": {},
   "outputs": [
    {
     "data": {
      "text/latex": [
       "$[0.8774298,~0.94416039,~0.77129465,~\\dots,~0.77897099,~0.73876203,~0.96029944] \\; \\mathrm{\\frac{kpc\\,s}{km}}, \\; n_{\\rm samp}=10000$"
      ],
      "text/plain": [
       "<QuantityDistribution [0.8774298 , 0.94416039, 0.77129465, ..., 0.77897099, 0.73876203,\n",
       "           0.96029944] kpc s / km with n_samples=10000>"
      ]
     },
     "execution_count": 14,
     "metadata": {},
     "output_type": "execute_result"
    }
   ],
   "source": [
    "time = distance/velocity\n",
    "time"
   ]
  },
  {
   "cell_type": "code",
   "execution_count": 15,
   "metadata": {},
   "outputs": [
    {
     "data": {
      "text/plain": [
       "(array([  1.,   1.,   2.,   1.,   2.,   2.,   5.,  17.,  18.,  37.,  54.,\n",
       "         61.,  92., 118., 184., 218., 257., 309., 367., 378., 452., 432.,\n",
       "        482., 457., 425., 466., 446., 467., 446., 426., 379., 361., 352.,\n",
       "        309., 293., 279., 222., 208., 178., 129., 113., 110.,  90.,  87.,\n",
       "         65.,  51.,  40.,  22.,  21.,  23.,  10.,  14.,   9.,   3.,   1.,\n",
       "          2.,   2.,   3.,   1.]),\n",
       " array([0.35922862, 0.37604434, 0.39286007, 0.4096758 , 0.42649153,\n",
       "        0.44330726, 0.46012299, 0.47693872, 0.49375445, 0.51057018,\n",
       "        0.52738591, 0.54420164, 0.56101737, 0.5778331 , 0.59464883,\n",
       "        0.61146456, 0.62828029, 0.64509601, 0.66191174, 0.67872747,\n",
       "        0.6955432 , 0.71235893, 0.72917466, 0.74599039, 0.76280612,\n",
       "        0.77962185, 0.79643758, 0.81325331, 0.83006904, 0.84688477,\n",
       "        0.8637005 , 0.88051623, 0.89733196, 0.91414768, 0.93096341,\n",
       "        0.94777914, 0.96459487, 0.9814106 , 0.99822633, 1.01504206,\n",
       "        1.03185779, 1.04867352, 1.06548925, 1.08230498, 1.09912071,\n",
       "        1.11593644, 1.13275217, 1.1495679 , 1.16638363, 1.18319936,\n",
       "        1.20001508, 1.21683081, 1.23364654, 1.25046227, 1.267278  ,\n",
       "        1.28409373, 1.30090946, 1.31772519, 1.33454092, 1.35135665]),\n",
       " <BarContainer object of 59 artists>)"
      ]
     },
     "execution_count": 15,
     "metadata": {},
     "output_type": "execute_result"
    },
    {
     "data": {
      "image/png": "[encoded data removed]",
      "text/plain": [
       "<Figure size 720x432 with 1 Axes>"
      ]
     },
     "metadata": {
      "needs_background": "light"
     },
     "output_type": "display_data"
    }
   ],
   "source": [
    "hist(time.distribution,bins='knuth')"
   ]
  },
  {
   "cell_type": "markdown",
   "metadata": {},
   "source": [
    "Provided that the distributions have samples that match one-to-one, correlations are properly taken into account - that is, if one does:"
   ]
  },
  {
   "cell_type": "code",
   "execution_count": 16,
   "metadata": {},
   "outputs": [],
   "source": [
    "import numpy as np\n",
    "time = distance*np.sqrt(velocity)/velocity**1.5"
   ]
  },
  {
   "cell_type": "code",
   "execution_count": 17,
   "metadata": {},
   "outputs": [
    {
     "data": {
      "text/plain": [
       "(array([  1.,   1.,   2.,   1.,   2.,   2.,   5.,  17.,  18.,  37.,  54.,\n",
       "         61.,  92., 118., 184., 218., 257., 309., 367., 378., 452., 432.,\n",
       "        482., 457., 425., 466., 446., 467., 446., 426., 379., 361., 352.,\n",
       "        309., 293., 279., 222., 208., 178., 129., 113., 110.,  90.,  87.,\n",
       "         65.,  51.,  40.,  22.,  21.,  23.,  10.,  14.,   9.,   3.,   1.,\n",
       "          2.,   2.,   3.,   1.]),\n",
       " array([0.35922862, 0.37604434, 0.39286007, 0.4096758 , 0.42649153,\n",
       "        0.44330726, 0.46012299, 0.47693872, 0.49375445, 0.51057018,\n",
       "        0.52738591, 0.54420164, 0.56101737, 0.5778331 , 0.59464883,\n",
       "        0.61146456, 0.62828029, 0.64509601, 0.66191174, 0.67872747,\n",
       "        0.6955432 , 0.71235893, 0.72917466, 0.74599039, 0.76280612,\n",
       "        0.77962185, 0.79643758, 0.81325331, 0.83006904, 0.84688477,\n",
       "        0.8637005 , 0.88051623, 0.89733196, 0.91414768, 0.93096341,\n",
       "        0.94777914, 0.96459487, 0.9814106 , 0.99822633, 1.01504206,\n",
       "        1.03185779, 1.04867352, 1.06548925, 1.08230498, 1.09912071,\n",
       "        1.11593644, 1.13275217, 1.1495679 , 1.16638363, 1.18319936,\n",
       "        1.20001508, 1.21683081, 1.23364654, 1.25046227, 1.267278  ,\n",
       "        1.28409373, 1.30090946, 1.31772519, 1.33454092, 1.35135665]),\n",
       " <BarContainer object of 59 artists>)"
      ]
     },
     "execution_count": 17,
     "metadata": {},
     "output_type": "execute_result"
    },
    {
     "data": {
      "image/png": "[encoded data removed]",
      "text/plain": [
       "<Figure size 720x432 with 1 Axes>"
      ]
     },
     "metadata": {
      "needs_background": "light"
     },
     "output_type": "display_data"
    }
   ],
   "source": [
    "hist(time.distribution,bins='knuth')"
   ]
  },
  {
   "cell_type": "markdown",
   "metadata": {},
   "source": [
    "Note that this is only the case if the samples match one to one (see [this section](http://docs.astropy.org/en/stable/uncertainty/index.html#covariance-in-distributions-and-discrete-sampling-effects) in the documentation for more details about this)."
   ]
  },
  {
   "cell_type": "code",
   "execution_count": null,
   "metadata": {},
   "outputs": [],
   "source": []
  },
  {
   "cell_type": "markdown",
   "metadata": {},
   "source": [
    "<center><i>This notebook was originally written by <a href=\"https://aperiosoftware.com/\">Aperio Software Ltd</a> and modified by Brigitta Sipőcz. &copy; 2019-2021 and is licensed under a <a href=\"https://creativecommons.org/licenses/by/4.0/\">Creative Commons Attribution 4.0 International License (CC BY 4.0)</a></i></center>\n",
    "\n",
    "![cc](https://mirrors.creativecommons.org/presskit/buttons/88x31/svg/by.svg)"
   ]
  },
  {
   "cell_type": "code",
   "execution_count": null,
   "metadata": {},
   "outputs": [],
   "source": []
  }
 ],
 "metadata": {
  "kernelspec": {
   "display_name": "Python 3",
   "language": "python",
   "name": "python3"
  },
  "language_info": {
   "codemirror_mode": {
    "name": "ipython",
    "version": 3
   },
   "file_extension": ".py",
   "mimetype": "text/x-python",
   "name": "python",
   "nbconvert_exporter": "python",
   "pygments_lexer": "ipython3",
   "version": "3.8.8"
  },
  "toc": {
   "base_numbering": 1,
   "nav_menu": {},
   "number_sections": true,
   "sideBar": true,
   "skip_h1_title": false,
   "title_cell": "Table of Contents",
   "title_sidebar": "Contents",
   "toc_cell": false,
   "toc_position": {},
   "toc_section_display": true,
   "toc_window_display": false
  }
 },
 "nbformat": 4,
 "nbformat_minor": 1
}
