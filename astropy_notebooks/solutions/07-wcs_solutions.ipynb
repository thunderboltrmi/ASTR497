{
 "cells": [
  {
   "cell_type": "markdown",
   "metadata": {},
   "source": [
    "# WCS Transformations\n",
    "\n",
    "As we've seen in the FITS tutorial, FITS file headers often include information about the coordinate system of the data. This is referred to as World Coordinate System (WCS) information. The [astropy.wcs](http://docs.astropy.org/en/stable/wcs/index.html) sub-package wraps the standard [WCSLIB](https://www.atnf.csiro.au/people/mcalabre/WCS/) library and provides an easy way to convert from pixel to world coordinates and back."
   ]
  },
  {
   "cell_type": "markdown",
   "metadata": {},
   "source": [
    "\n",
    "<section class=\"objectives panel panel-warning\">\n",
    "<div class=\"panel-heading\">\n",
    "<h2><span class=\"fa fa-certificate\"></span> Objectives</h2>\n",
    "</div>\n",
    "\n",
    "\n",
    "<div class=\"panel-body\">\n",
    "\n",
    "<ul>\n",
    "<li>Representing FITS WCS transformations</li>\n",
    "<li>Converting between pixel and world coordinates (scalars and arrays)</li>\n",
    "<li>Using high-level coordinate objects such as SkyCoord</li>\n",
    "</ul>\n",
    "\n",
    "</div>\n",
    "\n",
    "</section>\n"
   ]
  },
  {
   "cell_type": "markdown",
   "metadata": {},
   "source": [
    "## Documentation\n",
    "\n",
    "This notebook only shows a subset of the functionality in astropy.wcs. For more information about the features presented below as well as other available features, you can read the\n",
    "[astropy.wcs documentation](https://docs.astropy.org/en/stable/wcs/)."
   ]
  },
  {
   "cell_type": "code",
   "execution_count": 1,
   "metadata": {},
   "outputs": [],
   "source": [
    "%matplotlib inline\n",
    "import matplotlib.pyplot as plt\n",
    "plt.rc('image', origin='lower')\n",
    "plt.rc('figure', figsize=(10, 6))"
   ]
  },
  {
   "cell_type": "markdown",
   "metadata": {},
   "source": [
    "## Data\n",
    "\n",
    "For this tutorial we will use the same FITS image that we used for the FITS tutorial, namely the [data/LMCDensFits1k.fits](data/LMCDensFits1k.fits) FITS file which was downloaded from http://www.sim.ul.pt/gaia/dr1/gallery/, and which contains the density of sources in the Gaia DR1 release towards the Large Magellanic Cloud (LMC), as well as the [data/gaia_lmc_psc.fits](data/gaia_lmc_psc.fits) file which contains the result of a table query in the GAIA archive."
   ]
  },
  {
   "cell_type": "markdown",
   "metadata": {},
   "source": [
    "## Representing WCS transformations\n",
    "\n",
    "The World Coordinate System standard is often used in FITS files in order to describe the conversion from pixel to world (e.g. equatorial, galactic, etc.) coordinates. Given a FITS file with WCS information, such as [data/LMCDensFits1k.fits](data/LMCDensFits1k.fits), we can create an object to represent the WCS transformation either by directly supplying the filename:"
   ]
  },
  {
   "cell_type": "code",
   "execution_count": 2,
   "metadata": {},
   "outputs": [],
   "source": [
    "from astropy.wcs import WCS\n",
    "wcs = WCS('../data/LMCDensFits1k.fits')\n",
    "\n",
    "import os.path\n",
    "wcs = WCS(os.path.join('..','data','LMCDensFits1k.fits'))"
   ]
  },
  {
   "cell_type": "markdown",
   "metadata": {},
   "source": [
    "or by passing a Header object:"
   ]
  },
  {
   "cell_type": "code",
   "execution_count": 3,
   "metadata": {},
   "outputs": [],
   "source": [
    "from astropy.io import fits\n",
    "hdulist = fits.open('../data/LMCDensFits1k.fits')\n",
    "wcs = WCS(hdulist[0].header)"
   ]
  },
  {
   "cell_type": "markdown",
   "metadata": {},
   "source": [
    "The result is an object representing the WCS transformation:"
   ]
  },
  {
   "cell_type": "code",
   "execution_count": 4,
   "metadata": {},
   "outputs": [
    {
     "data": {
      "text/plain": [
       "WCS Keywords\n",
       "\n",
       "Number of WCS axes: 2\n",
       "CTYPE : 'GLON-SIN'  'GLAT-SIN'  \n",
       "CRVAL : 280.319239  -32.8378823  \n",
       "CRPIX : 500.0  375.0  \n",
       "PC1_1 PC1_2  : 1.0  0.0  \n",
       "PC2_1 PC2_2  : 0.0  1.0  \n",
       "CDELT : -0.014  0.014  \n",
       "NAXIS : 1000  750"
      ]
     },
     "execution_count": 4,
     "metadata": {},
     "output_type": "execute_result"
    }
   ],
   "source": [
    "wcs"
   ]
  },
  {
   "cell_type": "markdown",
   "metadata": {},
   "source": [
    "## Pixel to World and World to Pixel transformations\n",
    "\n",
    "Once the WCS object has been created, you can use the following methods to convert pixel to world coordinates:"
   ]
  },
  {
   "cell_type": "code",
   "execution_count": 5,
   "metadata": {},
   "outputs": [],
   "source": [
    "wx, wy = wcs.wcs_pix2world(250., 100., 0)"
   ]
  },
  {
   "cell_type": "code",
   "execution_count": 6,
   "metadata": {},
   "outputs": [
    {
     "name": "stdout",
     "output_type": "stream",
     "text": [
      "284.66588800296825 -36.604857691421486\n"
     ]
    }
   ],
   "source": [
    "print(wx, wy)"
   ]
  },
  {
   "cell_type": "markdown",
   "metadata": {},
   "source": [
    "This converts the pixel coordinates (250, 100) to the native world coordinate system of the transformation. Note the third argument, set to 0, which indicates whether the pixel coordinates should be treated as starting from (1, 1) (as FITS files do) or from (0, 0).\n",
    "\n",
    "Converting from world to pixel coordinates is similar:"
   ]
  },
  {
   "cell_type": "code",
   "execution_count": 7,
   "metadata": {},
   "outputs": [],
   "source": [
    "px, py = wcs.wcs_world2pix(285., -36., 0)"
   ]
  },
  {
   "cell_type": "code",
   "execution_count": 8,
   "metadata": {},
   "outputs": [
    {
     "name": "stdout",
     "output_type": "stream",
     "text": [
      "228.81397242737341 142.26113022170344\n"
     ]
    }
   ],
   "source": [
    "print(px, py)"
   ]
  },
  {
   "cell_type": "markdown",
   "metadata": {},
   "source": [
    "## Working with arrays\n",
    "\n",
    "You can pass arrays of coordinates to the above functions:"
   ]
  },
  {
   "cell_type": "code",
   "execution_count": 9,
   "metadata": {},
   "outputs": [],
   "source": [
    "import numpy as np\n",
    "px = np.linspace(200., 300., 10)\n",
    "py = np.repeat(100., 10)\n",
    "wx, wy = wcs.wcs_pix2world(px, py, 0)"
   ]
  },
  {
   "cell_type": "code",
   "execution_count": 10,
   "metadata": {},
   "outputs": [
    {
     "name": "stdout",
     "output_type": "stream",
     "text": [
      "[285.53877268 285.34479532 285.15081974 284.95684585 284.76287357\n",
      " 284.56890281 284.37493348 284.18096552 283.98699883 283.79303335]\n"
     ]
    }
   ],
   "source": [
    "print(wx)"
   ]
  },
  {
   "cell_type": "markdown",
   "metadata": {},
   "source": [
    "## Working with high-level coordinate objects\n",
    "\n",
    "In the above examples, the world coordinates are represented as floating point values or arrays of floating point values. In practice, you may instead want to work with e.g. ``SkyCoord`` or ``Quantity`` objects. As of astropy v3.1, there are now methods to allow you to easily do this:"
   ]
  },
  {
   "cell_type": "code",
   "execution_count": 11,
   "metadata": {},
   "outputs": [
    {
     "data": {
      "text/plain": [
       "<SkyCoord (Galactic): (l, b) in deg\n",
       "    (288.59789828, -37.26059622)>"
      ]
     },
     "execution_count": 11,
     "metadata": {},
     "output_type": "execute_result"
    }
   ],
   "source": [
    "wcs.pixel_to_world(30, 40)"
   ]
  },
  {
   "cell_type": "code",
   "execution_count": 12,
   "metadata": {},
   "outputs": [
    {
     "data": {
      "text/plain": [
       "<SkyCoord (Galactic): (l, b) in deg\n",
       "    [(285.53877268, -36.57306338), (285.34479532, -36.58063137),\n",
       "     (285.15081974, -36.5879121 ), (284.95684585, -36.59490565),\n",
       "     (284.76287357, -36.60161211), (284.56890281, -36.60803153),\n",
       "     (284.37493348, -36.614164  ), (284.18096552, -36.62000959),\n",
       "     (283.98699883, -36.62556836), (283.79303335, -36.63084037)]>"
      ]
     },
     "execution_count": 12,
     "metadata": {},
     "output_type": "execute_result"
    }
   ],
   "source": [
    "wcs.pixel_to_world(px, py)"
   ]
  },
  {
   "cell_type": "code",
   "execution_count": 13,
   "metadata": {},
   "outputs": [
    {
     "data": {
      "text/plain": [
       "(array(550.91776949), array(457.06964436))"
      ]
     },
     "execution_count": 13,
     "metadata": {},
     "output_type": "execute_result"
    }
   ],
   "source": [
    "from astropy.coordinates import SkyCoord\n",
    "px, py = wcs.world_to_pixel(SkyCoord.from_name('30 Dor'))\n",
    "px, py"
   ]
  },
  {
   "cell_type": "markdown",
   "metadata": {},
   "source": [
    "Note that in this interface, you don't need to specify the '0' or '1' value - all pixel coordinates are assumed to be zero-based."
   ]
  },
  {
   "cell_type": "markdown",
   "metadata": {},
   "source": [
    "\n",
    "<section class=\"challenge panel panel-success\">\n",
    "<div class=\"panel-heading\">\n",
    "<h2><span class=\"fa fa-pencil\"></span> Challenge</h2>\n",
    "</div>\n",
    "\n",
    "\n",
    "<div class=\"panel-body\">\n",
    "\n",
    "<p>Find the position of all the stars in the <a href=\"data/gaia_lmc_psc.fits\">data/gaia_lmc_psc.fits</a> catalog in pixel coordinates, and overplot them on the image (you'll need to use things we have learned in previous tutorials).</p>\n",
    "\n",
    "</div>\n",
    "\n",
    "</section>\n"
   ]
  },
  {
   "cell_type": "code",
   "execution_count": 29,
   "metadata": {},
   "outputs": [
    {
     "data": {
      "text/plain": [
       "[<matplotlib.lines.Line2D at 0x1c7e699bf10>]"
      ]
     },
     "execution_count": 29,
     "metadata": {},
     "output_type": "execute_result"
    },
    {
     "data": {
      "image/png": "[encoded data removed]",
      "text/plain": [
       "<Figure size 720x432 with 1 Axes>"
      ]
     },
     "metadata": {
      "needs_background": "light"
     },
     "output_type": "display_data"
    }
   ],
   "source": [
    "from astropy.io import fits\n",
    "from astropy.wcs import WCS\n",
    "from astropy.coordinates import SkyCoord\n",
    "\n",
    "hdulist = fits.open('../data/LMCDensFits1k.fits')\n",
    "wcs = WCS(hdulist[0].header)\n",
    "\n",
    "gaia_stars = fits.open('../data/gaia_lmc_psc.fits')\n",
    "#wcs_gaia = Not available in the table, it has coordinate columns\n",
    "#gaia_stars[1].data['ra']\n",
    "#gaia_stars[1].data['dec']\n",
    "\n",
    "coord = SkyCoord(gaia_stars[1].data['ra'],gaia_stars[1].data['dec'],unit='deg')\n",
    "\n",
    "px, py = wcs.world_to_pixel(coord)\n",
    "\n",
    "plt.imshow(hdulist[0].data)\n",
    "\n",
    "plt.plot(px,py,'.')\n",
    "\n",
    "x, y = wcs.wcs_world2pix(gaia_stars[1].data['ra'],gaia_stars[1].data['dec'],0)\n",
    "plt.plot(x,y,'.')"
   ]
  },
  {
   "cell_type": "markdown",
   "metadata": {},
   "source": [
    "<center><i>This notebook was originally written by <a href=\"https://aperiosoftware.com/\">Aperio Software Ltd</a> and modified by Brigitta Sipőcz. &copy; 2019-2021 and is licensed under a <a href=\"https://creativecommons.org/licenses/by/4.0/\">Creative Commons Attribution 4.0 International License (CC BY 4.0)</a></i></center>\n",
    "\n",
    "![cc](https://mirrors.creativecommons.org/presskit/buttons/88x31/svg/by.svg)"
   ]
  },
  {
   "cell_type": "code",
   "execution_count": 20,
   "metadata": {},
   "outputs": [
    {
     "name": "stdout",
     "output_type": "stream",
     "text": [
      "Filename: ../data/gaia_lmc_psc.fits\n",
      "No.    Name      Ver    Type      Cards   Dimensions   Format\n",
      "  0  PRIMARY       1 PrimaryHDU       5   ()      \n",
      "  1                1 BinTableHDU     39   1226R x 14C   ['K', 'D', 'D', 'D', 'D', 'D', 'D', 'E', 'E', 'D', 'D', '13A', 'E', 'E']   \n"
     ]
    }
   ],
   "source": [
    "gaia_stars.info()"
   ]
  },
  {
   "cell_type": "code",
   "execution_count": 26,
   "metadata": {},
   "outputs": [
    {
     "data": {
      "text/plain": [
       "(array([352.53499684, 320.17077224, 324.09088298, ..., 475.51610259,\n",
       "        475.8079697 , 488.69807763]),\n",
       " array([534.7267163 , 254.35061547, 248.4197497 , ..., 153.25349821,\n",
       "        141.77167538, 141.4054696 ]))"
      ]
     },
     "execution_count": 26,
     "metadata": {},
     "output_type": "execute_result"
    }
   ],
   "source": [
    "px,py"
   ]
  },
  {
   "cell_type": "code",
   "execution_count": 21,
   "metadata": {},
   "outputs": [
    {
     "data": {
      "text/plain": [
       "XTENSION= 'BINTABLE'           / binary table extension                         \n",
       "BITPIX  =                    8 / 8-bit bytes                                    \n",
       "NAXIS   =                    2 / 2-dimensional table                            \n",
       "NAXIS1  =                  101 / width of table in bytes                        \n",
       "NAXIS2  =                 1226 / number of rows in table                        \n",
       "PCOUNT  =                    0 / size of special data area                      \n",
       "GCOUNT  =                    1 / one data group                                 \n",
       "TFIELDS =                   14 / number of columns                              \n",
       "TTYPE1  = 'source_id'          / label for column 1                             \n",
       "TFORM1  = 'K       '           / format for column 1                            \n",
       "TTYPE2  = 'ra      '           / label for column 2                             \n",
       "TFORM2  = 'D       '           / format for column 2                            \n",
       "TTYPE3  = 'ra_error'           / label for column 3                             \n",
       "TFORM3  = 'D       '           / format for column 3                            \n",
       "TTYPE4  = 'dec     '           / label for column 4                             \n",
       "TFORM4  = 'D       '           / format for column 4                            \n",
       "TTYPE5  = 'dec_error'          / label for column 5                             \n",
       "TFORM5  = 'D       '           / format for column 5                            \n",
       "TTYPE6  = 'parallax'           / label for column 6                             \n",
       "TFORM6  = 'D       '           / format for column 6                            \n",
       "TTYPE7  = 'parallax_error'     / label for column 7                             \n",
       "TFORM7  = 'D       '           / format for column 7                            \n",
       "TTYPE8  = 'phot_g_mean_mag'    / label for column 8                             \n",
       "TFORM8  = 'E       '           / format for column 8                            \n",
       "TTYPE9  = 'bp_rp   '           / label for column 9                             \n",
       "TFORM9  = 'E       '           / format for column 9                            \n",
       "TTYPE10 = 'radial_velocity'    / label for column 10                            \n",
       "TFORM10 = 'D       '           / format for column 10                           \n",
       "TTYPE11 = 'radial_velocity_error' / label for column 11                         \n",
       "TFORM11 = 'D       '           / format for column 11                           \n",
       "TTYPE12 = 'phot_variable_flag' / label for column 12                            \n",
       "TFORM12 = '13A     '           / format for column 12                           \n",
       "TTYPE13 = 'teff_val'           / label for column 13                            \n",
       "TFORM13 = 'E       '           / format for column 13                           \n",
       "TTYPE14 = 'a_g_val '           / label for column 14                            \n",
       "TFORM14 = 'E       '           / format for column 14                           \n",
       "DATE-HDU= '2019-10-17T11:58:34' / Date of HDU creation (UTC)                    \n",
       "STILVERS= '3.2-3   '           / Version of STIL software                       \n",
       "STILCLAS= 'uk.ac.starlink.fits.FitsTableWriter' / STIL Author class             "
      ]
     },
     "execution_count": 21,
     "metadata": {},
     "output_type": "execute_result"
    }
   ],
   "source": [
    "gaia_stars[1].header"
   ]
  },
  {
   "cell_type": "code",
   "execution_count": null,
   "metadata": {},
   "outputs": [],
   "source": []
  }
 ],
 "metadata": {
  "kernelspec": {
   "display_name": "Python 3",
   "language": "python",
   "name": "python3"
  },
  "language_info": {
   "codemirror_mode": {
    "name": "ipython",
    "version": 3
   },
   "file_extension": ".py",
   "mimetype": "text/x-python",
   "name": "python",
   "nbconvert_exporter": "python",
   "pygments_lexer": "ipython3",
   "version": "3.8.8"
  },
  "toc": {
   "base_numbering": 1,
   "nav_menu": {},
   "number_sections": true,
   "sideBar": true,
   "skip_h1_title": false,
   "title_cell": "Table of Contents",
   "title_sidebar": "Contents",
   "toc_cell": false,
   "toc_position": {},
   "toc_section_display": true,
   "toc_window_display": true
  }
 },
 "nbformat": 4,
 "nbformat_minor": 1
}
