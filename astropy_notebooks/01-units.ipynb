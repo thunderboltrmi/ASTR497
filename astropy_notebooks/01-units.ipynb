{
 "cells": [
  {
   "cell_type": "markdown",
   "metadata": {},
   "source": [
    "# Units, Quantities, and Constants\n",
    "\n",
    "The [astropy.units](https://docs.astropy.org/en/stable/units/) sub-package in astropy provides a way to define units and quantities (values or arrays with a unit attached), as well as a way to convert between them. It supports advanced features such as equivalencies to convert between units that are not strictly equivalent (e.g. various spectral coordinates) as well as e.g. logarithmic units."
   ]
  },
  {
   "cell_type": "markdown",
   "metadata": {},
   "source": [
    "\n",
    "<section class=\"objectives panel panel-warning\">\n",
    "<div class=\"panel-heading\">\n",
    "<h2><span class=\"fa fa-certificate\"></span> Objectives</h2>\n",
    "</div>\n",
    "\n",
    "\n",
    "<div class=\"panel-body\">\n",
    "\n",
    "<ul>\n",
    "<li>Access units and create quantities</li>\n",
    "<li>Combine quantities together</li>\n",
    "<li>Convert quantities to different units</li>\n",
    "<li>Understand and use equivalencies</li>\n",
    "<li>Use logarithmic units</li>\n",
    "<li>Plot quantities with units</li>\n",
    "</ul>\n",
    "\n",
    "</div>\n",
    "\n",
    "</section>\n"
   ]
  },
  {
   "cell_type": "markdown",
   "metadata": {},
   "source": [
    "## Documentation\n",
    "\n",
    "This notebook only shows a subset of the functionality in astropy.units. For more information about the features presented below as well as other available features, you can read the\n",
    "[astropy.units documentation](https://docs.astropy.org/en/stable/units/)."
   ]
  },
  {
   "cell_type": "code",
   "execution_count": 1,
   "metadata": {},
   "outputs": [],
   "source": [
    "%matplotlib inline\n",
    "import matplotlib.pyplot as plt\n",
    "plt.rc('image', origin='lower')\n",
    "plt.rc('figure', figsize=(10, 6))"
   ]
  },
  {
   "cell_type": "markdown",
   "metadata": {},
   "source": [
    "## Representing units and quantities\n",
    "\n",
    "Astropy includes a framework that allows users to attach units to scalars and arrays, and manipulate/combine these, keeping track of the units.\n",
    "\n",
    "Since we may want to use a number of units in expressions, it is easiest and most concise to import the units module with:"
   ]
  },
  {
   "cell_type": "code",
   "execution_count": 2,
   "metadata": {},
   "outputs": [],
   "source": [
    "import astropy.units as u"
   ]
  },
  {
   "cell_type": "markdown",
   "metadata": {},
   "source": [
    "Units can then be accessed with:"
   ]
  },
  {
   "cell_type": "code",
   "execution_count": 3,
   "metadata": {},
   "outputs": [
    {
     "data": {
      "text/latex": [
       "$\\mathrm{m}$"
      ],
      "text/plain": [
       "Unit(\"m\")"
      ]
     },
     "execution_count": 3,
     "metadata": {},
     "output_type": "execute_result"
    }
   ],
   "source": [
    "u.m"
   ]
  },
  {
   "cell_type": "code",
   "execution_count": 4,
   "metadata": {},
   "outputs": [
    {
     "data": {
      "text/latex": [
       "$\\mathrm{pc}$"
      ],
      "text/plain": [
       "Unit(\"pc\")"
      ]
     },
     "execution_count": 4,
     "metadata": {},
     "output_type": "execute_result"
    }
   ],
   "source": [
    "u.pc"
   ]
  },
  {
   "cell_type": "code",
   "execution_count": 5,
   "metadata": {},
   "outputs": [
    {
     "data": {
      "text/latex": [
       "$\\mathrm{s}$"
      ],
      "text/plain": [
       "Unit(\"s\")"
      ]
     },
     "execution_count": 5,
     "metadata": {},
     "output_type": "execute_result"
    }
   ],
   "source": [
    "u.s"
   ]
  },
  {
   "cell_type": "code",
   "execution_count": 6,
   "metadata": {},
   "outputs": [
    {
     "data": {
      "text/latex": [
       "$\\mathrm{kg}$"
      ],
      "text/plain": [
       "Unit(\"kg\")"
      ]
     },
     "execution_count": 6,
     "metadata": {},
     "output_type": "execute_result"
    }
   ],
   "source": [
    "u.kg"
   ]
  },
  {
   "cell_type": "markdown",
   "metadata": {},
   "source": [
    "We can also create composite units:"
   ]
  },
  {
   "cell_type": "code",
   "execution_count": 7,
   "metadata": {},
   "outputs": [
    {
     "data": {
      "text/latex": [
       "$\\mathrm{\\frac{m}{kg\\,s^{2}}}$"
      ],
      "text/plain": [
       "Unit(\"m / (kg s2)\")"
      ]
     },
     "execution_count": 7,
     "metadata": {},
     "output_type": "execute_result"
    }
   ],
   "source": [
    "u.m / u.kg / u.s**2"
   ]
  },
  {
   "cell_type": "markdown",
   "metadata": {},
   "source": [
    "The most useful feature about the units is the ability to attach them to scalars or arrays, creating ``Quantity`` objects:"
   ]
  },
  {
   "cell_type": "code",
   "execution_count": 8,
   "metadata": {},
   "outputs": [
    {
     "data": {
      "text/latex": [
       "$3 \\; \\mathrm{Myr}$"
      ],
      "text/plain": [
       "<Quantity 3. Myr>"
      ]
     },
     "execution_count": 8,
     "metadata": {},
     "output_type": "execute_result"
    }
   ],
   "source": [
    "time = 3 * u.Myr\n",
    "time"
   ]
  },
  {
   "cell_type": "code",
   "execution_count": 9,
   "metadata": {},
   "outputs": [
    {
     "data": {
      "text/latex": [
       "$[4,~5,~6] \\; \\mathrm{kg}$"
      ],
      "text/plain": [
       "<Quantity [4., 5., 6.] kg>"
      ]
     },
     "execution_count": 9,
     "metadata": {},
     "output_type": "execute_result"
    }
   ],
   "source": [
    "weights = [4, 5, 6] * u.kg\n",
    "weights"
   ]
  },
  {
   "cell_type": "code",
   "execution_count": 10,
   "metadata": {},
   "outputs": [
    {
     "data": {
      "text/latex": [
       "$[1.2,~2.2,~1.7] \\; \\mathrm{kpc}$"
      ],
      "text/plain": [
       "<Quantity [1.2, 2.2, 1.7] kpc>"
      ]
     },
     "execution_count": 10,
     "metadata": {},
     "output_type": "execute_result"
    }
   ],
   "source": [
    "import numpy as np\n",
    "distance = np.array([1.2, 2.2, 1.7]) * u.kpc\n",
    "distance"
   ]
  },
  {
   "cell_type": "markdown",
   "metadata": {},
   "source": [
    "and we can use this with composite units:"
   ]
  },
  {
   "cell_type": "code",
   "execution_count": 11,
   "metadata": {},
   "outputs": [
    {
     "data": {
      "text/latex": [
       "$75 \\; \\mathrm{\\frac{km}{Mpc\\,s}}$"
      ],
      "text/plain": [
       "<Quantity 75. km / (Mpc s)>"
      ]
     },
     "execution_count": 11,
     "metadata": {},
     "output_type": "execute_result"
    }
   ],
   "source": [
    "H0 = 75 * u.km / u.s / u.Mpc\n",
    "H0 #Hubble Constant"
   ]
  },
  {
   "cell_type": "markdown",
   "metadata": {},
   "source": [
    "We can access the unit and the value of a quantity separately:"
   ]
  },
  {
   "cell_type": "code",
   "execution_count": 12,
   "metadata": {},
   "outputs": [
    {
     "data": {
      "text/plain": [
       "75.0"
      ]
     },
     "execution_count": 12,
     "metadata": {},
     "output_type": "execute_result"
    }
   ],
   "source": [
    "H0.value"
   ]
  },
  {
   "cell_type": "code",
   "execution_count": 13,
   "metadata": {},
   "outputs": [
    {
     "data": {
      "text/latex": [
       "$\\mathrm{\\frac{km}{Mpc\\,s}}$"
      ],
      "text/plain": [
       "Unit(\"km / (Mpc s)\")"
      ]
     },
     "execution_count": 13,
     "metadata": {},
     "output_type": "execute_result"
    }
   ],
   "source": [
    "H0.unit"
   ]
  },
  {
   "cell_type": "markdown",
   "metadata": {},
   "source": [
    "Finally, note that 'imperial' units can be accessed using:"
   ]
  },
  {
   "cell_type": "code",
   "execution_count": 15,
   "metadata": {},
   "outputs": [
    {
     "data": {
      "text/latex": [
       "$\\mathrm{gallon}$"
      ],
      "text/plain": [
       "Unit(\"gallon\")"
      ]
     },
     "execution_count": 15,
     "metadata": {},
     "output_type": "execute_result"
    }
   ],
   "source": [
    "from astropy.units import imperial\n",
    "imperial.gallon"
   ]
  },
  {
   "cell_type": "code",
   "execution_count": null,
   "metadata": {},
   "outputs": [],
   "source": []
  },
  {
   "cell_type": "markdown",
   "metadata": {},
   "source": [
    "## Combining and converting quantities\n",
    "\n",
    "Quantities can be combined via standard arithmetic - for example multiplication and division will result in the units being combined:"
   ]
  },
  {
   "cell_type": "code",
   "execution_count": 16,
   "metadata": {},
   "outputs": [
    {
     "data": {
      "text/latex": [
       "$[0.4,~0.73333333,~0.56666667] \\; \\mathrm{\\frac{kpc}{Myr}}$"
      ],
      "text/plain": [
       "<Quantity [0.4       , 0.73333333, 0.56666667] kpc / Myr>"
      ]
     },
     "execution_count": 16,
     "metadata": {},
     "output_type": "execute_result"
    }
   ],
   "source": [
    "speed = distance/time\n",
    "speed"
   ]
  },
  {
   "cell_type": "markdown",
   "metadata": {},
   "source": [
    "while addition and subtraction will work only if the units are compatible:"
   ]
  },
  {
   "cell_type": "code",
   "execution_count": 17,
   "metadata": {},
   "outputs": [
    {
     "data": {
      "text/latex": [
       "$0.29 \\; \\mathrm{Mpc}$"
      ],
      "text/plain": [
       "<Quantity 0.29 Mpc>"
      ]
     },
     "execution_count": 17,
     "metadata": {},
     "output_type": "execute_result"
    }
   ],
   "source": [
    "start_distance = 10*u.kpc\n",
    "end_distance = 0.3*u.Mpc\n",
    "end_distance-start_distance"
   ]
  },
  {
   "cell_type": "markdown",
   "metadata": {},
   "source": [
    "Quantities can be converted to different units using ``.to``:"
   ]
  },
  {
   "cell_type": "code",
   "execution_count": 18,
   "metadata": {},
   "outputs": [
    {
     "data": {
      "text/latex": [
       "$[391.11689,~717.04763,~554.08226] \\; \\mathrm{\\frac{km}{s}}$"
      ],
      "text/plain": [
       "<Quantity [391.11688867, 717.04762923, 554.08225895] km / s>"
      ]
     },
     "execution_count": 18,
     "metadata": {},
     "output_type": "execute_result"
    }
   ],
   "source": [
    "speed.to(u.km/u.s)"
   ]
  },
  {
   "cell_type": "code",
   "execution_count": 19,
   "metadata": {},
   "outputs": [
    {
     "data": {
      "text/latex": [
       "$[82.505922,~151.26086,~116.88339] \\; \\mathrm{\\frac{AU}{yr}}$"
      ],
      "text/plain": [
       "<Quantity [ 82.5059225 , 151.26085791, 116.88339021] AU / yr>"
      ]
     },
     "execution_count": 19,
     "metadata": {},
     "output_type": "execute_result"
    }
   ],
   "source": [
    "speed.to(u.au/u.year)"
   ]
  },
  {
   "cell_type": "markdown",
   "metadata": {},
   "source": [
    "There are also convenience attributes to convert quantities to e.g. SI and cgs units:"
   ]
  },
  {
   "cell_type": "code",
   "execution_count": 20,
   "metadata": {},
   "outputs": [
    {
     "data": {
      "text/latex": [
       "$[391116.89,~717047.63,~554082.26] \\; \\mathrm{\\frac{m}{s}}$"
      ],
      "text/plain": [
       "<Quantity [391116.88867232, 717047.62923258, 554082.25895245] m / s>"
      ]
     },
     "execution_count": 20,
     "metadata": {},
     "output_type": "execute_result"
    }
   ],
   "source": [
    "speed.si"
   ]
  },
  {
   "cell_type": "code",
   "execution_count": 21,
   "metadata": {},
   "outputs": [
    {
     "data": {
      "text/latex": [
       "$[39111689,~71704763,~55408226] \\; \\mathrm{\\frac{cm}{s}}$"
      ],
      "text/plain": [
       "<Quantity [39111688.86723156, 71704762.92325787, 55408225.89524472] cm / s>"
      ]
     },
     "execution_count": 21,
     "metadata": {},
     "output_type": "execute_result"
    }
   ],
   "source": [
    "speed.cgs"
   ]
  },
  {
   "cell_type": "markdown",
   "metadata": {},
   "source": [
    "Finally, by default units will not be simplified - but you can use the ``.decompose()`` method for this:"
   ]
  },
  {
   "cell_type": "code",
   "execution_count": 22,
   "metadata": {},
   "outputs": [
    {
     "data": {
      "text/latex": [
       "$[0.0053333333,~0.0097777778,~0.0075555556] \\; \\mathrm{\\frac{Mpc\\,kpc\\,s}{Myr\\,km}}$"
      ],
      "text/plain": [
       "<Quantity [0.00533333, 0.00977778, 0.00755556] kpc Mpc s / (km Myr)>"
      ]
     },
     "execution_count": 22,
     "metadata": {},
     "output_type": "execute_result"
    }
   ],
   "source": [
    "speed/H0"
   ]
  },
  {
   "cell_type": "code",
   "execution_count": 23,
   "metadata": {},
   "outputs": [
    {
     "data": {
      "text/latex": [
       "$[1.6091475 \\times 10^{23},~2.9501037 \\times 10^{23},~2.2796256 \\times 10^{23}] \\; \\mathrm{m}$"
      ],
      "text/plain": [
       "<Quantity [1.60914749e+23, 2.95010373e+23, 2.27962561e+23] m>"
      ]
     },
     "execution_count": 23,
     "metadata": {},
     "output_type": "execute_result"
    }
   ],
   "source": [
    "(speed/H0).decompose()"
   ]
  },
  {
   "cell_type": "markdown",
   "metadata": {},
   "source": [
    "or you can convert directly to the desired unit:"
   ]
  },
  {
   "cell_type": "code",
   "execution_count": 25,
   "metadata": {},
   "outputs": [
    {
     "data": {
      "text/latex": [
       "$[5.2148918,~9.5606351,~7.3877635] \\; \\mathrm{Mpc}$"
      ],
      "text/plain": [
       "<Quantity [5.21489185, 9.56063506, 7.38776345] Mpc>"
      ]
     },
     "execution_count": 25,
     "metadata": {},
     "output_type": "execute_result"
    }
   ],
   "source": [
    "(speed/H0).to(u.Mpc)"
   ]
  },
  {
   "cell_type": "markdown",
   "metadata": {},
   "source": [
    "\n",
    "<section class=\"challenge panel panel-success\">\n",
    "<div class=\"panel-heading\">\n",
    "<h2><span class=\"fa fa-pencil\"></span> Challenge: Unit conversions</h2>\n",
    "</div>\n",
    "\n",
    "\n",
    "<div class=\"panel-body\">\n",
    "\n",
    "<ol>\n",
    "<li>Convert the speed above to miles/hour</li>\n",
    "<li>Calculate whether a pint is more than half litre.\n",
    "    <em>You can compare quantities as comparing variables.</em>\n",
    "    Notice something strange? Check what definition of <a href=\"https://en.wikipedia.org/wiki/Pint\">pint</a> astropy is using.</li>\n",
    "<li>Calculate the area of a rectangle of 3 km of side and 5 meter of width. Show this in $m^2$ and also convert it to yards$^2$</li>\n",
    "</ol>\n",
    "\n",
    "</div>\n",
    "\n",
    "</section>\n"
   ]
  },
  {
   "cell_type": "code",
   "execution_count": 83,
   "metadata": {},
   "outputs": [
    {
     "data": {
      "text/latex": [
       "$[874903.56,~1603989.9,~1239446.7] \\; \\mathrm{\\frac{mi}{h}}$"
      ],
      "text/plain": [
       "<Quantity [ 874903.5627065 , 1603989.86496192, 1239446.71383421] mi / h>"
      ]
     },
     "execution_count": 83,
     "metadata": {},
     "output_type": "execute_result"
    }
   ],
   "source": [
    "(speed).to(imperial.mile/u.hour)"
   ]
  },
  {
   "cell_type": "code",
   "execution_count": 85,
   "metadata": {},
   "outputs": [
    {
     "data": {
      "text/latex": [
       "$1 \\; \\mathrm{pint}$"
      ],
      "text/plain": [
       "<Quantity 1. pint>"
      ]
     },
     "execution_count": 85,
     "metadata": {},
     "output_type": "execute_result"
    }
   ],
   "source": [
    "pint1 = 1*imperial.pint\n",
    "pint1"
   ]
  },
  {
   "cell_type": "code",
   "execution_count": 97,
   "metadata": {},
   "outputs": [
    {
     "data": {
      "text/latex": [
       "$0.5 \\; \\mathrm{\\mathcal{l}}$"
      ],
      "text/plain": [
       "<Quantity 0.5 l>"
      ]
     },
     "execution_count": 97,
     "metadata": {},
     "output_type": "execute_result"
    }
   ],
   "source": [
    "halfLitre = 0.5*u.l\n",
    "halfLitre"
   ]
  },
  {
   "cell_type": "code",
   "execution_count": 100,
   "metadata": {},
   "outputs": [
    {
     "name": "stdout",
     "output_type": "stream",
     "text": [
      "A pint is more than a half litre\n"
     ]
    }
   ],
   "source": [
    "if halfLitre < pint1:\n",
    "    print(\"A pint is more than a half litre\")\n",
    "else:\n",
    "    print(\"A half litre is more than a pint\")"
   ]
  },
  {
   "cell_type": "code",
   "execution_count": 101,
   "metadata": {},
   "outputs": [
    {
     "data": {
      "text/plain": [
       "(<Quantity 3. km>, <Quantity 5. m>)"
      ]
     },
     "execution_count": 101,
     "metadata": {},
     "output_type": "execute_result"
    }
   ],
   "source": [
    "length = 3*u.km\n",
    "width = 5*u.m\n",
    "length, width"
   ]
  },
  {
   "cell_type": "code",
   "execution_count": 102,
   "metadata": {},
   "outputs": [
    {
     "data": {
      "text/latex": [
       "$15 \\; \\mathrm{km\\,m}$"
      ],
      "text/plain": [
       "<Quantity 15. km m>"
      ]
     },
     "execution_count": 102,
     "metadata": {},
     "output_type": "execute_result"
    }
   ],
   "source": [
    "area = length*width\n",
    "area"
   ]
  },
  {
   "cell_type": "code",
   "execution_count": 106,
   "metadata": {},
   "outputs": [
    {
     "data": {
      "text/latex": [
       "$15000 \\; \\mathrm{m^{2}}$"
      ],
      "text/plain": [
       "<Quantity 15000. m2>"
      ]
     },
     "execution_count": 106,
     "metadata": {},
     "output_type": "execute_result"
    }
   ],
   "source": [
    "area.to(u.m**2)"
   ]
  },
  {
   "cell_type": "code",
   "execution_count": 104,
   "metadata": {},
   "outputs": [
    {
     "data": {
      "text/latex": [
       "$17939.851 \\; \\mathrm{yd^{2}}$"
      ],
      "text/plain": [
       "<Quantity 17939.85069452 yd2>"
      ]
     },
     "execution_count": 104,
     "metadata": {},
     "output_type": "execute_result"
    }
   ],
   "source": [
    "area.to(imperial.yd**2)"
   ]
  },
  {
   "cell_type": "markdown",
   "metadata": {},
   "source": [
    "## Composed units\n",
    "\n",
    "Many units are compositions of others, and you can create new combinations for ease of use:"
   ]
  },
  {
   "cell_type": "code",
   "execution_count": 28,
   "metadata": {},
   "outputs": [
    {
     "data": {
      "text/latex": [
       "$[39111689,~71704763,~55408226] \\; \\mathrm{\\frac{cm}{s}}$"
      ],
      "text/plain": [
       "<Quantity [39111688.86723156, 71704762.92325787, 55408225.89524472] cm / s>"
      ]
     },
     "execution_count": 28,
     "metadata": {},
     "output_type": "execute_result"
    }
   ],
   "source": [
    "cms=u.cm/u.s\n",
    "speed.to(cms)"
   ]
  },
  {
   "cell_type": "code",
   "execution_count": 29,
   "metadata": {},
   "outputs": [
    {
     "data": {
      "text/latex": [
       "$[874903.56,~1603989.9,~1239446.7] \\; \\mathrm{\\frac{mi}{h}}$"
      ],
      "text/plain": [
       "<Quantity [ 874903.5627065 , 1603989.86496192, 1239446.71383421] mi / h>"
      ]
     },
     "execution_count": 29,
     "metadata": {},
     "output_type": "execute_result"
    }
   ],
   "source": [
    "mph = imperial.mile/u.hour\n",
    "speed.to(mph)"
   ]
  },
  {
   "cell_type": "markdown",
   "metadata": {},
   "source": [
    "You can use the ``compose()`` unit to find other units that are equivalent:"
   ]
  },
  {
   "cell_type": "code",
   "execution_count": 30,
   "metadata": {},
   "outputs": [
    {
     "data": {
      "text/plain": [
       "[Unit(\"J\"), Unit(\"1e+07 erg\"), Unit(\"4.58742e+17 Ry\"), Unit(\"6.24151e+18 eV\")]"
      ]
     },
     "execution_count": 30,
     "metadata": {},
     "output_type": "execute_result"
    }
   ],
   "source": [
    "u.joule.compose()"
   ]
  },
  {
   "cell_type": "code",
   "execution_count": 31,
   "metadata": {},
   "outputs": [
    {
     "data": {
      "text/plain": [
       "[Unit(\"Bq\"), Unit(\"Hz\"), Unit(\"2.7027e-11 Ci\")]"
      ]
     },
     "execution_count": 31,
     "metadata": {},
     "output_type": "execute_result"
    }
   ],
   "source": [
    "(u.s**-1).compose()"
   ]
  },
  {
   "cell_type": "code",
   "execution_count": null,
   "metadata": {},
   "outputs": [],
   "source": [
    "u.Ci? #single question mark brings up documentation, two question marks bring up source code"
   ]
  },
  {
   "cell_type": "markdown",
   "metadata": {},
   "source": [
    "You can also use ``find_equivalent_units`` to print a table with more information:"
   ]
  },
  {
   "cell_type": "code",
   "execution_count": 36,
   "metadata": {},
   "outputs": [
    {
     "data": {
      "text/html": [
       "<table style=\"width:50%\"><tr><th>Primary name</th><th>Unit definition</th><th>Aliases</th></tr><tr><td>Bq</td><td>1 / s</td><td>becquerel</td></tr><tr><td>Ci</td><td>3.7e+10 / s</td><td>curie</td></tr><tr><td>Hz</td><td>1 / s</td><td>Hertz, hertz</td></tr></table>"
      ],
      "text/plain": [
       "  Primary name | Unit definition | Aliases     \n",
       "[\n",
       "  Bq           | 1 / s           | becquerel    ,\n",
       "  Ci           | 3.7e+10 / s     | curie        ,\n",
       "  Hz           | 1 / s           | Hertz, hertz ,\n",
       "]"
      ]
     },
     "execution_count": 36,
     "metadata": {},
     "output_type": "execute_result"
    }
   ],
   "source": [
    "(u.s**-1).find_equivalent_units()"
   ]
  },
  {
   "cell_type": "markdown",
   "metadata": {},
   "source": [
    "## Dimensionless quantities\n",
    "\n",
    "Sometime we get quantities which are effectively dimensionless:"
   ]
  },
  {
   "cell_type": "code",
   "execution_count": 37,
   "metadata": {},
   "outputs": [
    {
     "data": {
      "text/latex": [
       "$20 \\; \\mathrm{\\frac{cm}{m}}$"
      ],
      "text/plain": [
       "<Quantity 20. cm / m>"
      ]
     },
     "execution_count": 37,
     "metadata": {},
     "output_type": "execute_result"
    }
   ],
   "source": [
    "dimensionless_quantity = 20*u.cm/(1*u.m)\n",
    "dimensionless_quantity"
   ]
  },
  {
   "cell_type": "markdown",
   "metadata": {},
   "source": [
    "What happen if we add a number to this?"
   ]
  },
  {
   "cell_type": "code",
   "execution_count": 38,
   "metadata": {},
   "outputs": [
    {
     "data": {
      "text/latex": [
       "$3.2 \\; \\mathrm{}$"
      ],
      "text/plain": [
       "<Quantity 3.2>"
      ]
     },
     "execution_count": 38,
     "metadata": {},
     "output_type": "execute_result"
    }
   ],
   "source": [
    "dimensionless_quantity + 3"
   ]
  },
  {
   "cell_type": "markdown",
   "metadata": {},
   "source": [
    "We can also convert to the actual dimensionless quantity using:"
   ]
  },
  {
   "cell_type": "code",
   "execution_count": 40,
   "metadata": {},
   "outputs": [
    {
     "data": {
      "text/latex": [
       "$0.2 \\; \\mathrm{}$"
      ],
      "text/plain": [
       "<Quantity 0.2>"
      ]
     },
     "execution_count": 40,
     "metadata": {},
     "output_type": "execute_result"
    }
   ],
   "source": [
    "dimensionless_quantity.decompose()"
   ]
  },
  {
   "cell_type": "markdown",
   "metadata": {},
   "source": [
    "## Equivalencies\n",
    "\n",
    "Some conversions are not done by a conversion factor as between miles and kilometers – for example converting between wavelength and frequency:"
   ]
  },
  {
   "cell_type": "code",
   "execution_count": 41,
   "metadata": {},
   "outputs": [
    {
     "ename": "UnitConversionError",
     "evalue": "'nm' (length) and 'Hz' (frequency) are not convertible",
     "output_type": "error",
     "traceback": [
      "\u001b[1;31m---------------------------------------------------------------------------\u001b[0m",
      "\u001b[1;31mUnitConversionError\u001b[0m                       Traceback (most recent call last)",
      "\u001b[1;32m<ipython-input-41-ae63d50b058e>\u001b[0m in \u001b[0;36m<module>\u001b[1;34m\u001b[0m\n\u001b[1;32m----> 1\u001b[1;33m \u001b[1;33m(\u001b[0m\u001b[1;36m656.281\u001b[0m\u001b[1;33m*\u001b[0m\u001b[0mu\u001b[0m\u001b[1;33m.\u001b[0m\u001b[0mnm\u001b[0m\u001b[1;33m)\u001b[0m\u001b[1;33m.\u001b[0m\u001b[0mto\u001b[0m\u001b[1;33m(\u001b[0m\u001b[0mu\u001b[0m\u001b[1;33m.\u001b[0m\u001b[0mHz\u001b[0m\u001b[1;33m)\u001b[0m\u001b[1;33m\u001b[0m\u001b[1;33m\u001b[0m\u001b[0m\n\u001b[0m",
      "\u001b[1;32m~\\anaconda3\\lib\\site-packages\\astropy\\units\\quantity.py\u001b[0m in \u001b[0;36mto\u001b[1;34m(self, unit, equivalencies)\u001b[0m\n\u001b[0;32m    687\u001b[0m         \u001b[1;31m# and don't want to slow down this method (esp. the scalar case).\u001b[0m\u001b[1;33m\u001b[0m\u001b[1;33m\u001b[0m\u001b[1;33m\u001b[0m\u001b[0m\n\u001b[0;32m    688\u001b[0m         \u001b[0munit\u001b[0m \u001b[1;33m=\u001b[0m \u001b[0mUnit\u001b[0m\u001b[1;33m(\u001b[0m\u001b[0munit\u001b[0m\u001b[1;33m)\u001b[0m\u001b[1;33m\u001b[0m\u001b[1;33m\u001b[0m\u001b[0m\n\u001b[1;32m--> 689\u001b[1;33m         \u001b[1;32mreturn\u001b[0m \u001b[0mself\u001b[0m\u001b[1;33m.\u001b[0m\u001b[0m_new_view\u001b[0m\u001b[1;33m(\u001b[0m\u001b[0mself\u001b[0m\u001b[1;33m.\u001b[0m\u001b[0m_to_value\u001b[0m\u001b[1;33m(\u001b[0m\u001b[0munit\u001b[0m\u001b[1;33m,\u001b[0m \u001b[0mequivalencies\u001b[0m\u001b[1;33m)\u001b[0m\u001b[1;33m,\u001b[0m \u001b[0munit\u001b[0m\u001b[1;33m)\u001b[0m\u001b[1;33m\u001b[0m\u001b[1;33m\u001b[0m\u001b[0m\n\u001b[0m\u001b[0;32m    690\u001b[0m \u001b[1;33m\u001b[0m\u001b[0m\n\u001b[0;32m    691\u001b[0m     \u001b[1;32mdef\u001b[0m \u001b[0mto_value\u001b[0m\u001b[1;33m(\u001b[0m\u001b[0mself\u001b[0m\u001b[1;33m,\u001b[0m \u001b[0munit\u001b[0m\u001b[1;33m=\u001b[0m\u001b[1;32mNone\u001b[0m\u001b[1;33m,\u001b[0m \u001b[0mequivalencies\u001b[0m\u001b[1;33m=\u001b[0m\u001b[1;33m[\u001b[0m\u001b[1;33m]\u001b[0m\u001b[1;33m)\u001b[0m\u001b[1;33m:\u001b[0m\u001b[1;33m\u001b[0m\u001b[1;33m\u001b[0m\u001b[0m\n",
      "\u001b[1;32m~\\anaconda3\\lib\\site-packages\\astropy\\units\\quantity.py\u001b[0m in \u001b[0;36m_to_value\u001b[1;34m(self, unit, equivalencies)\u001b[0m\n\u001b[0;32m    658\u001b[0m         \u001b[1;32mif\u001b[0m \u001b[0mequivalencies\u001b[0m \u001b[1;33m==\u001b[0m \u001b[1;33m[\u001b[0m\u001b[1;33m]\u001b[0m\u001b[1;33m:\u001b[0m\u001b[1;33m\u001b[0m\u001b[1;33m\u001b[0m\u001b[0m\n\u001b[0;32m    659\u001b[0m             \u001b[0mequivalencies\u001b[0m \u001b[1;33m=\u001b[0m \u001b[0mself\u001b[0m\u001b[1;33m.\u001b[0m\u001b[0m_equivalencies\u001b[0m\u001b[1;33m\u001b[0m\u001b[1;33m\u001b[0m\u001b[0m\n\u001b[1;32m--> 660\u001b[1;33m         return self.unit.to(unit, self.view(np.ndarray),\n\u001b[0m\u001b[0;32m    661\u001b[0m                             equivalencies=equivalencies)\n\u001b[0;32m    662\u001b[0m \u001b[1;33m\u001b[0m\u001b[0m\n",
      "\u001b[1;32m~\\anaconda3\\lib\\site-packages\\astropy\\units\\core.py\u001b[0m in \u001b[0;36mto\u001b[1;34m(self, other, value, equivalencies)\u001b[0m\n\u001b[0;32m    985\u001b[0m             \u001b[1;32mreturn\u001b[0m \u001b[0mUNITY\u001b[0m\u001b[1;33m\u001b[0m\u001b[1;33m\u001b[0m\u001b[0m\n\u001b[0;32m    986\u001b[0m         \u001b[1;32melse\u001b[0m\u001b[1;33m:\u001b[0m\u001b[1;33m\u001b[0m\u001b[1;33m\u001b[0m\u001b[0m\n\u001b[1;32m--> 987\u001b[1;33m             \u001b[1;32mreturn\u001b[0m \u001b[0mself\u001b[0m\u001b[1;33m.\u001b[0m\u001b[0m_get_converter\u001b[0m\u001b[1;33m(\u001b[0m\u001b[0mother\u001b[0m\u001b[1;33m,\u001b[0m \u001b[0mequivalencies\u001b[0m\u001b[1;33m=\u001b[0m\u001b[0mequivalencies\u001b[0m\u001b[1;33m)\u001b[0m\u001b[1;33m(\u001b[0m\u001b[0mvalue\u001b[0m\u001b[1;33m)\u001b[0m\u001b[1;33m\u001b[0m\u001b[1;33m\u001b[0m\u001b[0m\n\u001b[0m\u001b[0;32m    988\u001b[0m \u001b[1;33m\u001b[0m\u001b[0m\n\u001b[0;32m    989\u001b[0m     \u001b[1;32mdef\u001b[0m \u001b[0min_units\u001b[0m\u001b[1;33m(\u001b[0m\u001b[0mself\u001b[0m\u001b[1;33m,\u001b[0m \u001b[0mother\u001b[0m\u001b[1;33m,\u001b[0m \u001b[0mvalue\u001b[0m\u001b[1;33m=\u001b[0m\u001b[1;36m1.0\u001b[0m\u001b[1;33m,\u001b[0m \u001b[0mequivalencies\u001b[0m\u001b[1;33m=\u001b[0m\u001b[1;33m[\u001b[0m\u001b[1;33m]\u001b[0m\u001b[1;33m)\u001b[0m\u001b[1;33m:\u001b[0m\u001b[1;33m\u001b[0m\u001b[1;33m\u001b[0m\u001b[0m\n",
      "\u001b[1;32m~\\anaconda3\\lib\\site-packages\\astropy\\units\\core.py\u001b[0m in \u001b[0;36m_get_converter\u001b[1;34m(self, other, equivalencies)\u001b[0m\n\u001b[0;32m    916\u001b[0m                             \u001b[1;32mpass\u001b[0m\u001b[1;33m\u001b[0m\u001b[1;33m\u001b[0m\u001b[0m\n\u001b[0;32m    917\u001b[0m \u001b[1;33m\u001b[0m\u001b[0m\n\u001b[1;32m--> 918\u001b[1;33m             \u001b[1;32mraise\u001b[0m \u001b[0mexc\u001b[0m\u001b[1;33m\u001b[0m\u001b[1;33m\u001b[0m\u001b[0m\n\u001b[0m\u001b[0;32m    919\u001b[0m \u001b[1;33m\u001b[0m\u001b[0m\n\u001b[0;32m    920\u001b[0m     \u001b[1;32mdef\u001b[0m \u001b[0m_to\u001b[0m\u001b[1;33m(\u001b[0m\u001b[0mself\u001b[0m\u001b[1;33m,\u001b[0m \u001b[0mother\u001b[0m\u001b[1;33m)\u001b[0m\u001b[1;33m:\u001b[0m\u001b[1;33m\u001b[0m\u001b[1;33m\u001b[0m\u001b[0m\n",
      "\u001b[1;32m~\\anaconda3\\lib\\site-packages\\astropy\\units\\core.py\u001b[0m in \u001b[0;36m_get_converter\u001b[1;34m(self, other, equivalencies)\u001b[0m\n\u001b[0;32m    901\u001b[0m         \u001b[1;31m# if that doesn't work, maybe we can do it with equivalencies?\u001b[0m\u001b[1;33m\u001b[0m\u001b[1;33m\u001b[0m\u001b[1;33m\u001b[0m\u001b[0m\n\u001b[0;32m    902\u001b[0m         \u001b[1;32mtry\u001b[0m\u001b[1;33m:\u001b[0m\u001b[1;33m\u001b[0m\u001b[1;33m\u001b[0m\u001b[0m\n\u001b[1;32m--> 903\u001b[1;33m             return self._apply_equivalencies(\n\u001b[0m\u001b[0;32m    904\u001b[0m                 self, other, self._normalize_equivalencies(equivalencies))\n\u001b[0;32m    905\u001b[0m         \u001b[1;32mexcept\u001b[0m \u001b[0mUnitsError\u001b[0m \u001b[1;32mas\u001b[0m \u001b[0mexc\u001b[0m\u001b[1;33m:\u001b[0m\u001b[1;33m\u001b[0m\u001b[1;33m\u001b[0m\u001b[0m\n",
      "\u001b[1;32m~\\anaconda3\\lib\\site-packages\\astropy\\units\\core.py\u001b[0m in \u001b[0;36m_apply_equivalencies\u001b[1;34m(self, unit, other, equivalencies)\u001b[0m\n\u001b[0;32m    884\u001b[0m         \u001b[0mother_str\u001b[0m \u001b[1;33m=\u001b[0m \u001b[0mget_err_str\u001b[0m\u001b[1;33m(\u001b[0m\u001b[0mother\u001b[0m\u001b[1;33m)\u001b[0m\u001b[1;33m\u001b[0m\u001b[1;33m\u001b[0m\u001b[0m\n\u001b[0;32m    885\u001b[0m \u001b[1;33m\u001b[0m\u001b[0m\n\u001b[1;32m--> 886\u001b[1;33m         raise UnitConversionError(\n\u001b[0m\u001b[0;32m    887\u001b[0m             \"{} and {} are not convertible\".format(\n\u001b[0;32m    888\u001b[0m                 unit_str, other_str))\n",
      "\u001b[1;31mUnitConversionError\u001b[0m: 'nm' (length) and 'Hz' (frequency) are not convertible"
     ]
    }
   ],
   "source": [
    "(656.281*u.nm).to(u.Hz)"
   ]
  },
  {
   "cell_type": "markdown",
   "metadata": {},
   "source": [
    "However we can make use of a spectral *equivalency* to indicate the link between the units:"
   ]
  },
  {
   "cell_type": "code",
   "execution_count": 42,
   "metadata": {},
   "outputs": [
    {
     "data": {
      "text/latex": [
       "$4.5680502 \\times 10^{14} \\; \\mathrm{Hz}$"
      ],
      "text/plain": [
       "<Quantity 4.56805024e+14 Hz>"
      ]
     },
     "execution_count": 42,
     "metadata": {},
     "output_type": "execute_result"
    }
   ],
   "source": [
    "(656.281*u.nm).to(u.Hz, equivalencies = u.spectral())"
   ]
  },
  {
   "cell_type": "markdown",
   "metadata": {},
   "source": [
    "Other built-in equivalencies are: \n",
    " - [Parallax](https://docs.astropy.org/en/stable/units/equivalencies.html#how-to-convert-parallax-to-distance)\n",
    " - [Doppler](https://docs.astropy.org/en/stable/units/equivalencies.html#spectral-doppler-equivalencies)\n",
    " - [Spectral flux density](https://docs.astropy.org/en/stable/units/equivalencies.html#spectral-flux-luminosity-density-units)\n",
    " - [Brigthness temperature](https://docs.astropy.org/en/stable/units/equivalencies.html#brightness-temperature-surface-brightness-equivalency)\n",
    " - [Temperature energy](https://docs.astropy.org/en/stable/units/equivalencies.html#temperature-energy-equivalency)\n",
    " - and you can [build your own](http://astropy.readthedocs.org/en/stable/units/equivalencies.html#writing-new-equivalencies)"
   ]
  },
  {
   "cell_type": "markdown",
   "metadata": {},
   "source": [
    "We can use ``find_equivalent_units`` as above to show how using an equivalency expands the number of equivalent units:"
   ]
  },
  {
   "cell_type": "code",
   "execution_count": 44,
   "metadata": {},
   "outputs": [
    {
     "data": {
      "text/html": [
       "<table style=\"width:50%\"><tr><th>Primary name</th><th>Unit definition</th><th>Aliases</th></tr><tr><td>Bq</td><td>1 / s</td><td>becquerel</td></tr><tr><td>Ci</td><td>3.7e+10 / s</td><td>curie</td></tr><tr><td>Hz</td><td>1 / s</td><td>Hertz, hertz</td></tr></table>"
      ],
      "text/plain": [
       "  Primary name | Unit definition | Aliases     \n",
       "[\n",
       "  Bq           | 1 / s           | becquerel    ,\n",
       "  Ci           | 3.7e+10 / s     | curie        ,\n",
       "  Hz           | 1 / s           | Hertz, hertz ,\n",
       "]"
      ]
     },
     "execution_count": 44,
     "metadata": {},
     "output_type": "execute_result"
    }
   ],
   "source": [
    "u.Hz.find_equivalent_units()"
   ]
  },
  {
   "cell_type": "code",
   "execution_count": 45,
   "metadata": {},
   "outputs": [
    {
     "data": {
      "text/html": [
       "<table style=\"width:50%\"><tr><th>Primary name</th><th>Unit definition</th><th>Aliases</th></tr><tr><td>AU</td><td>1.49598e+11 m</td><td>au, astronomical_unit</td></tr><tr><td>Angstrom</td><td>1e-10 m</td><td>AA, angstrom</td></tr><tr><td>Bq</td><td>1 / s</td><td>becquerel</td></tr><tr><td>Ci</td><td>3.7e+10 / s</td><td>curie</td></tr><tr><td>Hz</td><td>1 / s</td><td>Hertz, hertz</td></tr><tr><td>J</td><td>kg m2 / s2</td><td>Joule, joule</td></tr><tr><td>Ry</td><td>2.17987e-18 kg m2 / s2</td><td>rydberg</td></tr><tr><td>cm</td><td>0.01 m</td><td>centimeter</td></tr><tr><td>eV</td><td>1.60218e-19 kg m2 / s2</td><td>electronvolt</td></tr><tr><td>earthRad</td><td>6.3781e+06 m</td><td>R_earth, Rearth</td></tr><tr><td>erg</td><td>1e-07 kg m2 / s2</td><td></td></tr><tr><td>jupiterRad</td><td>7.1492e+07 m</td><td>R_jup, Rjup, R_jupiter, Rjupiter</td></tr><tr><td>k</td><td>100 / m</td><td>Kayser, kayser</td></tr><tr><td>lyr</td><td>9.46073e+15 m</td><td>lightyear</td></tr><tr><td>m</td><td>irreducible</td><td>meter</td></tr><tr><td>micron</td><td>1e-06 m</td><td></td></tr><tr><td>pc</td><td>3.08568e+16 m</td><td>parsec</td></tr><tr><td>solRad</td><td>6.957e+08 m</td><td>R_sun, Rsun</td></tr></table>"
      ],
      "text/plain": [
       "  Primary name | Unit definition        | Aliases                         \n",
       "[\n",
       "  AU           | 1.49598e+11 m          | au, astronomical_unit            ,\n",
       "  Angstrom     | 1e-10 m                | AA, angstrom                     ,\n",
       "  Bq           | 1 / s                  | becquerel                        ,\n",
       "  Ci           | 3.7e+10 / s            | curie                            ,\n",
       "  Hz           | 1 / s                  | Hertz, hertz                     ,\n",
       "  J            | kg m2 / s2             | Joule, joule                     ,\n",
       "  Ry           | 2.17987e-18 kg m2 / s2 | rydberg                          ,\n",
       "  cm           | 0.01 m                 | centimeter                       ,\n",
       "  eV           | 1.60218e-19 kg m2 / s2 | electronvolt                     ,\n",
       "  earthRad     | 6.3781e+06 m           | R_earth, Rearth                  ,\n",
       "  erg          | 1e-07 kg m2 / s2       |                                  ,\n",
       "  jupiterRad   | 7.1492e+07 m           | R_jup, Rjup, R_jupiter, Rjupiter ,\n",
       "  k            | 100 / m                | Kayser, kayser                   ,\n",
       "  lyr          | 9.46073e+15 m          | lightyear                        ,\n",
       "  m            | irreducible            | meter                            ,\n",
       "  micron       | 1e-06 m                |                                  ,\n",
       "  pc           | 3.08568e+16 m          | parsec                           ,\n",
       "  solRad       | 6.957e+08 m            | R_sun, Rsun                      ,\n",
       "]"
      ]
     },
     "execution_count": 45,
     "metadata": {},
     "output_type": "execute_result"
    }
   ],
   "source": [
    "u.Hz.find_equivalent_units(equivalencies = u.spectral())"
   ]
  },
  {
   "cell_type": "markdown",
   "metadata": {},
   "source": [
    "\n",
    "<section class=\"challenge panel panel-success\">\n",
    "<div class=\"panel-heading\">\n",
    "<h2><span class=\"fa fa-pencil\"></span> Challenge: Using equivalencies</h2>\n",
    "</div>\n",
    "\n",
    "\n",
    "<div class=\"panel-body\">\n",
    "\n",
    "<ol>\n",
    "<li>Find out more about the spectral flux equivalency and convert 12 mJy to ergs/cm^2/s/Hz and to W/m^2/Hz</li>\n",
    "</ol>\n",
    "\n",
    "</div>\n",
    "\n",
    "</section>\n"
   ]
  },
  {
   "cell_type": "code",
   "execution_count": null,
   "metadata": {},
   "outputs": [],
   "source": []
  },
  {
   "cell_type": "markdown",
   "metadata": {},
   "source": [
    "## Logarithmic units"
   ]
  },
  {
   "cell_type": "markdown",
   "metadata": {},
   "source": [
    "Quantities can also be constructed with [Logarithmic Units](https://docs.astropy.org/en/stable/units/logarithmic_units.html), including various kinds of magnitude and dex:"
   ]
  },
  {
   "cell_type": "code",
   "execution_count": 46,
   "metadata": {},
   "outputs": [
    {
     "data": {
      "text/latex": [
       "$3.6307805 \\times 10^{-11} \\; \\mathrm{\\frac{erg}{\\mathring{A}\\,s\\,cm^{2}}}$"
      ],
      "text/plain": [
       "<Quantity 3.63078055e-11 erg / (Angstrom cm2 s)>"
      ]
     },
     "execution_count": 46,
     "metadata": {},
     "output_type": "execute_result"
    }
   ],
   "source": [
    "(5*u.STmag).to(u.erg/u.s/u.cm**2/u.AA)"
   ]
  },
  {
   "cell_type": "code",
   "execution_count": 47,
   "metadata": {},
   "outputs": [
    {
     "data": {
      "text/latex": [
       "$0.030277451 \\; \\mathrm{mJy}$"
      ],
      "text/plain": [
       "<Quantity 0.03027745 mJy>"
      ]
     },
     "execution_count": 47,
     "metadata": {},
     "output_type": "execute_result"
    }
   ],
   "source": [
    "(15*u.STmag).to(u.mJy, equivalencies = u.spectral_density(500*u.AA))\n",
    "#(15*u.STmag).to(u.mJy, u.spectral_density(500*u.AA))"
   ]
  },
  {
   "cell_type": "code",
   "execution_count": 48,
   "metadata": {},
   "outputs": [
    {
     "data": {
      "text/latex": [
       "$36307.805 \\; \\mathrm{mJy}$"
      ],
      "text/plain": [
       "<Quantity 36307.80547701 mJy>"
      ]
     },
     "execution_count": 48,
     "metadata": {},
     "output_type": "execute_result"
    }
   ],
   "source": [
    "(5*u.ABmag).to(u.mJy)"
   ]
  },
  {
   "cell_type": "code",
   "execution_count": 49,
   "metadata": {},
   "outputs": [
    {
     "data": {
      "text/latex": [
       "$100000 \\; \\mathrm{\\frac{cm}{s}}$"
      ],
      "text/plain": [
       "<Quantity 100000. cm / s>"
      ]
     },
     "execution_count": 49,
     "metadata": {},
     "output_type": "execute_result"
    }
   ],
   "source": [
    "(3*u.dex(u.m/u.s)).to(u.cm/u.s)"
   ]
  },
  {
   "cell_type": "markdown",
   "metadata": {},
   "source": [
    "## Printing the quantities\n",
    "\n",
    "If you want to print quantities using formatting, you can use ``.value`` and ``.unit`` as shown here:"
   ]
  },
  {
   "cell_type": "code",
   "execution_count": 52,
   "metadata": {},
   "outputs": [
    {
     "name": "stdout",
     "output_type": "stream",
     "text": [
      "3.000 Myr\n"
     ]
    }
   ],
   "source": [
    "print(\"{0.value:0.03f} {0.unit}\".format(time)) #f specifies floating point type data thing"
   ]
  },
  {
   "cell_type": "code",
   "execution_count": 53,
   "metadata": {},
   "outputs": [
    {
     "name": "stdout",
     "output_type": "stream",
     "text": [
      "3.000 $\\mathrm{Myr}$\n"
     ]
    }
   ],
   "source": [
    "print(\"{0.value:0.03f} {0.unit:latex_inline}\".format(time))"
   ]
  },
  {
   "cell_type": "markdown",
   "metadata": {},
   "source": [
    "## Using quantities with Numpy functions\n",
    "\n",
    "Quantities work as expected with a number of Numpy functions (though not all):"
   ]
  },
  {
   "cell_type": "code",
   "execution_count": 54,
   "metadata": {},
   "outputs": [
    {
     "data": {
      "text/latex": [
       "$[1,~0.99998022,~0.99992089,~\\dots,~0.99992089,~0.99998022,~1] \\; \\mathrm{}$"
      ],
      "text/plain": [
       "<Quantity [ 1.        ,  0.99998022,  0.99992089,  0.999822  ,  0.99968356,\n",
       "            0.99950557,  0.99928805,  0.999031  ,  0.99873443,  0.99839835,\n",
       "            0.99802278,  0.99760773,  0.99715321,  0.99665925,  0.99612587,\n",
       "            0.99555308,  0.99494091,  0.99428939,  0.99359853,  0.99286837,\n",
       "            0.99209893,  0.99129025,  0.99044235,  0.98955528,  0.98862906,\n",
       "            0.98766373,  0.98665934,  0.98561591,  0.9845335 ,  0.98341214,\n",
       "            0.98225188,  0.98105276,  0.97981484,  0.97853816,  0.97722277,\n",
       "            0.97586872,  0.97447607,  0.97304487,  0.97157518,  0.97006706,\n",
       "            0.96852057,  0.96693576,  0.9653127 ,  0.96365146,  0.9619521 ,\n",
       "            0.96021469,  0.95843929,  0.95662598,  0.95477483,  0.95288591,\n",
       "            0.95095929,  0.94899506,  0.94699329,  0.94495406,  0.94287745,\n",
       "            0.94076354,  0.93861241,  0.93642416,  0.93419886,  0.93193662,\n",
       "            0.9296375 ,  0.92730161,  0.92492904,  0.92251988,  0.92007423,\n",
       "            0.91759219,  0.91507385,  0.9125193 ,  0.90992867,  0.90730203,\n",
       "            0.90463951,  0.9019412 ,  0.89920721,  0.89643766,  0.89363264,\n",
       "            0.89079227,  0.88791667,  0.88500594,  0.8820602 ,  0.87907957,\n",
       "            0.87606417,  0.87301411,  0.86992952,  0.86681052,  0.86365722,\n",
       "            0.86046977,  0.85724827,  0.85399287,  0.85070368,  0.84738084,\n",
       "            0.84402448,  0.84063474,  0.83721174,  0.83375562,  0.83026652,\n",
       "            0.82674458,  0.82318994,  0.81960273,  0.8159831 ,  0.81233119,\n",
       "            0.80864715,  0.80493112,  0.80118325,  0.79740368,  0.79359258,\n",
       "            0.78975008,  0.78587634,  0.78197151,  0.77803575,  0.77406922,\n",
       "            0.77007206,  0.76604444,  0.76198652,  0.75789846,  0.75378041,\n",
       "            0.74963255,  0.74545504,  0.74124804,  0.73701171,  0.73274623,\n",
       "            0.72845177,  0.72412849,  0.71977656,  0.71539616,  0.71098747,\n",
       "            0.70655065,  0.70208588,  0.69759333,  0.69307319,  0.68852564,\n",
       "            0.68395085,  0.679349  ,  0.67472028,  0.67006487,  0.66538296,\n",
       "            0.66067472,  0.65594035,  0.65118003,  0.64639396,  0.64158231,\n",
       "            0.63674529,  0.63188307,  0.62699586,  0.62208385,  0.61714723,\n",
       "            0.6121862 ,  0.60720095,  0.60219168,  0.59715859,  0.59210188,\n",
       "            0.58702175,  0.58191839,  0.57679202,  0.57164283,  0.56647103,\n",
       "            0.56127682,  0.5560604 ,  0.55082199,  0.54556179,  0.54028001,\n",
       "            0.53497686,  0.52965255,  0.52430728,  0.51894128,  0.51355474,\n",
       "            0.5081479 ,  0.50272095,  0.49727411,  0.4918076 ,  0.48632164,\n",
       "            0.48081644,  0.47529222,  0.4697492 ,  0.4641876 ,  0.45860764,\n",
       "            0.45300953,  0.44739351,  0.44175978,  0.43610858,  0.43044014,\n",
       "            0.42475466,  0.41905238,  0.41333353,  0.40759832,  0.40184699,\n",
       "            0.39607977,  0.39029687,  0.38449854,  0.378685  ,  0.37285648,\n",
       "            0.36701321,  0.36115542,  0.35528334,  0.34939721,  0.34349726,\n",
       "            0.33758372,  0.33165683,  0.32571682,  0.31976392,  0.31379838,\n",
       "            0.30782042,  0.30183029,  0.29582821,  0.28981444,  0.28378919,\n",
       "            0.27775273,  0.27170527,  0.26564707,  0.25957836,  0.25349938,\n",
       "            0.24741038,  0.24131158,  0.23520324,  0.2290856 ,  0.2229589 ,\n",
       "            0.21682337,  0.21067927,  0.20452683,  0.19836631,  0.19219794,\n",
       "            0.18602196,  0.17983863,  0.17364818,  0.16745086,  0.16124692,\n",
       "            0.1550366 ,  0.14882015,  0.14259781,  0.13636983,  0.13013645,\n",
       "            0.12389793,  0.11765451,  0.11140643,  0.10515394,  0.0988973 ,\n",
       "            0.09263674,  0.08637252,  0.08010489,  0.07383408,  0.06756035,\n",
       "            0.06128395,  0.05500513,  0.04872413,  0.0424412 ,  0.0361566 ,\n",
       "            0.02987056,  0.02358334,  0.01729519,  0.01100636,  0.00471709,\n",
       "           -0.00157237, -0.00786176, -0.01415085, -0.02043937, -0.02672708,\n",
       "           -0.03301374, -0.03929909, -0.04558289, -0.05186489, -0.05814483,\n",
       "           -0.06442247, -0.07069757, -0.07696986, -0.08323912, -0.08950508,\n",
       "           -0.0957675 , -0.10202613, -0.10828072, -0.11453103, -0.12077682,\n",
       "           -0.12701782, -0.1332538 , -0.13948451, -0.1457097 , -0.15192912,\n",
       "           -0.15814254, -0.1643497 , -0.17055036, -0.17674428, -0.1829312 ,\n",
       "           -0.18911088, -0.19528309, -0.20144757, -0.20760408, -0.21375238,\n",
       "           -0.21989222, -0.22602337, -0.23214557, -0.23825859, -0.24436219,\n",
       "           -0.25045612, -0.25654014, -0.26261401, -0.2686775 , -0.27473036,\n",
       "           -0.28077235, -0.28680323, -0.29282277, -0.29883073, -0.30482686,\n",
       "           -0.31081094, -0.31678272, -0.32274197, -0.32868845, -0.33462193,\n",
       "           -0.34054218, -0.34644895, -0.35234202, -0.35822115, -0.36408611,\n",
       "           -0.36993667, -0.3757726 , -0.38159366, -0.38739962, -0.39319026,\n",
       "           -0.39896535, -0.40472466, -0.41046795, -0.41619501, -0.42190561,\n",
       "           -0.42759951, -0.4332765 , -0.43893635, -0.44457884, -0.45020374,\n",
       "           -0.45581084, -0.4613999 , -0.46697071, -0.47252305, -0.4780567 ,\n",
       "           -0.48357143, -0.48906704, -0.4945433 , -0.5       , -0.50543692,\n",
       "           -0.51085385, -0.51625056, -0.52162686, -0.52698252, -0.53231734,\n",
       "           -0.5376311 , -0.54292359, -0.5481946 , -0.55344393, -0.55867137,\n",
       "           -0.56387671, -0.56905974, -0.57422026, -0.57935807, -0.58447296,\n",
       "           -0.58956473, -0.59463318, -0.5996781 , -0.60469931, -0.60969659,\n",
       "           -0.61466975, -0.6196186 , -0.62454294, -0.62944258, -0.63431732,\n",
       "           -0.63916696, -0.64399132, -0.6487902 , -0.65356343, -0.65831079,\n",
       "           -0.66303212, -0.66772722, -0.6723959 , -0.67703799, -0.6816533 ,\n",
       "           -0.68624164, -0.69080283, -0.6953367 , -0.69984306, -0.70432174,\n",
       "           -0.70877256, -0.71319534, -0.71758991, -0.72195609, -0.72629372,\n",
       "           -0.73060261, -0.7348826 , -0.73913353, -0.74335521, -0.74754749,\n",
       "           -0.7517102 , -0.75584317, -0.75994625, -0.76401926, -0.76806205,\n",
       "           -0.77207446, -0.77605632, -0.78000749, -0.7839278 , -0.78781711,\n",
       "           -0.79167524, -0.79550207, -0.79929742, -0.80306115, -0.80679312,\n",
       "           -0.81049318, -0.81416117, -0.81779696, -0.82140039, -0.82497134,\n",
       "           -0.82850965, -0.83201519, -0.83548781, -0.83892739, -0.84233378,\n",
       "           -0.84570685, -0.84904646, -0.85235249, -0.8556248 , -0.85886327,\n",
       "           -0.86206776, -0.86523815, -0.86837431, -0.87147613, -0.87454347,\n",
       "           -0.87757621, -0.88057424, -0.88353744, -0.88646569, -0.88935887,\n",
       "           -0.89221687, -0.89503957, -0.89782688, -0.90057866, -0.90329482,\n",
       "           -0.90597525, -0.90861984, -0.91122849, -0.91380109, -0.91633755,\n",
       "           -0.91883775, -0.92130162, -0.92372903, -0.92611991, -0.92847415,\n",
       "           -0.93079166, -0.93307235, -0.93531614, -0.93752292, -0.93969262,\n",
       "           -0.94182515, -0.94392042, -0.94597835, -0.94799886, -0.94998187,\n",
       "           -0.95192731, -0.95383508, -0.95570513, -0.95753737, -0.95933173,\n",
       "           -0.96108814, -0.96280654, -0.96448685, -0.96612901, -0.96773295,\n",
       "           -0.96929861, -0.97082592, -0.97231483, -0.97376528, -0.97517722,\n",
       "           -0.97655057, -0.9778853 , -0.97918134, -0.98043865, -0.98165717,\n",
       "           -0.98283687, -0.98397768, -0.98507957, -0.9861425 , -0.98716641,\n",
       "           -0.98815128, -0.98909706, -0.99000371, -0.9908712 , -0.99169949,\n",
       "           -0.99248855, -0.99323836, -0.99394887, -0.99462007, -0.99525192,\n",
       "           -0.9958444 , -0.99639749, -0.99691116, -0.9973854 , -0.99782019,\n",
       "           -0.9982155 , -0.99857133, -0.99888765, -0.99916446, -0.99940175,\n",
       "           -0.99959951, -0.99975772, -0.99987639, -0.9999555 , -0.99999506,\n",
       "           -0.99999506, -0.9999555 , -0.99987639, -0.99975772, -0.99959951,\n",
       "           -0.99940175, -0.99916446, -0.99888765, -0.99857133, -0.9982155 ,\n",
       "           -0.99782019, -0.9973854 , -0.99691116, -0.99639749, -0.9958444 ,\n",
       "           -0.99525192, -0.99462007, -0.99394887, -0.99323836, -0.99248855,\n",
       "           -0.99169949, -0.9908712 , -0.99000371, -0.98909706, -0.98815128,\n",
       "           -0.98716641, -0.9861425 , -0.98507957, -0.98397768, -0.98283687,\n",
       "           -0.98165717, -0.98043865, -0.97918134, -0.9778853 , -0.97655057,\n",
       "           -0.97517722, -0.97376528, -0.97231483, -0.97082592, -0.96929861,\n",
       "           -0.96773295, -0.96612901, -0.96448685, -0.96280654, -0.96108814,\n",
       "           -0.95933173, -0.95753737, -0.95570513, -0.95383508, -0.95192731,\n",
       "           -0.94998187, -0.94799886, -0.94597835, -0.94392042, -0.94182515,\n",
       "           -0.93969262, -0.93752292, -0.93531614, -0.93307235, -0.93079166,\n",
       "           -0.92847415, -0.92611991, -0.92372903, -0.92130162, -0.91883775,\n",
       "           -0.91633755, -0.91380109, -0.91122849, -0.90861984, -0.90597525,\n",
       "           -0.90329482, -0.90057866, -0.89782688, -0.89503957, -0.89221687,\n",
       "           -0.88935887, -0.88646569, -0.88353744, -0.88057424, -0.87757621,\n",
       "           -0.87454347, -0.87147613, -0.86837431, -0.86523815, -0.86206776,\n",
       "           -0.85886327, -0.8556248 , -0.85235249, -0.84904646, -0.84570685,\n",
       "           -0.84233378, -0.83892739, -0.83548781, -0.83201519, -0.82850965,\n",
       "           -0.82497134, -0.82140039, -0.81779696, -0.81416117, -0.81049318,\n",
       "           -0.80679312, -0.80306115, -0.79929742, -0.79550207, -0.79167524,\n",
       "           -0.78781711, -0.7839278 , -0.78000749, -0.77605632, -0.77207446,\n",
       "           -0.76806205, -0.76401926, -0.75994625, -0.75584317, -0.7517102 ,\n",
       "           -0.74754749, -0.74335521, -0.73913353, -0.7348826 , -0.73060261,\n",
       "           -0.72629372, -0.72195609, -0.71758991, -0.71319534, -0.70877256,\n",
       "           -0.70432174, -0.69984306, -0.6953367 , -0.69080283, -0.68624164,\n",
       "           -0.6816533 , -0.67703799, -0.6723959 , -0.66772722, -0.66303212,\n",
       "           -0.65831079, -0.65356343, -0.6487902 , -0.64399132, -0.63916696,\n",
       "           -0.63431732, -0.62944258, -0.62454294, -0.6196186 , -0.61466975,\n",
       "           -0.60969659, -0.60469931, -0.5996781 , -0.59463318, -0.58956473,\n",
       "           -0.58447296, -0.57935807, -0.57422026, -0.56905974, -0.56387671,\n",
       "           -0.55867137, -0.55344393, -0.5481946 , -0.54292359, -0.5376311 ,\n",
       "           -0.53231734, -0.52698252, -0.52162686, -0.51625056, -0.51085385,\n",
       "           -0.50543692, -0.5       , -0.4945433 , -0.48906704, -0.48357143,\n",
       "           -0.4780567 , -0.47252305, -0.46697071, -0.4613999 , -0.45581084,\n",
       "           -0.45020374, -0.44457884, -0.43893635, -0.4332765 , -0.42759951,\n",
       "           -0.42190561, -0.41619501, -0.41046795, -0.40472466, -0.39896535,\n",
       "           -0.39319026, -0.38739962, -0.38159366, -0.3757726 , -0.36993667,\n",
       "           -0.36408611, -0.35822115, -0.35234202, -0.34644895, -0.34054218,\n",
       "           -0.33462193, -0.32868845, -0.32274197, -0.31678272, -0.31081094,\n",
       "           -0.30482686, -0.29883073, -0.29282277, -0.28680323, -0.28077235,\n",
       "           -0.27473036, -0.2686775 , -0.26261401, -0.25654014, -0.25045612,\n",
       "           -0.24436219, -0.23825859, -0.23214557, -0.22602337, -0.21989222,\n",
       "           -0.21375238, -0.20760408, -0.20144757, -0.19528309, -0.18911088,\n",
       "           -0.1829312 , -0.17674428, -0.17055036, -0.1643497 , -0.15814254,\n",
       "           -0.15192912, -0.1457097 , -0.13948451, -0.1332538 , -0.12701782,\n",
       "           -0.12077682, -0.11453103, -0.10828072, -0.10202613, -0.0957675 ,\n",
       "           -0.08950508, -0.08323912, -0.07696986, -0.07069757, -0.06442247,\n",
       "           -0.05814483, -0.05186489, -0.04558289, -0.03929909, -0.03301374,\n",
       "           -0.02672708, -0.02043937, -0.01415085, -0.00786176, -0.00157237,\n",
       "            0.00471709,  0.01100636,  0.01729519,  0.02358334,  0.02987056,\n",
       "            0.0361566 ,  0.0424412 ,  0.04872413,  0.05500513,  0.06128395,\n",
       "            0.06756035,  0.07383408,  0.08010489,  0.08637252,  0.09263674,\n",
       "            0.0988973 ,  0.10515394,  0.11140643,  0.11765451,  0.12389793,\n",
       "            0.13013645,  0.13636983,  0.14259781,  0.14882015,  0.1550366 ,\n",
       "            0.16124692,  0.16745086,  0.17364818,  0.17983863,  0.18602196,\n",
       "            0.19219794,  0.19836631,  0.20452683,  0.21067927,  0.21682337,\n",
       "            0.2229589 ,  0.2290856 ,  0.23520324,  0.24131158,  0.24741038,\n",
       "            0.25349938,  0.25957836,  0.26564707,  0.27170527,  0.27775273,\n",
       "            0.28378919,  0.28981444,  0.29582821,  0.30183029,  0.30782042,\n",
       "            0.31379838,  0.31976392,  0.32571682,  0.33165683,  0.33758372,\n",
       "            0.34349726,  0.34939721,  0.35528334,  0.36115542,  0.36701321,\n",
       "            0.37285648,  0.378685  ,  0.38449854,  0.39029687,  0.39607977,\n",
       "            0.40184699,  0.40759832,  0.41333353,  0.41905238,  0.42475466,\n",
       "            0.43044014,  0.43610858,  0.44175978,  0.44739351,  0.45300953,\n",
       "            0.45860764,  0.4641876 ,  0.4697492 ,  0.47529222,  0.48081644,\n",
       "            0.48632164,  0.4918076 ,  0.49727411,  0.50272095,  0.5081479 ,\n",
       "            0.51355474,  0.51894128,  0.52430728,  0.52965255,  0.53497686,\n",
       "            0.54028001,  0.54556179,  0.55082199,  0.5560604 ,  0.56127682,\n",
       "            0.56647103,  0.57164283,  0.57679202,  0.58191839,  0.58702175,\n",
       "            0.59210188,  0.59715859,  0.60219168,  0.60720095,  0.6121862 ,\n",
       "            0.61714723,  0.62208385,  0.62699586,  0.63188307,  0.63674529,\n",
       "            0.64158231,  0.64639396,  0.65118003,  0.65594035,  0.66067472,\n",
       "            0.66538296,  0.67006487,  0.67472028,  0.679349  ,  0.68395085,\n",
       "            0.68852564,  0.69307319,  0.69759333,  0.70208588,  0.70655065,\n",
       "            0.71098747,  0.71539616,  0.71977656,  0.72412849,  0.72845177,\n",
       "            0.73274623,  0.73701171,  0.74124804,  0.74545504,  0.74963255,\n",
       "            0.75378041,  0.75789846,  0.76198652,  0.76604444,  0.77007206,\n",
       "            0.77406922,  0.77803575,  0.78197151,  0.78587634,  0.78975008,\n",
       "            0.79359258,  0.79740368,  0.80118325,  0.80493112,  0.80864715,\n",
       "            0.81233119,  0.8159831 ,  0.81960273,  0.82318994,  0.82674458,\n",
       "            0.83026652,  0.83375562,  0.83721174,  0.84063474,  0.84402448,\n",
       "            0.84738084,  0.85070368,  0.85399287,  0.85724827,  0.86046977,\n",
       "            0.86365722,  0.86681052,  0.86992952,  0.87301411,  0.87606417,\n",
       "            0.87907957,  0.8820602 ,  0.88500594,  0.88791667,  0.89079227,\n",
       "            0.89363264,  0.89643766,  0.89920721,  0.9019412 ,  0.90463951,\n",
       "            0.90730203,  0.90992867,  0.9125193 ,  0.91507385,  0.91759219,\n",
       "            0.92007423,  0.92251988,  0.92492904,  0.92730161,  0.9296375 ,\n",
       "            0.93193662,  0.93419886,  0.93642416,  0.93861241,  0.94076354,\n",
       "            0.94287745,  0.94495406,  0.94699329,  0.94899506,  0.95095929,\n",
       "            0.95288591,  0.95477483,  0.95662598,  0.95843929,  0.96021469,\n",
       "            0.9619521 ,  0.96365146,  0.9653127 ,  0.96693576,  0.96852057,\n",
       "            0.97006706,  0.97157518,  0.97304487,  0.97447607,  0.97586872,\n",
       "            0.97722277,  0.97853816,  0.97981484,  0.98105276,  0.98225188,\n",
       "            0.98341214,  0.9845335 ,  0.98561591,  0.98665934,  0.98766373,\n",
       "            0.98862906,  0.98955528,  0.99044235,  0.99129025,  0.99209893,\n",
       "            0.99286837,  0.99359853,  0.99428939,  0.99494091,  0.99555308,\n",
       "            0.99612587,  0.99665925,  0.99715321,  0.99760773,  0.99802278,\n",
       "            0.99839835,  0.99873443,  0.999031  ,  0.99928805,  0.99950557,\n",
       "            0.99968356,  0.999822  ,  0.99992089,  0.99998022,  1.        ]>"
      ]
     },
     "execution_count": 54,
     "metadata": {},
     "output_type": "execute_result"
    }
   ],
   "source": [
    "angle = np.linspace(0, 360, 1000)*u.deg\n",
    "np.cos(angle)"
   ]
  },
  {
   "cell_type": "code",
   "execution_count": 56,
   "metadata": {},
   "outputs": [
    {
     "data": {
      "text/latex": [
       "$[0,~0.36036036,~0.72072072,~\\dots,~359.27928,~359.63964,~360] \\; \\mathrm{{}^{\\circ}}$"
      ],
      "text/plain": [
       "<Quantity [  0.        ,   0.36036036,   0.72072072,   1.08108108,\n",
       "             1.44144144,   1.8018018 ,   2.16216216,   2.52252252,\n",
       "             2.88288288,   3.24324324,   3.6036036 ,   3.96396396,\n",
       "             4.32432432,   4.68468468,   5.04504505,   5.40540541,\n",
       "             5.76576577,   6.12612613,   6.48648649,   6.84684685,\n",
       "             7.20720721,   7.56756757,   7.92792793,   8.28828829,\n",
       "             8.64864865,   9.00900901,   9.36936937,   9.72972973,\n",
       "            10.09009009,  10.45045045,  10.81081081,  11.17117117,\n",
       "            11.53153153,  11.89189189,  12.25225225,  12.61261261,\n",
       "            12.97297297,  13.33333333,  13.69369369,  14.05405405,\n",
       "            14.41441441,  14.77477477,  15.13513514,  15.4954955 ,\n",
       "            15.85585586,  16.21621622,  16.57657658,  16.93693694,\n",
       "            17.2972973 ,  17.65765766,  18.01801802,  18.37837838,\n",
       "            18.73873874,  19.0990991 ,  19.45945946,  19.81981982,\n",
       "            20.18018018,  20.54054054,  20.9009009 ,  21.26126126,\n",
       "            21.62162162,  21.98198198,  22.34234234,  22.7027027 ,\n",
       "            23.06306306,  23.42342342,  23.78378378,  24.14414414,\n",
       "            24.5045045 ,  24.86486486,  25.22522523,  25.58558559,\n",
       "            25.94594595,  26.30630631,  26.66666667,  27.02702703,\n",
       "            27.38738739,  27.74774775,  28.10810811,  28.46846847,\n",
       "            28.82882883,  29.18918919,  29.54954955,  29.90990991,\n",
       "            30.27027027,  30.63063063,  30.99099099,  31.35135135,\n",
       "            31.71171171,  32.07207207,  32.43243243,  32.79279279,\n",
       "            33.15315315,  33.51351351,  33.87387387,  34.23423423,\n",
       "            34.59459459,  34.95495495,  35.31531532,  35.67567568,\n",
       "            36.03603604,  36.3963964 ,  36.75675676,  37.11711712,\n",
       "            37.47747748,  37.83783784,  38.1981982 ,  38.55855856,\n",
       "            38.91891892,  39.27927928,  39.63963964,  40.        ,\n",
       "            40.36036036,  40.72072072,  41.08108108,  41.44144144,\n",
       "            41.8018018 ,  42.16216216,  42.52252252,  42.88288288,\n",
       "            43.24324324,  43.6036036 ,  43.96396396,  44.32432432,\n",
       "            44.68468468,  45.04504505,  45.40540541,  45.76576577,\n",
       "            46.12612613,  46.48648649,  46.84684685,  47.20720721,\n",
       "            47.56756757,  47.92792793,  48.28828829,  48.64864865,\n",
       "            49.00900901,  49.36936937,  49.72972973,  50.09009009,\n",
       "            50.45045045,  50.81081081,  51.17117117,  51.53153153,\n",
       "            51.89189189,  52.25225225,  52.61261261,  52.97297297,\n",
       "            53.33333333,  53.69369369,  54.05405405,  54.41441441,\n",
       "            54.77477477,  55.13513514,  55.4954955 ,  55.85585586,\n",
       "            56.21621622,  56.57657658,  56.93693694,  57.2972973 ,\n",
       "            57.65765766,  58.01801802,  58.37837838,  58.73873874,\n",
       "            59.0990991 ,  59.45945946,  59.81981982,  60.18018018,\n",
       "            60.54054054,  60.9009009 ,  61.26126126,  61.62162162,\n",
       "            61.98198198,  62.34234234,  62.7027027 ,  63.06306306,\n",
       "            63.42342342,  63.78378378,  64.14414414,  64.5045045 ,\n",
       "            64.86486486,  65.22522523,  65.58558559,  65.94594595,\n",
       "            66.30630631,  66.66666667,  67.02702703,  67.38738739,\n",
       "            67.74774775,  68.10810811,  68.46846847,  68.82882883,\n",
       "            69.18918919,  69.54954955,  69.90990991,  70.27027027,\n",
       "            70.63063063,  70.99099099,  71.35135135,  71.71171171,\n",
       "            72.07207207,  72.43243243,  72.79279279,  73.15315315,\n",
       "            73.51351351,  73.87387387,  74.23423423,  74.59459459,\n",
       "            74.95495495,  75.31531532,  75.67567568,  76.03603604,\n",
       "            76.3963964 ,  76.75675676,  77.11711712,  77.47747748,\n",
       "            77.83783784,  78.1981982 ,  78.55855856,  78.91891892,\n",
       "            79.27927928,  79.63963964,  80.        ,  80.36036036,\n",
       "            80.72072072,  81.08108108,  81.44144144,  81.8018018 ,\n",
       "            82.16216216,  82.52252252,  82.88288288,  83.24324324,\n",
       "            83.6036036 ,  83.96396396,  84.32432432,  84.68468468,\n",
       "            85.04504505,  85.40540541,  85.76576577,  86.12612613,\n",
       "            86.48648649,  86.84684685,  87.20720721,  87.56756757,\n",
       "            87.92792793,  88.28828829,  88.64864865,  89.00900901,\n",
       "            89.36936937,  89.72972973,  90.09009009,  90.45045045,\n",
       "            90.81081081,  91.17117117,  91.53153153,  91.89189189,\n",
       "            92.25225225,  92.61261261,  92.97297297,  93.33333333,\n",
       "            93.69369369,  94.05405405,  94.41441441,  94.77477477,\n",
       "            95.13513514,  95.4954955 ,  95.85585586,  96.21621622,\n",
       "            96.57657658,  96.93693694,  97.2972973 ,  97.65765766,\n",
       "            98.01801802,  98.37837838,  98.73873874,  99.0990991 ,\n",
       "            99.45945946,  99.81981982, 100.18018018, 100.54054054,\n",
       "           100.9009009 , 101.26126126, 101.62162162, 101.98198198,\n",
       "           102.34234234, 102.7027027 , 103.06306306, 103.42342342,\n",
       "           103.78378378, 104.14414414, 104.5045045 , 104.86486486,\n",
       "           105.22522523, 105.58558559, 105.94594595, 106.30630631,\n",
       "           106.66666667, 107.02702703, 107.38738739, 107.74774775,\n",
       "           108.10810811, 108.46846847, 108.82882883, 109.18918919,\n",
       "           109.54954955, 109.90990991, 110.27027027, 110.63063063,\n",
       "           110.99099099, 111.35135135, 111.71171171, 112.07207207,\n",
       "           112.43243243, 112.79279279, 113.15315315, 113.51351351,\n",
       "           113.87387387, 114.23423423, 114.59459459, 114.95495495,\n",
       "           115.31531532, 115.67567568, 116.03603604, 116.3963964 ,\n",
       "           116.75675676, 117.11711712, 117.47747748, 117.83783784,\n",
       "           118.1981982 , 118.55855856, 118.91891892, 119.27927928,\n",
       "           119.63963964, 120.        , 120.36036036, 120.72072072,\n",
       "           121.08108108, 121.44144144, 121.8018018 , 122.16216216,\n",
       "           122.52252252, 122.88288288, 123.24324324, 123.6036036 ,\n",
       "           123.96396396, 124.32432432, 124.68468468, 125.04504505,\n",
       "           125.40540541, 125.76576577, 126.12612613, 126.48648649,\n",
       "           126.84684685, 127.20720721, 127.56756757, 127.92792793,\n",
       "           128.28828829, 128.64864865, 129.00900901, 129.36936937,\n",
       "           129.72972973, 130.09009009, 130.45045045, 130.81081081,\n",
       "           131.17117117, 131.53153153, 131.89189189, 132.25225225,\n",
       "           132.61261261, 132.97297297, 133.33333333, 133.69369369,\n",
       "           134.05405405, 134.41441441, 134.77477477, 135.13513514,\n",
       "           135.4954955 , 135.85585586, 136.21621622, 136.57657658,\n",
       "           136.93693694, 137.2972973 , 137.65765766, 138.01801802,\n",
       "           138.37837838, 138.73873874, 139.0990991 , 139.45945946,\n",
       "           139.81981982, 140.18018018, 140.54054054, 140.9009009 ,\n",
       "           141.26126126, 141.62162162, 141.98198198, 142.34234234,\n",
       "           142.7027027 , 143.06306306, 143.42342342, 143.78378378,\n",
       "           144.14414414, 144.5045045 , 144.86486486, 145.22522523,\n",
       "           145.58558559, 145.94594595, 146.30630631, 146.66666667,\n",
       "           147.02702703, 147.38738739, 147.74774775, 148.10810811,\n",
       "           148.46846847, 148.82882883, 149.18918919, 149.54954955,\n",
       "           149.90990991, 150.27027027, 150.63063063, 150.99099099,\n",
       "           151.35135135, 151.71171171, 152.07207207, 152.43243243,\n",
       "           152.79279279, 153.15315315, 153.51351351, 153.87387387,\n",
       "           154.23423423, 154.59459459, 154.95495495, 155.31531532,\n",
       "           155.67567568, 156.03603604, 156.3963964 , 156.75675676,\n",
       "           157.11711712, 157.47747748, 157.83783784, 158.1981982 ,\n",
       "           158.55855856, 158.91891892, 159.27927928, 159.63963964,\n",
       "           160.        , 160.36036036, 160.72072072, 161.08108108,\n",
       "           161.44144144, 161.8018018 , 162.16216216, 162.52252252,\n",
       "           162.88288288, 163.24324324, 163.6036036 , 163.96396396,\n",
       "           164.32432432, 164.68468468, 165.04504505, 165.40540541,\n",
       "           165.76576577, 166.12612613, 166.48648649, 166.84684685,\n",
       "           167.20720721, 167.56756757, 167.92792793, 168.28828829,\n",
       "           168.64864865, 169.00900901, 169.36936937, 169.72972973,\n",
       "           170.09009009, 170.45045045, 170.81081081, 171.17117117,\n",
       "           171.53153153, 171.89189189, 172.25225225, 172.61261261,\n",
       "           172.97297297, 173.33333333, 173.69369369, 174.05405405,\n",
       "           174.41441441, 174.77477477, 175.13513514, 175.4954955 ,\n",
       "           175.85585586, 176.21621622, 176.57657658, 176.93693694,\n",
       "           177.2972973 , 177.65765766, 178.01801802, 178.37837838,\n",
       "           178.73873874, 179.0990991 , 179.45945946, 179.81981982,\n",
       "           180.18018018, 180.54054054, 180.9009009 , 181.26126126,\n",
       "           181.62162162, 181.98198198, 182.34234234, 182.7027027 ,\n",
       "           183.06306306, 183.42342342, 183.78378378, 184.14414414,\n",
       "           184.5045045 , 184.86486486, 185.22522523, 185.58558559,\n",
       "           185.94594595, 186.30630631, 186.66666667, 187.02702703,\n",
       "           187.38738739, 187.74774775, 188.10810811, 188.46846847,\n",
       "           188.82882883, 189.18918919, 189.54954955, 189.90990991,\n",
       "           190.27027027, 190.63063063, 190.99099099, 191.35135135,\n",
       "           191.71171171, 192.07207207, 192.43243243, 192.79279279,\n",
       "           193.15315315, 193.51351351, 193.87387387, 194.23423423,\n",
       "           194.59459459, 194.95495495, 195.31531532, 195.67567568,\n",
       "           196.03603604, 196.3963964 , 196.75675676, 197.11711712,\n",
       "           197.47747748, 197.83783784, 198.1981982 , 198.55855856,\n",
       "           198.91891892, 199.27927928, 199.63963964, 200.        ,\n",
       "           200.36036036, 200.72072072, 201.08108108, 201.44144144,\n",
       "           201.8018018 , 202.16216216, 202.52252252, 202.88288288,\n",
       "           203.24324324, 203.6036036 , 203.96396396, 204.32432432,\n",
       "           204.68468468, 205.04504505, 205.40540541, 205.76576577,\n",
       "           206.12612613, 206.48648649, 206.84684685, 207.20720721,\n",
       "           207.56756757, 207.92792793, 208.28828829, 208.64864865,\n",
       "           209.00900901, 209.36936937, 209.72972973, 210.09009009,\n",
       "           210.45045045, 210.81081081, 211.17117117, 211.53153153,\n",
       "           211.89189189, 212.25225225, 212.61261261, 212.97297297,\n",
       "           213.33333333, 213.69369369, 214.05405405, 214.41441441,\n",
       "           214.77477477, 215.13513514, 215.4954955 , 215.85585586,\n",
       "           216.21621622, 216.57657658, 216.93693694, 217.2972973 ,\n",
       "           217.65765766, 218.01801802, 218.37837838, 218.73873874,\n",
       "           219.0990991 , 219.45945946, 219.81981982, 220.18018018,\n",
       "           220.54054054, 220.9009009 , 221.26126126, 221.62162162,\n",
       "           221.98198198, 222.34234234, 222.7027027 , 223.06306306,\n",
       "           223.42342342, 223.78378378, 224.14414414, 224.5045045 ,\n",
       "           224.86486486, 225.22522523, 225.58558559, 225.94594595,\n",
       "           226.30630631, 226.66666667, 227.02702703, 227.38738739,\n",
       "           227.74774775, 228.10810811, 228.46846847, 228.82882883,\n",
       "           229.18918919, 229.54954955, 229.90990991, 230.27027027,\n",
       "           230.63063063, 230.99099099, 231.35135135, 231.71171171,\n",
       "           232.07207207, 232.43243243, 232.79279279, 233.15315315,\n",
       "           233.51351351, 233.87387387, 234.23423423, 234.59459459,\n",
       "           234.95495495, 235.31531532, 235.67567568, 236.03603604,\n",
       "           236.3963964 , 236.75675676, 237.11711712, 237.47747748,\n",
       "           237.83783784, 238.1981982 , 238.55855856, 238.91891892,\n",
       "           239.27927928, 239.63963964, 240.        , 240.36036036,\n",
       "           240.72072072, 241.08108108, 241.44144144, 241.8018018 ,\n",
       "           242.16216216, 242.52252252, 242.88288288, 243.24324324,\n",
       "           243.6036036 , 243.96396396, 244.32432432, 244.68468468,\n",
       "           245.04504505, 245.40540541, 245.76576577, 246.12612613,\n",
       "           246.48648649, 246.84684685, 247.20720721, 247.56756757,\n",
       "           247.92792793, 248.28828829, 248.64864865, 249.00900901,\n",
       "           249.36936937, 249.72972973, 250.09009009, 250.45045045,\n",
       "           250.81081081, 251.17117117, 251.53153153, 251.89189189,\n",
       "           252.25225225, 252.61261261, 252.97297297, 253.33333333,\n",
       "           253.69369369, 254.05405405, 254.41441441, 254.77477477,\n",
       "           255.13513514, 255.4954955 , 255.85585586, 256.21621622,\n",
       "           256.57657658, 256.93693694, 257.2972973 , 257.65765766,\n",
       "           258.01801802, 258.37837838, 258.73873874, 259.0990991 ,\n",
       "           259.45945946, 259.81981982, 260.18018018, 260.54054054,\n",
       "           260.9009009 , 261.26126126, 261.62162162, 261.98198198,\n",
       "           262.34234234, 262.7027027 , 263.06306306, 263.42342342,\n",
       "           263.78378378, 264.14414414, 264.5045045 , 264.86486486,\n",
       "           265.22522523, 265.58558559, 265.94594595, 266.30630631,\n",
       "           266.66666667, 267.02702703, 267.38738739, 267.74774775,\n",
       "           268.10810811, 268.46846847, 268.82882883, 269.18918919,\n",
       "           269.54954955, 269.90990991, 270.27027027, 270.63063063,\n",
       "           270.99099099, 271.35135135, 271.71171171, 272.07207207,\n",
       "           272.43243243, 272.79279279, 273.15315315, 273.51351351,\n",
       "           273.87387387, 274.23423423, 274.59459459, 274.95495495,\n",
       "           275.31531532, 275.67567568, 276.03603604, 276.3963964 ,\n",
       "           276.75675676, 277.11711712, 277.47747748, 277.83783784,\n",
       "           278.1981982 , 278.55855856, 278.91891892, 279.27927928,\n",
       "           279.63963964, 280.        , 280.36036036, 280.72072072,\n",
       "           281.08108108, 281.44144144, 281.8018018 , 282.16216216,\n",
       "           282.52252252, 282.88288288, 283.24324324, 283.6036036 ,\n",
       "           283.96396396, 284.32432432, 284.68468468, 285.04504505,\n",
       "           285.40540541, 285.76576577, 286.12612613, 286.48648649,\n",
       "           286.84684685, 287.20720721, 287.56756757, 287.92792793,\n",
       "           288.28828829, 288.64864865, 289.00900901, 289.36936937,\n",
       "           289.72972973, 290.09009009, 290.45045045, 290.81081081,\n",
       "           291.17117117, 291.53153153, 291.89189189, 292.25225225,\n",
       "           292.61261261, 292.97297297, 293.33333333, 293.69369369,\n",
       "           294.05405405, 294.41441441, 294.77477477, 295.13513514,\n",
       "           295.4954955 , 295.85585586, 296.21621622, 296.57657658,\n",
       "           296.93693694, 297.2972973 , 297.65765766, 298.01801802,\n",
       "           298.37837838, 298.73873874, 299.0990991 , 299.45945946,\n",
       "           299.81981982, 300.18018018, 300.54054054, 300.9009009 ,\n",
       "           301.26126126, 301.62162162, 301.98198198, 302.34234234,\n",
       "           302.7027027 , 303.06306306, 303.42342342, 303.78378378,\n",
       "           304.14414414, 304.5045045 , 304.86486486, 305.22522523,\n",
       "           305.58558559, 305.94594595, 306.30630631, 306.66666667,\n",
       "           307.02702703, 307.38738739, 307.74774775, 308.10810811,\n",
       "           308.46846847, 308.82882883, 309.18918919, 309.54954955,\n",
       "           309.90990991, 310.27027027, 310.63063063, 310.99099099,\n",
       "           311.35135135, 311.71171171, 312.07207207, 312.43243243,\n",
       "           312.79279279, 313.15315315, 313.51351351, 313.87387387,\n",
       "           314.23423423, 314.59459459, 314.95495495, 315.31531532,\n",
       "           315.67567568, 316.03603604, 316.3963964 , 316.75675676,\n",
       "           317.11711712, 317.47747748, 317.83783784, 318.1981982 ,\n",
       "           318.55855856, 318.91891892, 319.27927928, 319.63963964,\n",
       "           320.        , 320.36036036, 320.72072072, 321.08108108,\n",
       "           321.44144144, 321.8018018 , 322.16216216, 322.52252252,\n",
       "           322.88288288, 323.24324324, 323.6036036 , 323.96396396,\n",
       "           324.32432432, 324.68468468, 325.04504505, 325.40540541,\n",
       "           325.76576577, 326.12612613, 326.48648649, 326.84684685,\n",
       "           327.20720721, 327.56756757, 327.92792793, 328.28828829,\n",
       "           328.64864865, 329.00900901, 329.36936937, 329.72972973,\n",
       "           330.09009009, 330.45045045, 330.81081081, 331.17117117,\n",
       "           331.53153153, 331.89189189, 332.25225225, 332.61261261,\n",
       "           332.97297297, 333.33333333, 333.69369369, 334.05405405,\n",
       "           334.41441441, 334.77477477, 335.13513514, 335.4954955 ,\n",
       "           335.85585586, 336.21621622, 336.57657658, 336.93693694,\n",
       "           337.2972973 , 337.65765766, 338.01801802, 338.37837838,\n",
       "           338.73873874, 339.0990991 , 339.45945946, 339.81981982,\n",
       "           340.18018018, 340.54054054, 340.9009009 , 341.26126126,\n",
       "           341.62162162, 341.98198198, 342.34234234, 342.7027027 ,\n",
       "           343.06306306, 343.42342342, 343.78378378, 344.14414414,\n",
       "           344.5045045 , 344.86486486, 345.22522523, 345.58558559,\n",
       "           345.94594595, 346.30630631, 346.66666667, 347.02702703,\n",
       "           347.38738739, 347.74774775, 348.10810811, 348.46846847,\n",
       "           348.82882883, 349.18918919, 349.54954955, 349.90990991,\n",
       "           350.27027027, 350.63063063, 350.99099099, 351.35135135,\n",
       "           351.71171171, 352.07207207, 352.43243243, 352.79279279,\n",
       "           353.15315315, 353.51351351, 353.87387387, 354.23423423,\n",
       "           354.59459459, 354.95495495, 355.31531532, 355.67567568,\n",
       "           356.03603604, 356.3963964 , 356.75675676, 357.11711712,\n",
       "           357.47747748, 357.83783784, 358.1981982 , 358.55855856,\n",
       "           358.91891892, 359.27927928, 359.63963964, 360.        ] deg>"
      ]
     },
     "execution_count": 56,
     "metadata": {},
     "output_type": "execute_result"
    }
   ],
   "source": [
    "angle"
   ]
  },
  {
   "cell_type": "code",
   "execution_count": 57,
   "metadata": {},
   "outputs": [
    {
     "data": {
      "text/plain": [
       "array([1.        , 0.93576982, 0.7513303 , 0.47037462, 0.12899444])"
      ]
     },
     "execution_count": 57,
     "metadata": {},
     "output_type": "execute_result"
    }
   ],
   "source": [
    "np.cos(angle.value)[:5]"
   ]
  },
  {
   "cell_type": "code",
   "execution_count": 58,
   "metadata": {},
   "outputs": [
    {
     "data": {
      "text/latex": [
       "$0.36787944 \\; \\mathrm{}$"
      ],
      "text/plain": [
       "<Quantity 0.36787944>"
      ]
     },
     "execution_count": 58,
     "metadata": {},
     "output_type": "execute_result"
    }
   ],
   "source": [
    "np.exp(-4*u.m/(400*u.cm))"
   ]
  },
  {
   "cell_type": "markdown",
   "metadata": {},
   "source": [
    "## Performance considerations\n",
    "\n",
    "If performance is important, and you are attaching units to arrays, you may want to consider using the ``<<`` operator to attach units to arrays - this prevents the array data from being copied:"
   ]
  },
  {
   "cell_type": "code",
   "execution_count": 60,
   "metadata": {},
   "outputs": [],
   "source": [
    "array = np.random.random(10000000)"
   ]
  },
  {
   "cell_type": "code",
   "execution_count": 63,
   "metadata": {},
   "outputs": [
    {
     "name": "stdout",
     "output_type": "stream",
     "text": [
      "Wall time: 34 ms\n"
     ]
    },
    {
     "data": {
      "text/latex": [
       "$[0.35550495,~0.6067236,~0.76238499,~\\dots,~0.12351048,~0.67218807,~0.83724238] \\; \\mathrm{\\frac{m}{s}}$"
      ],
      "text/plain": [
       "<Quantity [0.35550495, 0.6067236 , 0.76238499, ..., 0.12351048, 0.67218807,\n",
       "           0.83724238] m / s>"
      ]
     },
     "execution_count": 63,
     "metadata": {},
     "output_type": "execute_result"
    }
   ],
   "source": [
    "%time array*u.m/u.s"
   ]
  },
  {
   "cell_type": "code",
   "execution_count": 64,
   "metadata": {},
   "outputs": [
    {
     "name": "stdout",
     "output_type": "stream",
     "text": [
      "Wall time: 0 ns\n"
     ]
    },
    {
     "data": {
      "text/latex": [
       "$[0.35550495,~0.6067236,~0.76238499,~\\dots,~0.12351048,~0.67218807,~0.83724238] \\; \\mathrm{\\frac{m}{s}}$"
      ],
      "text/plain": [
       "<Quantity [0.35550495, 0.6067236 , 0.76238499, ..., 0.12351048, 0.67218807,\n",
       "           0.83724238] m / s>"
      ]
     },
     "execution_count": 64,
     "metadata": {},
     "output_type": "execute_result"
    }
   ],
   "source": [
    "%time array<<u.m/u.s"
   ]
  },
  {
   "cell_type": "markdown",
   "metadata": {},
   "source": [
    "If you are using composite units in your code, it can also be beneficial to compute the composite units once and for all as shown earlier, e.g.:"
   ]
  },
  {
   "cell_type": "code",
   "execution_count": null,
   "metadata": {},
   "outputs": [],
   "source": [
    "kms = u.km/u.s"
   ]
  },
  {
   "cell_type": "markdown",
   "metadata": {},
   "source": [
    "Finally, if having Quantity classes is still slowing down your code, you can consider using the units only to find scalefactors and then use then to modify arrays:"
   ]
  },
  {
   "cell_type": "code",
   "execution_count": 70,
   "metadata": {},
   "outputs": [],
   "source": [
    "kms_to_cgs = (u.km/u.s).to(u.cm/u.s)"
   ]
  },
  {
   "cell_type": "code",
   "execution_count": 71,
   "metadata": {},
   "outputs": [
    {
     "data": {
      "text/plain": [
       "100000.0"
      ]
     },
     "execution_count": 71,
     "metadata": {},
     "output_type": "execute_result"
    }
   ],
   "source": [
    "kms_to_cgs"
   ]
  },
  {
   "cell_type": "markdown",
   "metadata": {},
   "source": [
    "## Plotting quantities\n",
    "\n",
    "To plot quantities nicely with Matplotlib we need to use the ``quantity_support`` function:"
   ]
  },
  {
   "cell_type": "code",
   "execution_count": 66,
   "metadata": {},
   "outputs": [
    {
     "data": {
      "text/plain": [
       "<astropy.visualization.units.quantity_support.<locals>.MplQuantityConverter at 0x1d616c61040>"
      ]
     },
     "execution_count": 66,
     "metadata": {},
     "output_type": "execute_result"
    }
   ],
   "source": [
    "from astropy.visualization import quantity_support\n",
    "quantity_support()"
   ]
  },
  {
   "cell_type": "code",
   "execution_count": 68,
   "metadata": {},
   "outputs": [
    {
     "data": {
      "text/plain": [
       "[<matplotlib.lines.Line2D at 0x1d616f74040>]"
      ]
     },
     "execution_count": 68,
     "metadata": {},
     "output_type": "execute_result"
    },
    {
     "data": {
      "image/png": "[encoded data removed]",
      "text/plain": [
       "<Figure size 720x432 with 1 Axes>"
      ]
     },
     "metadata": {
      "needs_background": "light"
     },
     "output_type": "display_data"
    }
   ],
   "source": [
    "plt.plot(angle,np.sin(angle))\n",
    "plt.plot(angle.to(u.rad),np.cos(angle))"
   ]
  },
  {
   "cell_type": "markdown",
   "metadata": {},
   "source": [
    "## Physical constants\n",
    "\n",
    "The [astropy.constants](https://docs.astropy.org/en/stable/constants/index.html) sub-package provides a set of physical constants which are compatible with the units/quantities framework:"
   ]
  },
  {
   "cell_type": "code",
   "execution_count": 72,
   "metadata": {},
   "outputs": [],
   "source": [
    "from astropy.constants import M_sun, c"
   ]
  },
  {
   "cell_type": "code",
   "execution_count": 73,
   "metadata": {},
   "outputs": [
    {
     "data": {
      "text/latex": [
       "$5.361281 \\times 10^{47} \\; \\mathrm{J}$"
      ],
      "text/plain": [
       "<Quantity 5.36128101e+47 J>"
      ]
     },
     "execution_count": 73,
     "metadata": {},
     "output_type": "execute_result"
    }
   ],
   "source": [
    "E = 3*M_sun*c**2\n",
    "E.to(u.J)"
   ]
  },
  {
   "cell_type": "markdown",
   "metadata": {},
   "source": [
    "\n",
    "<section class=\"challenge panel panel-success\">\n",
    "<div class=\"panel-heading\">\n",
    "<h2><span class=\"fa fa-pencil\"></span> Plotting the solar system potential</h2>\n",
    "</div>\n",
    "\n",
    "\n",
    "<div class=\"panel-body\">\n",
    "\n",
    "<ol>\n",
    "<li>The gravitational potential around a point source is $V=-GM/r$ where $M$ is the mass of the point and $r$ is the radius from it. Use what we've seen above to make a plot of the gravitational potential (in MJ/kg) in the solar system between 1 and 50 au.</li>\n",
    "</ol>\n",
    "\n",
    "</div>\n",
    "\n",
    "</section>\n"
   ]
  },
  {
   "cell_type": "code",
   "execution_count": 75,
   "metadata": {},
   "outputs": [],
   "source": [
    "from astropy.constants import G, M_sun"
   ]
  },
  {
   "cell_type": "code",
   "execution_count": 78,
   "metadata": {},
   "outputs": [
    {
     "data": {
      "text/latex": [
       "$[-1.3271244 \\times 10^{20},~-6.635622 \\times 10^{19},~-4.423748 \\times 10^{19},~-3.317811 \\times 10^{19},~-2.6542488 \\times 10^{19},~-2.211874 \\times 10^{19},~-1.895892 \\times 10^{19},~-1.6589055 \\times 10^{19},~-1.4745827 \\times 10^{19},~-1.3271244 \\times 10^{19},~-1.2064767 \\times 10^{19},~-1.105937 \\times 10^{19},~-1.0208649 \\times 10^{19},~-9.47946 \\times 10^{18},~-8.847496 \\times 10^{18},~-8.2945275 \\times 10^{18},~-7.8066141 \\times 10^{18},~-7.3729133 \\times 10^{18},~-6.9848653 \\times 10^{18},~-6.635622 \\times 10^{18},~-6.31964 \\times 10^{18},~-6.0323836 \\times 10^{18},~-5.7701061 \\times 10^{18},~-5.529685 \\times 10^{18},~-5.3084976 \\times 10^{18},~-5.1043246 \\times 10^{18},~-4.9152756 \\times 10^{18},~-4.73973 \\times 10^{18},~-4.576291 \\times 10^{18},~-4.423748 \\times 10^{18},~-4.2810465 \\times 10^{18},~-4.1472638 \\times 10^{18},~-4.0215891 \\times 10^{18},~-3.9033071 \\times 10^{18},~-3.791784 \\times 10^{18},~-3.6864567 \\times 10^{18},~-3.5868227 \\times 10^{18},~-3.4924326 \\times 10^{18},~-3.4028831 \\times 10^{18},~-3.317811 \\times 10^{18},~-3.2368888 \\times 10^{18},~-3.15982 \\times 10^{18},~-3.0863358 \\times 10^{18},~-3.0161918 \\times 10^{18},~-2.9491653 \\times 10^{18},~-2.885053 \\times 10^{18},~-2.8236689 \\times 10^{18},~-2.7648425 \\times 10^{18},~-2.7084171 \\times 10^{18},~-2.6542488 \\times 10^{18}] \\; \\mathrm{\\frac{m^{3}}{AU\\,s^{2}}}$"
      ],
      "text/plain": [
       "<Quantity [-1.32712440e+20, -6.63562200e+19, -4.42374800e+19,\n",
       "           -3.31781100e+19, -2.65424880e+19, -2.21187400e+19,\n",
       "           -1.89589200e+19, -1.65890550e+19, -1.47458267e+19,\n",
       "           -1.32712440e+19, -1.20647673e+19, -1.10593700e+19,\n",
       "           -1.02086492e+19, -9.47946000e+18, -8.84749600e+18,\n",
       "           -8.29452750e+18, -7.80661412e+18, -7.37291333e+18,\n",
       "           -6.98486526e+18, -6.63562200e+18, -6.31964000e+18,\n",
       "           -6.03238364e+18, -5.77010609e+18, -5.52968500e+18,\n",
       "           -5.30849760e+18, -5.10432462e+18, -4.91527556e+18,\n",
       "           -4.73973000e+18, -4.57629103e+18, -4.42374800e+18,\n",
       "           -4.28104645e+18, -4.14726375e+18, -4.02158909e+18,\n",
       "           -3.90330706e+18, -3.79178400e+18, -3.68645667e+18,\n",
       "           -3.58682270e+18, -3.49243263e+18, -3.40288308e+18,\n",
       "           -3.31781100e+18, -3.23688878e+18, -3.15982000e+18,\n",
       "           -3.08633581e+18, -3.01619182e+18, -2.94916533e+18,\n",
       "           -2.88505304e+18, -2.82366894e+18, -2.76484250e+18,\n",
       "           -2.70841714e+18, -2.65424880e+18] m3 / (AU s2)>"
      ]
     },
     "execution_count": 78,
     "metadata": {},
     "output_type": "execute_result"
    }
   ],
   "source": [
    "r = np.linspace(1, 50)*u.au\n",
    "V = -(G*M_sun)/r"
   ]
  },
  {
   "cell_type": "code",
   "execution_count": 80,
   "metadata": {},
   "outputs": [
    {
     "data": {
      "text/plain": [
       "[<matplotlib.lines.Line2D at 0x1d616deac40>]"
      ]
     },
     "execution_count": 80,
     "metadata": {},
     "output_type": "execute_result"
    },
    {
     "data": {
      "image/png": "[encoded data removed]",
      "text/plain": [
       "<Figure size 720x432 with 1 Axes>"
      ]
     },
     "metadata": {
      "needs_background": "light"
     },
     "output_type": "display_data"
    }
   ],
   "source": [
    "plt.plot(r,V)"
   ]
  },
  {
   "cell_type": "markdown",
   "metadata": {},
   "source": [
    "<center><i>This notebook was originally written by <a href=\"https://aperiosoftware.com/\">Aperio Software Ltd</a> and modified by Brigitta Sipőcz. &copy; 2019-2021 and is licensed under a <a href=\"https://creativecommons.org/licenses/by/4.0/\">Creative Commons Attribution 4.0 International License (CC BY 4.0)</a></i></center>\n",
    "\n",
    "![cc](https://mirrors.creativecommons.org/presskit/buttons/88x31/svg/by.svg)"
   ]
  },
  {
   "cell_type": "code",
   "execution_count": null,
   "metadata": {},
   "outputs": [],
   "source": []
  }
 ],
 "metadata": {
  "kernelspec": {
   "display_name": "Python 3",
   "language": "python",
   "name": "python3"
  },
  "language_info": {
   "codemirror_mode": {
    "name": "ipython",
    "version": 3
   },
   "file_extension": ".py",
   "mimetype": "text/x-python",
   "name": "python",
   "nbconvert_exporter": "python",
   "pygments_lexer": "ipython3",
   "version": "3.8.5"
  },
  "toc": {
   "base_numbering": 1,
   "nav_menu": {},
   "number_sections": true,
   "sideBar": true,
   "skip_h1_title": false,
   "title_cell": "Table of Contents",
   "title_sidebar": "Contents",
   "toc_cell": false,
   "toc_position": {},
   "toc_section_display": true,
   "toc_window_display": false
  }
 },
 "nbformat": 4,
 "nbformat_minor": 1
}
