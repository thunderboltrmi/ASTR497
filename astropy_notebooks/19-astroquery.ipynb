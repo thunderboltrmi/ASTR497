{
 "cells": [
  {
   "cell_type": "markdown",
   "metadata": {},
   "source": [
    "# Querying online data with astroquery and PyVO\n",
    "\n",
    "There are two main general packages for accessing online data from Python in the Astropy ecosystem:\n",
    "\n",
    "* The [astroquery](https://astroquery.readthedocs.io/en/latest/) coordinated package, which offers access to many services, including a number that are not VO compatible.\n",
    "* The [PyVO](https://pyvo.readthedocs.io/en/latest/) affiliated package which implements a Pythonic interface to VO-compliant services.\n",
    "\n",
    "In this tutorial, we will take a look at both of these."
   ]
  },
  {
   "cell_type": "code",
   "execution_count": 1,
   "metadata": {},
   "outputs": [],
   "source": [
    "#! pip install astroquery -U"
   ]
  },
  {
   "cell_type": "markdown",
   "metadata": {},
   "source": [
    "\n",
    "<section class=\"objectives panel panel-warning\">\n",
    "<div class=\"panel-heading\">\n",
    "<h2><span class=\"fa fa-certificate\"></span> Objectives</h2>\n",
    "</div>\n",
    "\n",
    "\n",
    "<div class=\"panel-body\">\n",
    "\n",
    "<ul>\n",
    "<li>Querying services such as Simbad and ESASky</li>\n",
    "<li>Using PyVO to access data on VO-compliant servers</li>\n",
    "</ul>\n",
    "\n",
    "</div>\n",
    "\n",
    "</section>\n"
   ]
  },
  {
   "cell_type": "markdown",
   "metadata": {},
   "source": [
    "## Documentation\n",
    "\n",
    "This notebook only shows a subset of the functionality in astroquery and PyVO. For more information about the features presented below as well as other available features, you can read the\n",
    "[astroquery](https://astroquery.readthedocs.io/en/latest/) and [PyVO](https://pyvo.readthedocs.io/en/latest/) documentation."
   ]
  },
  {
   "cell_type": "code",
   "execution_count": 2,
   "metadata": {},
   "outputs": [],
   "source": [
    "%matplotlib inline\n",
    "import matplotlib.pyplot as plt\n",
    "plt.rc('image', origin='lower')\n",
    "plt.rc('figure', figsize=(10, 6))"
   ]
  },
  {
   "cell_type": "markdown",
   "metadata": {},
   "source": [
    "## Using astroquery\n",
    "\n",
    "Astroquery provides a common interface to the following services:\n",
    "\n",
    "* ALMA Queries (astroquery.alma)\n",
    "* Atomic Line List (astroquery.atomic)\n",
    "* Besancon Queries (astroquery.besancon)\n",
    "* Cadc (astroquery.cadc)\n",
    "* CASDA Queries (astroquery.casda)\n",
    "* CDS MOC Service (astroquery.cds)\n",
    "* esa.hubble (astroquery.esa.hubble)\n",
    "* ESASky Queries (astroquery.esasky)\n",
    "* ESO Queries (astroquery.eso)\n",
    "* Gaia TAP+ (astroquery.gaia)\n",
    "* GAMA Queries (astroquery.gama)\n",
    "* HEASARC Queries (astroquery.heasarc)\n",
    "* HITRAN Queries (astroquery.hitran)\n",
    "* IRSA Image Server program interface (IBE) Queries (astroquery.ibe)\n",
    "* IRSA Queries (astroquery.irsa)\n",
    "* IRSA Dust Extinction Service Queries (astroquery.irsa_dust)\n",
    "* JPL Spectroscopy Queries (astroquery.jplspec)\n",
    "* MAGPIS Queries (astroquery.magpis)\n",
    "* MAST Queries (astroquery.mast)\n",
    "* Minor Planet Center Queries (astroquery.mpc/astroquery.solarsystem.MPC)\n",
    "* NASA ADS Queries (astroquery.nasa_ads)\n",
    "* NED Queries (astroquery.ned)\n",
    "* NIST Queries (astroquery.nist)\n",
    "* NRAO Queries (astroquery.nrao)\n",
    "* NVAS Queries (astroquery.nvas)\n",
    "* SIMBAD Queries (astroquery.simbad)\n",
    "* Skyview Queries (astroquery.skyview)\n",
    "* Splatalogue Queries (astroquery.splatalogue)\n",
    "* UKIDSS Queries (astroquery.ukidss)\n",
    "* Vamdc Queries (astroquery.vamdc)\n",
    "* VizieR Queries (astroquery.vizier)\n",
    "* VO Simple Cone Search (astroquery.vo_conesearch)\n",
    "* VSA Queries (astroquery.vsa)\n",
    "* xMatch Queries (astroquery.xmatch)\n",
    "\n",
    "and also provides access to other services.\n",
    "\n",
    "### Simbad\n",
    "\n",
    "To start off, we can take a look at the sub-package to query [SIMBAD](http://simbad.u-strasbg.fr/simbad/):"
   ]
  },
  {
   "cell_type": "code",
   "execution_count": 3,
   "metadata": {},
   "outputs": [],
   "source": [
    "from astroquery.simbad import Simbad"
   ]
  },
  {
   "cell_type": "markdown",
   "metadata": {},
   "source": [
    "We can query by identifier:"
   ]
  },
  {
   "cell_type": "code",
   "execution_count": 4,
   "metadata": {},
   "outputs": [
    {
     "data": {
      "text/html": [
       "<i>Table length=1</i>\n",
       "<table id=\"table1564488521280\" class=\"table-striped table-bordered table-condensed\">\n",
       "<thead><tr><th>MAIN_ID</th><th>RA</th><th>DEC</th><th>RA_PREC</th><th>DEC_PREC</th><th>COO_ERR_MAJA</th><th>COO_ERR_MINA</th><th>COO_ERR_ANGLE</th><th>COO_QUAL</th><th>COO_WAVELENGTH</th><th>COO_BIBCODE</th></tr></thead>\n",
       "<thead><tr><th></th><th>&quot;h:m:s&quot;</th><th>&quot;d:m:s&quot;</th><th></th><th></th><th>mas</th><th>mas</th><th>deg</th><th></th><th></th><th></th></tr></thead>\n",
       "<thead><tr><th>object</th><th>str13</th><th>str13</th><th>int16</th><th>int16</th><th>float32</th><th>float32</th><th>int16</th><th>str1</th><th>str1</th><th>object</th></tr></thead>\n",
       "<tr><td>M  31</td><td>00 42 44.330</td><td>+41 16 07.50</td><td>7</td><td>7</td><td>--</td><td>--</td><td>0</td><td>C</td><td>I</td><td>2006AJ....131.1163S</td></tr>\n",
       "</table>"
      ],
      "text/plain": [
       "<Table length=1>\n",
       "MAIN_ID      RA          DEC      ... COO_WAVELENGTH     COO_BIBCODE    \n",
       "          \"h:m:s\"      \"d:m:s\"    ...                                   \n",
       " object    str13        str13     ...      str1             object      \n",
       "------- ------------ ------------ ... -------------- -------------------\n",
       "  M  31 00 42 44.330 +41 16 07.50 ...              I 2006AJ....131.1163S"
      ]
     },
     "execution_count": 4,
     "metadata": {},
     "output_type": "execute_result"
    }
   ],
   "source": [
    "result = Simbad.query_object(\"M31\")\n",
    "result"
   ]
  },
  {
   "cell_type": "markdown",
   "metadata": {},
   "source": [
    "or by coordinates:"
   ]
  },
  {
   "cell_type": "code",
   "execution_count": 5,
   "metadata": {},
   "outputs": [],
   "source": [
    "import astropy.units as u\n",
    "from astropy.coordinates import SkyCoord"
   ]
  },
  {
   "cell_type": "code",
   "execution_count": 6,
   "metadata": {},
   "outputs": [],
   "source": [
    "coord = SkyCoord(5*u.hourangle,30*u.deg,frame='icrs')\n",
    "rad = 15*u.arcminute"
   ]
  },
  {
   "cell_type": "code",
   "execution_count": null,
   "metadata": {},
   "outputs": [],
   "source": []
  },
  {
   "cell_type": "markdown",
   "metadata": {},
   "source": [
    "### ESASky\n",
    "\n",
    "Another example is querying images from [ESASky](https://astroquery.readthedocs.io/en/latest/esasky/esasky.html)"
   ]
  },
  {
   "cell_type": "code",
   "execution_count": 7,
   "metadata": {},
   "outputs": [],
   "source": [
    "from astroquery.esasky import ESASky"
   ]
  },
  {
   "cell_type": "markdown",
   "metadata": {},
   "source": [
    "We can list the available catalogs and maps:"
   ]
  },
  {
   "cell_type": "code",
   "execution_count": 8,
   "metadata": {},
   "outputs": [
    {
     "data": {
      "text/plain": [
       "['LAMOST',\n",
       " 'AllWise',\n",
       " 'AKARI-IRC-SC',\n",
       " 'TwoMASS',\n",
       " 'INTEGRAL',\n",
       " 'CHANDRA-SC2',\n",
       " 'XMM-EPIC-STACK',\n",
       " 'XMM-EPIC',\n",
       " 'XMM-OM',\n",
       " 'XMM-SLEW',\n",
       " 'Tycho-2',\n",
       " 'Gaia-eDR3',\n",
       " 'Hipparcos-2',\n",
       " 'HSC',\n",
       " 'Herschel-HPPSC-070',\n",
       " 'Herschel-HPPSC-100',\n",
       " 'Herschel-HPPSC-160',\n",
       " 'Herschel-SPSC-250',\n",
       " 'Herschel-SPSC-350',\n",
       " 'Herschel-SPSC-500',\n",
       " 'Planck-PGCC',\n",
       " 'Planck-PCCS2E-HFI',\n",
       " 'Planck-PCCS2-HFI',\n",
       " 'Planck-PCCS2-LFI',\n",
       " 'Planck-PSZ2']"
      ]
     },
     "execution_count": 8,
     "metadata": {},
     "output_type": "execute_result"
    }
   ],
   "source": [
    "ESASky.list_catalogs()"
   ]
  },
  {
   "cell_type": "code",
   "execution_count": 9,
   "metadata": {},
   "outputs": [
    {
     "data": {
      "text/plain": [
       "['INTEGRAL',\n",
       " 'XMM',\n",
       " 'Chandra',\n",
       " 'SUZAKU',\n",
       " 'XMM-OM-OPTICAL',\n",
       " 'XMM-OM-UV',\n",
       " 'HST-UV',\n",
       " 'HST-OPTICAL',\n",
       " 'HST-IR',\n",
       " 'ISO-IR',\n",
       " 'Herschel',\n",
       " 'AKARI',\n",
       " 'Spitzer',\n",
       " 'ALMA']"
      ]
     },
     "execution_count": 9,
     "metadata": {},
     "output_type": "execute_result"
    }
   ],
   "source": [
    "ESASky.list_maps()"
   ]
  },
  {
   "cell_type": "markdown",
   "metadata": {},
   "source": [
    "and we can query and download catalogs:"
   ]
  },
  {
   "cell_type": "code",
   "execution_count": 10,
   "metadata": {},
   "outputs": [],
   "source": [
    "#import astroquery\n",
    "#astroquery.__version__"
   ]
  },
  {
   "cell_type": "code",
   "execution_count": 11,
   "metadata": {},
   "outputs": [
    {
     "data": {
      "text/html": [
       "<i>Table length=3</i>\n",
       "<table id=\"table1564491657024\" class=\"table-striped table-bordered table-condensed\">\n",
       "<thead><tr><th>name</th><th>ra</th><th>dec</th><th>j_m</th><th>j_msigcom</th><th>h_m</th><th>h_msigcom</th><th>ks_m</th><th>ks_msigcom</th></tr></thead>\n",
       "<thead><tr><th></th><th>deg</th><th>deg</th><th>mag</th><th>mag</th><th>mag</th><th>mag</th><th>mag</th><th>mag</th></tr></thead>\n",
       "<thead><tr><th>object</th><th>float64</th><th>float64</th><th>float32</th><th>float32</th><th>float32</th><th>float32</th><th>float32</th><th>float32</th></tr></thead>\n",
       "<tr><td>13295271+4711426</td><td>202.469643</td><td>47.195183</td><td>11.295</td><td>0.054</td><td>10.469</td><td>0.047</td><td>10.157</td><td>0.039</td></tr>\n",
       "<tr><td>13295280+4711380</td><td>202.470041</td><td>47.193913</td><td>13.249</td><td>0.032</td><td>10.733</td><td>--</td><td>10.499</td><td>--</td></tr>\n",
       "<tr><td>13295232+4711455</td><td>202.468003</td><td>47.195999</td><td>13.509</td><td>0.046</td><td>10.743</td><td>--</td><td>10.5</td><td>--</td></tr>\n",
       "</table>"
      ],
      "text/plain": [
       "<Table length=3>\n",
       "      name           ra        dec      j_m   ... h_msigcom   ks_m  ks_msigcom\n",
       "                    deg        deg      mag   ...    mag      mag      mag    \n",
       "     object       float64    float64  float32 ...  float32  float32  float32  \n",
       "---------------- ---------- --------- ------- ... --------- ------- ----------\n",
       "13295271+4711426 202.469643 47.195183  11.295 ...     0.047  10.157      0.039\n",
       "13295280+4711380 202.470041 47.193913  13.249 ...        --  10.499         --\n",
       "13295232+4711455 202.468003 47.195999  13.509 ...        --    10.5         --"
      ]
     },
     "execution_count": 11,
     "metadata": {},
     "output_type": "execute_result"
    }
   ],
   "source": [
    "result = ESASky.query_object_catalogs(\"M51\",\"TwoMASS\")\n",
    "result[0]"
   ]
  },
  {
   "cell_type": "code",
   "execution_count": 12,
   "metadata": {},
   "outputs": [
    {
     "data": {
      "text/html": [
       "<i>Table length=188</i>\n",
       "<table id=\"table1564491888528\" class=\"table-striped table-bordered table-condensed\">\n",
       "<thead><tr><th>name</th><th>ra</th><th>dec</th><th>j_m</th><th>j_msigcom</th><th>h_m</th><th>h_msigcom</th><th>ks_m</th><th>ks_msigcom</th></tr></thead>\n",
       "<thead><tr><th></th><th>deg</th><th>deg</th><th>mag</th><th>mag</th><th>mag</th><th>mag</th><th>mag</th><th>mag</th></tr></thead>\n",
       "<thead><tr><th>object</th><th>float64</th><th>float64</th><th>float32</th><th>float32</th><th>float32</th><th>float32</th><th>float32</th><th>float32</th></tr></thead>\n",
       "<tr><td>13301863+4720053</td><td>202.577634</td><td>47.334831</td><td>15.373</td><td>0.048</td><td>14.702</td><td>0.067</td><td>14.482</td><td>0.09</td></tr>\n",
       "<tr><td>13301093+4719530</td><td>202.545583</td><td>47.331413</td><td>12.611</td><td>0.022</td><td>12.009</td><td>0.018</td><td>11.769</td><td>0.02</td></tr>\n",
       "<tr><td>13303401+4716447</td><td>202.641722</td><td>47.279102</td><td>12.158</td><td>0.022</td><td>11.835</td><td>0.021</td><td>11.792</td><td>0.02</td></tr>\n",
       "<tr><td>13303706+4714415</td><td>202.654436</td><td>47.244888</td><td>16.052</td><td>0.09</td><td>15.734</td><td>0.158</td><td>15.473</td><td>0.207</td></tr>\n",
       "<tr><td>13304629+4710039</td><td>202.692888</td><td>47.16777</td><td>16.46</td><td>0.133</td><td>15.665</td><td>0.138</td><td>15.44</td><td>0.207</td></tr>\n",
       "<tr><td>13303389+4714032</td><td>202.641234</td><td>47.234249</td><td>15.796</td><td>0.07</td><td>15.162</td><td>0.092</td><td>15.118</td><td>0.157</td></tr>\n",
       "<tr><td>13303479+4713356</td><td>202.644972</td><td>47.22657</td><td>16.163</td><td>0.104</td><td>16.011</td><td>0.204</td><td>15.639</td><td>0.237</td></tr>\n",
       "<tr><td>13303484+4712288</td><td>202.645178</td><td>47.208027</td><td>15.144</td><td>0.044</td><td>14.49</td><td>0.053</td><td>14.272</td><td>0.074</td></tr>\n",
       "<tr><td>13303022+4712346</td><td>202.625925</td><td>47.209625</td><td>16.499</td><td>0.125</td><td>15.722</td><td>0.153</td><td>15.501</td><td>0.219</td></tr>\n",
       "<tr><td>...</td><td>...</td><td>...</td><td>...</td><td>...</td><td>...</td><td>...</td><td>...</td><td>...</td></tr>\n",
       "<tr><td>13290548+4710443</td><td>202.272834</td><td>47.178982</td><td>13.781</td><td>0.025</td><td>13.361</td><td>0.028</td><td>13.219</td><td>0.033</td></tr>\n",
       "<tr><td>13290390+4709431</td><td>202.266251</td><td>47.16198</td><td>11.926</td><td>0.022</td><td>11.269</td><td>0.021</td><td>11.118</td><td>0.02</td></tr>\n",
       "<tr><td>13290436+4709251</td><td>202.268205</td><td>47.156994</td><td>13.161</td><td>0.022</td><td>12.883</td><td>0.023</td><td>12.853</td><td>0.03</td></tr>\n",
       "<tr><td>13285657+4711188</td><td>202.23573</td><td>47.188568</td><td>15.848</td><td>0.076</td><td>15.344</td><td>0.104</td><td>14.925</td><td>0.124</td></tr>\n",
       "<tr><td>13301778+4702443</td><td>202.574109</td><td>47.045643</td><td>15.892</td><td>0.073</td><td>15.843</td><td>0.173</td><td>15.126</td><td>0.15</td></tr>\n",
       "<tr><td>13301082+4702563</td><td>202.545103</td><td>47.048988</td><td>16.477</td><td>0.127</td><td>15.937</td><td>0.18</td><td>15.262</td><td>0.174</td></tr>\n",
       "<tr><td>13300911+4702107</td><td>202.537983</td><td>47.036324</td><td>10.745</td><td>0.021</td><td>10.221</td><td>0.016</td><td>10.143</td><td>0.018</td></tr>\n",
       "<tr><td>13295248+4702391</td><td>202.46867</td><td>47.044216</td><td>14.439</td><td>0.032</td><td>14.091</td><td>0.042</td><td>13.987</td><td>0.057</td></tr>\n",
       "<tr><td>13292517+4705070</td><td>202.354893</td><td>47.085281</td><td>16.568</td><td>0.144</td><td>15.728</td><td>0.139</td><td>15.506</td><td>0.199</td></tr>\n",
       "<tr><td>13294635+4702513</td><td>202.443152</td><td>47.047604</td><td>15.209</td><td>0.048</td><td>14.737</td><td>0.066</td><td>14.656</td><td>0.095</td></tr>\n",
       "</table>"
      ],
      "text/plain": [
       "<Table length=188>\n",
       "      name           ra        dec      j_m   ... h_msigcom   ks_m  ks_msigcom\n",
       "                    deg        deg      mag   ...    mag      mag      mag    \n",
       "     object       float64    float64  float32 ...  float32  float32  float32  \n",
       "---------------- ---------- --------- ------- ... --------- ------- ----------\n",
       "13301863+4720053 202.577634 47.334831  15.373 ...     0.067  14.482       0.09\n",
       "13301093+4719530 202.545583 47.331413  12.611 ...     0.018  11.769       0.02\n",
       "13303401+4716447 202.641722 47.279102  12.158 ...     0.021  11.792       0.02\n",
       "13303706+4714415 202.654436 47.244888  16.052 ...     0.158  15.473      0.207\n",
       "13304629+4710039 202.692888  47.16777   16.46 ...     0.138   15.44      0.207\n",
       "13303389+4714032 202.641234 47.234249  15.796 ...     0.092  15.118      0.157\n",
       "13303479+4713356 202.644972  47.22657  16.163 ...     0.204  15.639      0.237\n",
       "13303484+4712288 202.645178 47.208027  15.144 ...     0.053  14.272      0.074\n",
       "13303022+4712346 202.625925 47.209625  16.499 ...     0.153  15.501      0.219\n",
       "             ...        ...       ...     ... ...       ...     ...        ...\n",
       "13290548+4710443 202.272834 47.178982  13.781 ...     0.028  13.219      0.033\n",
       "13290390+4709431 202.266251  47.16198  11.926 ...     0.021  11.118       0.02\n",
       "13290436+4709251 202.268205 47.156994  13.161 ...     0.023  12.853       0.03\n",
       "13285657+4711188  202.23573 47.188568  15.848 ...     0.104  14.925      0.124\n",
       "13301778+4702443 202.574109 47.045643  15.892 ...     0.173  15.126       0.15\n",
       "13301082+4702563 202.545103 47.048988  16.477 ...      0.18  15.262      0.174\n",
       "13300911+4702107 202.537983 47.036324  10.745 ...     0.016  10.143      0.018\n",
       "13295248+4702391  202.46867 47.044216  14.439 ...     0.042  13.987      0.057\n",
       "13292517+4705070 202.354893 47.085281  16.568 ...     0.139  15.506      0.199\n",
       "13294635+4702513 202.443152 47.047604  15.209 ...     0.066  14.656      0.095"
      ]
     },
     "execution_count": 12,
     "metadata": {},
     "output_type": "execute_result"
    }
   ],
   "source": [
    "result = ESASky.query_region_catalogs(\"M51\",10*u.arcminute,\"TwoMASS\")\n",
    "result[0]"
   ]
  },
  {
   "cell_type": "markdown",
   "metadata": {},
   "source": [
    "We can also query and download images:"
   ]
  },
  {
   "cell_type": "code",
   "execution_count": 22,
   "metadata": {},
   "outputs": [
    {
     "name": "stdout",
     "output_type": "stream",
     "text": [
      "INFO: Starting download of HERSCHEL data. (25 files) [astroquery.esasky.core]\n",
      "INFO: Downloading Observation ID: 1342188329 from http://archives.esac.esa.int/hsa/whsa-tap-server/data?RETRIEVAL_TYPE=STANDALONE&observation_oid=8637834&DATA_RETRIEVAL_ORIGIN=UI [astroquery.esasky.core]\n",
      "INFO: [Done] [astroquery.esasky.core]\n",
      "INFO: Downloading Observation ID: 1342248041 from http://archives.esac.esa.int/hsa/whsa-tap-server/data?RETRIEVAL_TYPE=STANDALONE&observation_oid=8605750&DATA_RETRIEVAL_ORIGIN=UI [astroquery.esasky.core]\n",
      "INFO: [Done] [astroquery.esasky.core]\n",
      "INFO: Downloading Observation ID: 1342232463 from http://archives.esac.esa.int/hsa/whsa-tap-server/data?RETRIEVAL_TYPE=STANDALONE&observation_oid=8638400&DATA_RETRIEVAL_ORIGIN=UI [astroquery.esasky.core]\n",
      "INFO: [Done] [astroquery.esasky.core]\n",
      "INFO: Downloading Observation ID: 1342248040 from http://archives.esac.esa.int/hsa/whsa-tap-server/data?RETRIEVAL_TYPE=STANDALONE&observation_oid=8605714&DATA_RETRIEVAL_ORIGIN=UI [astroquery.esasky.core]\n",
      "INFO: [Done] [astroquery.esasky.core]\n",
      "INFO: Downloading Observation ID: 1342223510 from http://archives.esac.esa.int/hsa/whsa-tap-server/data?RETRIEVAL_TYPE=STANDALONE&observation_oid=8605320&DATA_RETRIEVAL_ORIGIN=UI [astroquery.esasky.core]\n",
      "INFO: [Done] [astroquery.esasky.core]\n",
      "INFO: Downloading Observation ID: 1342254492 from http://archives.esac.esa.int/hsa/whsa-tap-server/data?RETRIEVAL_TYPE=STANDALONE&observation_oid=8605816&DATA_RETRIEVAL_ORIGIN=UI [astroquery.esasky.core]\n",
      "INFO: [Done] [astroquery.esasky.core]\n",
      "INFO: Downloading Observation ID: 1342224632 from http://archives.esac.esa.int/hsa/whsa-tap-server/data?RETRIEVAL_TYPE=STANDALONE&observation_oid=8605379&DATA_RETRIEVAL_ORIGIN=UI [astroquery.esasky.core]\n",
      "INFO: [Done] [astroquery.esasky.core]\n",
      "INFO: Downloading Observation ID: 1342235357 from http://archives.esac.esa.int/hsa/whsa-tap-server/data?RETRIEVAL_TYPE=STANDALONE&observation_oid=8605601&DATA_RETRIEVAL_ORIGIN=UI [astroquery.esasky.core]\n",
      "INFO: [Done] [astroquery.esasky.core]\n",
      "INFO: Downloading Observation ID: 1342231667 from http://archives.esac.esa.int/hsa/whsa-tap-server/data?RETRIEVAL_TYPE=STANDALONE&observation_oid=8605477&DATA_RETRIEVAL_ORIGIN=UI [astroquery.esasky.core]\n",
      "INFO: [Done] [astroquery.esasky.core]\n",
      "INFO: Downloading Observation ID: 1342237378 from http://archives.esac.esa.int/hsa/whsa-tap-server/data?RETRIEVAL_TYPE=STANDALONE&observation_oid=8605640&DATA_RETRIEVAL_ORIGIN=UI [astroquery.esasky.core]\n",
      "INFO: [Done] [astroquery.esasky.core]\n",
      "INFO: Downloading Observation ID: 1342254493 from http://archives.esac.esa.int/hsa/whsa-tap-server/data?RETRIEVAL_TYPE=STANDALONE&observation_oid=8612127&DATA_RETRIEVAL_ORIGIN=UI [astroquery.esasky.core]\n",
      "INFO: [Done] [astroquery.esasky.core]\n",
      "INFO: Downloading Observation ID: 1342237379 from http://archives.esac.esa.int/hsa/whsa-tap-server/data?RETRIEVAL_TYPE=STANDALONE&observation_oid=8605675&DATA_RETRIEVAL_ORIGIN=UI [astroquery.esasky.core]\n",
      "INFO: [Done] [astroquery.esasky.core]\n",
      "INFO: Downloading Observation ID: 1342224973 from http://archives.esac.esa.int/hsa/whsa-tap-server/data?RETRIEVAL_TYPE=STANDALONE&observation_oid=8612038&DATA_RETRIEVAL_ORIGIN=UI [astroquery.esasky.core]\n",
      "INFO: [Done] [astroquery.esasky.core]\n",
      "INFO: Downloading Observation ID: 1342234914 from http://archives.esac.esa.int/hsa/whsa-tap-server/data?RETRIEVAL_TYPE=STANDALONE&observation_oid=8612056&DATA_RETRIEVAL_ORIGIN=UI [astroquery.esasky.core]\n",
      "INFO: [Done] [astroquery.esasky.core]\n",
      "INFO: Downloading Observation ID: 1342223511 from http://archives.esac.esa.int/hsa/whsa-tap-server/data?RETRIEVAL_TYPE=STANDALONE&observation_oid=8605351&DATA_RETRIEVAL_ORIGIN=UI [astroquery.esasky.core]\n",
      "INFO: [Done] [astroquery.esasky.core]\n",
      "INFO: Downloading Observation ID: 1342247978 from http://archives.esac.esa.int/hsa/whsa-tap-server/data?RETRIEVAL_TYPE=STANDALONE&observation_oid=8612102&DATA_RETRIEVAL_ORIGIN=UI [astroquery.esasky.core]\n",
      "INFO: [Done] [astroquery.esasky.core]\n",
      "INFO: Downloading Observation ID: 1342254491 from http://archives.esac.esa.int/hsa/whsa-tap-server/data?RETRIEVAL_TYPE=STANDALONE&observation_oid=8605787&DATA_RETRIEVAL_ORIGIN=UI [astroquery.esasky.core]\n",
      "INFO: [Done] [astroquery.esasky.core]\n",
      "INFO: Downloading Observation ID: 1342224633 from http://archives.esac.esa.int/hsa/whsa-tap-server/data?RETRIEVAL_TYPE=STANDALONE&observation_oid=8605410&DATA_RETRIEVAL_ORIGIN=UI [astroquery.esasky.core]\n",
      "INFO: [Done] [astroquery.esasky.core]\n",
      "INFO: Downloading Observation ID: 1342224023 from http://archives.esac.esa.int/hsa/whsa-tap-server/data?RETRIEVAL_TYPE=STANDALONE&observation_oid=8612020&DATA_RETRIEVAL_ORIGIN=UI [astroquery.esasky.core]\n",
      "INFO: [Done] [astroquery.esasky.core]\n",
      "INFO: Downloading Observation ID: 1342231666 from http://archives.esac.esa.int/hsa/whsa-tap-server/data?RETRIEVAL_TYPE=STANDALONE&observation_oid=8605442&DATA_RETRIEVAL_ORIGIN=UI [astroquery.esasky.core]\n",
      "INFO: [Done] [astroquery.esasky.core]\n",
      "INFO: Downloading Observation ID: 1342232462 from http://archives.esac.esa.int/hsa/whsa-tap-server/data?RETRIEVAL_TYPE=STANDALONE&observation_oid=8605509&DATA_RETRIEVAL_ORIGIN=UI [astroquery.esasky.core]\n",
      "INFO: [Done] [astroquery.esasky.core]\n",
      "INFO: Downloading Observation ID: 1342188589 from http://archives.esac.esa.int/hsa/whsa-tap-server/data?RETRIEVAL_TYPE=STANDALONE&observation_oid=8618001&DATA_RETRIEVAL_ORIGIN=UI [astroquery.esasky.core]\n",
      "INFO: [Done] [astroquery.esasky.core]\n",
      "INFO: Downloading Observation ID: 1342188328 from http://archives.esac.esa.int/hsa/whsa-tap-server/data?RETRIEVAL_TYPE=STANDALONE&observation_oid=8637833&DATA_RETRIEVAL_ORIGIN=UI [astroquery.esasky.core]\n",
      "INFO: [Done] [astroquery.esasky.core]\n",
      "INFO: Downloading Observation ID: 1342235356 from http://archives.esac.esa.int/hsa/whsa-tap-server/data?RETRIEVAL_TYPE=STANDALONE&observation_oid=8605569&DATA_RETRIEVAL_ORIGIN=UI [astroquery.esasky.core]\n",
      "INFO: [Done] [astroquery.esasky.core]\n",
      "INFO: Downloading Observation ID: 1342237513 from http://archives.esac.esa.int/hsa/whsa-tap-server/data?RETRIEVAL_TYPE=STANDALONE&observation_oid=8612078&DATA_RETRIEVAL_ORIGIN=UI [astroquery.esasky.core]\n",
      "INFO: [Done] [astroquery.esasky.core]\n",
      "INFO: Downloading of HERSCHEL data complete. [astroquery.esasky.core]\n",
      "INFO: Maps available at C:\\Users\\thund\\Desktop\\ASTR_497\\ASTR497\\astropy_notebooks\\Maps [astroquery.esasky.core]\n"
     ]
    }
   ],
   "source": [
    "image = ESASky.get_images(\"M51\", radius=5*u.arcmin, missions=['Herschel'], cache = False)\n"
   ]
  },
  {
   "cell_type": "code",
   "execution_count": 23,
   "metadata": {},
   "outputs": [
    {
     "name": "stdout",
     "output_type": "stream",
     "text": [
      "Filename: Maps/HERSCHEL/anonymous1622238285/hpacs_25HPPJSMAPR_1330_p4712_00_v1.0_1470494059433.fits.gz\n",
      "No.    Name      Ver    Type      Cards   Dimensions   Format\n",
      "  0  PRIMARY       1 PrimaryHDU     284   ()      \n",
      "  1  image         1 ImageHDU        52   (458, 462)   float64   \n",
      "  2  coverage      1 ImageHDU        55   (458, 462)   float64   \n",
      "  3  stDev         1 ImageHDU        55   (458, 462)   float64   \n",
      "  4  History       1 ImageHDU        23   ()      \n",
      "  5  HistoryScript    1 BinTableHDU     39   81R x 1C   [321A]   \n",
      "  6  HistoryTasks    1 BinTableHDU     46   55R x 4C   [1K, 38A, 1K, 9A]   \n",
      "  7  HistoryParameters    1 BinTableHDU     74   507R x 10C   [1K, 21A, 7A, 31A, 1L, 1K, 1L, 58A, 11A, 35A]   \n"
     ]
    }
   ],
   "source": [
    "image['HERSCHEL'][0]['160'].info()"
   ]
  },
  {
   "cell_type": "code",
   "execution_count": 26,
   "metadata": {},
   "outputs": [
    {
     "data": {
      "text/plain": [
       "<matplotlib.image.AxesImage at 0x16c45e3caf0>"
      ]
     },
     "execution_count": 26,
     "metadata": {},
     "output_type": "execute_result"
    },
    {
     "data": {
      "image/png": "[encoded data removed]",
      "text/plain": [
       "<Figure size 720x432 with 1 Axes>"
      ]
     },
     "metadata": {
      "needs_background": "light"
     },
     "output_type": "display_data"
    }
   ],
   "source": [
    "plt.imshow(image['HERSCHEL'][0]['160']['image'].data)"
   ]
  },
  {
   "cell_type": "code",
   "execution_count": null,
   "metadata": {},
   "outputs": [],
   "source": []
  },
  {
   "cell_type": "markdown",
   "metadata": {},
   "source": [
    "## Using PyVO\n",
    "\n",
    "The PyVO package differs a bit from astroquery in that it does not have specialized sub-packages for different services. Instead, it implements and exposes the VO query standards. It is a lower level package that may require more knowledge about the VO, so it is not necessarily as user friendly as astroquery, but on the other hand it can work with any VO-compliant service. Astroquery is starting to use PyVO in places behind the scenes.\n",
    "\n",
    "We can take a look at an example that consists of downloading the 2MASS images for the M17 region:"
   ]
  },
  {
   "cell_type": "code",
   "execution_count": 15,
   "metadata": {},
   "outputs": [],
   "source": [
    "from astroquery.jplhorizons import Horizons"
   ]
  },
  {
   "cell_type": "code",
   "execution_count": 16,
   "metadata": {},
   "outputs": [
    {
     "name": "stdout",
     "output_type": "stream",
     "text": [
      "JPLHorizons instance \"Ceres\"; location=568, epochs=[2458133.33546], id_type=smallbody\n"
     ]
    }
   ],
   "source": [
    "obj = Horizons(id='Ceres',location='568',epochs=2458133.33546)\n",
    "print(obj)"
   ]
  },
  {
   "cell_type": "code",
   "execution_count": 17,
   "metadata": {},
   "outputs": [
    {
     "data": {
      "text/html": [
       "<i>Table masked=True length=1</i>\n",
       "<table id=\"table1564488521232\" class=\"table-striped table-bordered table-condensed\">\n",
       "<thead><tr><th>targetname</th><th>datetime_str</th><th>datetime_jd</th><th>H</th><th>G</th><th>solar_presence</th><th>flags</th><th>RA</th><th>DEC</th><th>RA_app</th><th>DEC_app</th><th>RA_rate</th><th>DEC_rate</th><th>AZ</th><th>EL</th><th>AZ_rate</th><th>EL_rate</th><th>sat_X</th><th>sat_Y</th><th>sat_PANG</th><th>siderealtime</th><th>airmass</th><th>magextinct</th><th>V</th><th>surfbright</th><th>illumination</th><th>illum_defect</th><th>sat_sep</th><th>sat_vis</th><th>ang_width</th><th>PDObsLon</th><th>PDObsLat</th><th>PDSunLon</th><th>PDSunLat</th><th>SubSol_ang</th><th>SubSol_dist</th><th>NPole_ang</th><th>NPole_dist</th><th>EclLon</th><th>EclLat</th><th>r</th><th>r_rate</th><th>delta</th><th>delta_rate</th><th>lighttime</th><th>vel_sun</th><th>vel_obs</th><th>elong</th><th>elongFlag</th><th>alpha</th><th>lunar_elong</th><th>lunar_illum</th><th>sat_alpha</th><th>sunTargetPA</th><th>velocityPA</th><th>OrbPlaneAng</th><th>constellation</th><th>TDB-UT</th><th>ObsEclLon</th><th>ObsEclLat</th><th>NPole_RA</th><th>NPole_DEC</th><th>GlxLon</th><th>GlxLat</th><th>solartime</th><th>earth_lighttime</th><th>RA_3sigma</th><th>DEC_3sigma</th><th>SMAA_3sigma</th><th>SMIA_3sigma</th><th>Theta_3sigma</th><th>Area_3sigma</th><th>RSS_3sigma</th><th>r_3sigma</th><th>r_rate_3sigma</th><th>SBand_3sigma</th><th>XBand_3sigma</th><th>DoppDelay_3sigma</th><th>true_anom</th><th>hour_angle</th><th>alpha_true</th><th>PABLon</th><th>PABLat</th></tr></thead>\n",
       "<thead><tr><th>---</th><th>---</th><th>d</th><th>mag</th><th>---</th><th>---</th><th>---</th><th>deg</th><th>deg</th><th>deg</th><th>deg</th><th>arcsec / h</th><th>arcsec / h</th><th>deg</th><th>deg</th><th>arcsec / min</th><th>arcsec / min</th><th>arcsec</th><th>arcsec</th><th>deg</th><th>---</th><th>---</th><th>mag</th><th>mag</th><th>mag / arcsec2</th><th>%</th><th>arcsec</th><th>arcsec</th><th>---</th><th>arcsec</th><th>deg</th><th>deg</th><th>deg</th><th>deg</th><th>deg</th><th>arcsec</th><th>deg</th><th>arcsec</th><th>deg</th><th>deg</th><th>AU</th><th>km / s</th><th>AU</th><th>km / s</th><th>min</th><th>km / s</th><th>km / s</th><th>deg</th><th>---</th><th>deg</th><th>deg</th><th>%</th><th>deg</th><th>deg</th><th>deg</th><th>deg</th><th>---</th><th>s</th><th>deg</th><th>deg</th><th>deg</th><th>deg</th><th>deg</th><th>deg</th><th>---</th><th>min</th><th>arcsec</th><th>arcsec</th><th>arcsec</th><th>arcsec</th><th>deg</th><th>arcsec2</th><th>arcsec</th><th>km</th><th>km / s</th><th>Hz</th><th>Hz</th><th>s</th><th>deg</th><th>---</th><th>deg</th><th>deg</th><th>deg</th></tr></thead>\n",
       "<thead><tr><th>str17</th><th>str24</th><th>float64</th><th>float64</th><th>float64</th><th>str1</th><th>str1</th><th>float64</th><th>float64</th><th>float64</th><th>float64</th><th>float64</th><th>float64</th><th>float64</th><th>float64</th><th>float64</th><th>float64</th><th>float64</th><th>float64</th><th>float64</th><th>float64</th><th>int32</th><th>int32</th><th>float64</th><th>float64</th><th>float64</th><th>float64</th><th>float64</th><th>str1</th><th>float64</th><th>float64</th><th>float64</th><th>float64</th><th>float64</th><th>float64</th><th>float64</th><th>float64</th><th>float64</th><th>float64</th><th>float64</th><th>float64</th><th>float64</th><th>float64</th><th>float64</th><th>float64</th><th>float64</th><th>float64</th><th>float64</th><th>str2</th><th>float64</th><th>float64</th><th>float64</th><th>float64</th><th>float64</th><th>float64</th><th>float64</th><th>str3</th><th>float64</th><th>float64</th><th>float64</th><th>float64</th><th>float64</th><th>float64</th><th>float64</th><th>float64</th><th>float64</th><th>float64</th><th>float64</th><th>float64</th><th>float64</th><th>float64</th><th>float64</th><th>float64</th><th>float64</th><th>float64</th><th>float64</th><th>float64</th><th>float64</th><th>float64</th><th>float64</th><th>float64</th><th>float64</th><th>float64</th></tr></thead>\n",
       "<tr><td>1 Ceres (A801 AA)</td><td>2018-Jan-14 20:03:03.744</td><td>2458133.33546</td><td>3.53</td><td>0.12</td><td>*</td><td>m</td><td>141.51866</td><td>27.97687</td><td>141.78435</td><td>27.89576</td><td>-22.0125</td><td>20.39799</td><td>306.541283</td><td>-13.199782</td><td>413.9</td><td>-682.23</td><td>-519374.55</td><td>176742.392</td><td>291.318</td><td>17.3018349135</td><td>999</td><td>--</td><td>7.291</td><td>6.557</td><td>99.39904</td><td>0.0049</td><td>562036.2</td><td>*</td><td>0.807913</td><td>330.609439</td><td>-8.681803</td><td>338.855294</td><td>-4.685907</td><td>79.35</td><td>0.06</td><td>11.5783</td><td>-0.369</td><td>127.2076</td><td>7.776</td><td>2.57596175446</td><td>-0.588356</td><td>1.64551557005437</td><td>-8.0581158</td><td>13.68533569</td><td>19.1879131</td><td>12.8033866</td><td>156.1212</td><td>/L</td><td>8.8967</td><td>132.8</td><td>4.512</td><td>14.9855</td><td>259.252</td><td>282.867</td><td>-3.52914</td><td>Leo</td><td>69.184341</td><td>135.276835</td><td>12.2295361</td><td>291.42763</td><td>66.76033</td><td>199.40599</td><td>44.825962</td><td>9.533381474</td><td>0.000355</td><td>0.0</td><td>0.0</td><td>0.00013</td><td>3e-05</td><td>83.526</td><td>0.0</td><td>0.0</td><td>0.0128</td><td>0.0</td><td>0.0</td><td>0.0</td><td>0.0</td><td>334.2965</td><td>7.8495452</td><td>8.8922</td><td>131.0862</td><td>10.0248</td></tr>\n",
       "</table>"
      ],
      "text/plain": [
       "<Table masked=True length=1>\n",
       "    targetname          datetime_str        datetime_jd  ...  PABLon   PABLat\n",
       "       ---                  ---                  d       ...   deg      deg  \n",
       "      str17                str24              float64    ... float64  float64\n",
       "----------------- ------------------------ ------------- ... -------- -------\n",
       "1 Ceres (A801 AA) 2018-Jan-14 20:03:03.744 2458133.33546 ... 131.0862 10.0248"
      ]
     },
     "execution_count": 17,
     "metadata": {},
     "output_type": "execute_result"
    }
   ],
   "source": [
    "obj.ephemerides()"
   ]
  },
  {
   "cell_type": "code",
   "execution_count": 18,
   "metadata": {},
   "outputs": [
    {
     "name": "stdout",
     "output_type": "stream",
     "text": [
      "JPLHorizons instance \"Ceres\"; location={'lon': -122.3493, 'lat': 47.6205, 'elevation': 0}, epochs={'start': '2021-05-28', 'stop': '2021-06-05', 'step': '1d'}, id_type=smallbody\n"
     ]
    }
   ],
   "source": [
    "space_needle = {'lon': -122.3493,'lat':47.6205,'elevation':0}\n",
    "obj1 = Horizons(id='Ceres',location=space_needle,epochs={'start': '2021-05-28','stop':'2021-06-05','step':'1d'})\n",
    "print(obj1)"
   ]
  },
  {
   "cell_type": "code",
   "execution_count": 19,
   "metadata": {},
   "outputs": [
    {
     "data": {
      "text/html": [
       "<i>Table masked=True length=9</i>\n",
       "<table id=\"table1564492893776\" class=\"table-striped table-bordered table-condensed\">\n",
       "<thead><tr><th>targetname</th><th>datetime_str</th><th>datetime_jd</th><th>H</th><th>G</th><th>solar_presence</th><th>flags</th><th>RA</th><th>DEC</th><th>RA_app</th><th>DEC_app</th><th>RA_rate</th><th>DEC_rate</th><th>AZ</th><th>EL</th><th>AZ_rate</th><th>EL_rate</th><th>sat_X</th><th>sat_Y</th><th>sat_PANG</th><th>siderealtime</th><th>airmass</th><th>magextinct</th><th>V</th><th>surfbright</th><th>illumination</th><th>illum_defect</th><th>sat_sep</th><th>sat_vis</th><th>ang_width</th><th>PDObsLon</th><th>PDObsLat</th><th>PDSunLon</th><th>PDSunLat</th><th>SubSol_ang</th><th>SubSol_dist</th><th>NPole_ang</th><th>NPole_dist</th><th>EclLon</th><th>EclLat</th><th>r</th><th>r_rate</th><th>delta</th><th>delta_rate</th><th>lighttime</th><th>vel_sun</th><th>vel_obs</th><th>elong</th><th>elongFlag</th><th>alpha</th><th>lunar_elong</th><th>lunar_illum</th><th>sat_alpha</th><th>sunTargetPA</th><th>velocityPA</th><th>OrbPlaneAng</th><th>constellation</th><th>TDB-UT</th><th>ObsEclLon</th><th>ObsEclLat</th><th>NPole_RA</th><th>NPole_DEC</th><th>GlxLon</th><th>GlxLat</th><th>solartime</th><th>earth_lighttime</th><th>RA_3sigma</th><th>DEC_3sigma</th><th>SMAA_3sigma</th><th>SMIA_3sigma</th><th>Theta_3sigma</th><th>Area_3sigma</th><th>RSS_3sigma</th><th>r_3sigma</th><th>r_rate_3sigma</th><th>SBand_3sigma</th><th>XBand_3sigma</th><th>DoppDelay_3sigma</th><th>true_anom</th><th>hour_angle</th><th>alpha_true</th><th>PABLon</th><th>PABLat</th></tr></thead>\n",
       "<thead><tr><th>---</th><th>---</th><th>d</th><th>mag</th><th>---</th><th>---</th><th>---</th><th>deg</th><th>deg</th><th>deg</th><th>deg</th><th>arcsec / h</th><th>arcsec / h</th><th>deg</th><th>deg</th><th>arcsec / min</th><th>arcsec / min</th><th>arcsec</th><th>arcsec</th><th>deg</th><th>---</th><th>---</th><th>mag</th><th>mag</th><th>mag / arcsec2</th><th>%</th><th>arcsec</th><th>arcsec</th><th>---</th><th>arcsec</th><th>deg</th><th>deg</th><th>deg</th><th>deg</th><th>deg</th><th>arcsec</th><th>deg</th><th>arcsec</th><th>deg</th><th>deg</th><th>AU</th><th>km / s</th><th>AU</th><th>km / s</th><th>min</th><th>km / s</th><th>km / s</th><th>deg</th><th>---</th><th>deg</th><th>deg</th><th>%</th><th>deg</th><th>deg</th><th>deg</th><th>deg</th><th>---</th><th>s</th><th>deg</th><th>deg</th><th>deg</th><th>deg</th><th>deg</th><th>deg</th><th>---</th><th>min</th><th>arcsec</th><th>arcsec</th><th>arcsec</th><th>arcsec</th><th>deg</th><th>arcsec2</th><th>arcsec</th><th>km</th><th>km / s</th><th>Hz</th><th>Hz</th><th>s</th><th>deg</th><th>---</th><th>deg</th><th>deg</th><th>deg</th></tr></thead>\n",
       "<thead><tr><th>str17</th><th>str17</th><th>float64</th><th>float64</th><th>float64</th><th>str1</th><th>str1</th><th>float64</th><th>float64</th><th>float64</th><th>float64</th><th>float64</th><th>float64</th><th>float64</th><th>float64</th><th>float64</th><th>float64</th><th>float64</th><th>float64</th><th>float64</th><th>float64</th><th>float64</th><th>float64</th><th>float64</th><th>float64</th><th>float64</th><th>float64</th><th>float64</th><th>str1</th><th>float64</th><th>float64</th><th>float64</th><th>float64</th><th>float64</th><th>float64</th><th>float64</th><th>float64</th><th>float64</th><th>float64</th><th>float64</th><th>float64</th><th>float64</th><th>float64</th><th>float64</th><th>float64</th><th>float64</th><th>float64</th><th>float64</th><th>str2</th><th>float64</th><th>float64</th><th>float64</th><th>float64</th><th>float64</th><th>float64</th><th>float64</th><th>str3</th><th>float64</th><th>float64</th><th>float64</th><th>float64</th><th>float64</th><th>float64</th><th>float64</th><th>float64</th><th>float64</th><th>float64</th><th>float64</th><th>float64</th><th>float64</th><th>float64</th><th>float64</th><th>float64</th><th>float64</th><th>float64</th><th>float64</th><th>float64</th><th>float64</th><th>float64</th><th>float64</th><th>float64</th><th>float64</th><th>float64</th></tr></thead>\n",
       "<tr><td>1 Ceres (A801 AA)</td><td>2021-May-28 00:00</td><td>2459362.5</td><td>3.53</td><td>0.12</td><td>*</td><td></td><td>37.13233</td><td>7.73169</td><td>37.40703</td><td>7.82417</td><td>53.68094</td><td>18.88233</td><td>272.356902</td><td>8.463128</td><td>655.26</td><td>-606.94</td><td>-92665.69</td><td>-49084.49</td><td>247.093</td><td>8.2269586049</td><td>6.442</td><td>1.811</td><td>9.359</td><td>6.855</td><td>99.22494</td><td>0.0028</td><td>107818.0</td><td>*</td><td>0.357512</td><td>51.326955</td><td>-1.190996</td><td>61.333723</td><td>0.425018</td><td>59.92</td><td>0.03</td><td>337.7425</td><td>-0.165</td><td>27.3205</td><td>-8.4852</td><td>2.885271756099</td><td>-1.1220645</td><td>3.71856851090642</td><td>-11.8165585</td><td>30.92639127</td><td>17.1514415</td><td>44.2392417</td><td>29.9494</td><td>/L</td><td>10.0967</td><td>128.1</td><td>96.3443</td><td>139.9571</td><td>239.852</td><td>243.728</td><td>-0.70474</td><td>Cet</td><td>69.185013</td><td>37.6129193</td><td>-6.5729068</td><td>291.42763</td><td>66.76033</td><td>160.387088</td><td>-47.956215</td><td>15.8893125482</td><td>0.000354</td><td>0.0</td><td>0.0</td><td>7e-05</td><td>1e-05</td><td>-69.223</td><td>0.0</td><td>0.0</td><td>0.013</td><td>0.0</td><td>0.0</td><td>0.0</td><td>0.0</td><td>232.8411</td><td>5.733156917</td><td>10.1014</td><td>32.3314</td><td>-7.5588</td></tr>\n",
       "<tr><td>1 Ceres (A801 AA)</td><td>2021-May-29 00:00</td><td>2459363.5</td><td>3.53</td><td>0.12</td><td>*</td><td></td><td>37.49341</td><td>7.85795</td><td>37.76845</td><td>7.95004</td><td>53.63089</td><td>18.74809</td><td>272.901697</td><td>8.13511</td><td>655.14</td><td>-606.68</td><td>-94759.79</td><td>-49199.19</td><td>247.703</td><td>8.2926716847</td><td>6.672</td><td>1.876</td><td>9.362</td><td>6.862</td><td>99.1976</td><td>0.0029</td><td>109837.6</td><td>*</td><td>0.358193</td><td>283.140103</td><td>-1.168823</td><td>293.329968</td><td>0.408943</td><td>60.28</td><td>0.03</td><td>337.7855</td><td>-0.166</td><td>27.5178</td><td>-8.4634</td><td>2.884622839741</td><td>-1.1249833</td><td>3.7115050779073</td><td>-12.0243916</td><td>30.86764649</td><td>17.15547</td><td>44.1513456</td><td>30.5104</td><td>/L</td><td>10.2738</td><td>113.9</td><td>90.6422</td><td>139.219</td><td>240.215</td><td>243.77</td><td>-0.65929</td><td>Cet</td><td>69.18499</td><td>37.9948759</td><td>-6.567124</td><td>291.42763</td><td>66.76033</td><td>160.729396</td><td>-47.654409</td><td>15.8872126713</td><td>0.000354</td><td>0.0</td><td>0.0</td><td>7e-05</td><td>1e-05</td><td>-69.238</td><td>0.0</td><td>0.0</td><td>0.0129</td><td>0.0</td><td>0.0</td><td>0.0</td><td>0.0</td><td>233.0374</td><td>5.774774701</td><td>10.2785</td><td>32.621</td><td>-7.546</td></tr>\n",
       "<tr><td>1 Ceres (A801 AA)</td><td>2021-May-30 00:00</td><td>2459364.5</td><td>3.53</td><td>0.12</td><td>*</td><td></td><td>37.85423</td><td>7.98333</td><td>38.12961</td><td>8.07502</td><td>53.57886</td><td>18.61297</td><td>273.445544</td><td>7.806478</td><td>655.06</td><td>-606.36</td><td>-96859.8</td><td>-49294.66</td><td>248.307</td><td>8.3583842731</td><td>6.92</td><td>1.945</td><td>9.365</td><td>6.868</td><td>99.16987</td><td>0.003</td><td>111860.7</td><td>*</td><td>0.358887</td><td>154.954578</td><td>-1.146185</td><td>165.326786</td><td>0.392857</td><td>60.64</td><td>0.03</td><td>337.8293</td><td>-0.166</td><td>27.7151</td><td>-8.4415</td><td>2.883972240562</td><td>-1.1278902</td><td>3.70432165537675</td><td>-12.2318707</td><td>30.80790378</td><td>17.15951</td><td>44.0622015</td><td>31.0724</td><td>/L</td><td>10.4504</td><td>100.2</td><td>82.9368</td><td>138.4805</td><td>240.57</td><td>243.812</td><td>-0.6135</td><td>Cet</td><td>69.184967</td><td>38.3761738</td><td>-6.5614498</td><td>291.42763</td><td>66.76033</td><td>161.06765</td><td>-47.352343</td><td>15.8849864447</td><td>0.000354</td><td>0.0</td><td>0.0</td><td>7e-05</td><td>1e-05</td><td>-69.255</td><td>0.0</td><td>0.0</td><td>0.0129</td><td>0.0</td><td>0.0</td><td>0.0</td><td>0.0</td><td>233.2339</td><td>5.81641008</td><td>10.4551</td><td>32.9104</td><td>-7.5333</td></tr>\n",
       "<tr><td>1 Ceres (A801 AA)</td><td>2021-May-31 00:00</td><td>2459365.5</td><td>3.53</td><td>0.12</td><td>*</td><td></td><td>38.21477</td><td>8.10782</td><td>38.49048</td><td>8.1991</td><td>53.52458</td><td>18.47689</td><td>273.98849</td><td>7.477262</td><td>655.03</td><td>-605.99</td><td>-98965.96</td><td>-49370.75</td><td>248.906</td><td>8.4240959406</td><td>7.186</td><td>2.02</td><td>9.367</td><td>6.874</td><td>99.14176</td><td>0.0031</td><td>113887.2</td><td>*</td><td>0.359596</td><td>26.770393</td><td>-1.123086</td><td>37.324174</td><td>0.376758</td><td>60.98</td><td>0.03</td><td>337.8739</td><td>-0.166</td><td>27.9126</td><td>-8.4195</td><td>2.883319965462</td><td>-1.130785</td><td>3.69701847309568</td><td>-12.4389732</td><td>30.74716507</td><td>17.1635614</td><td>43.9716304</td><td>31.6353</td><td>/L</td><td>10.6264</td><td>86.9</td><td>73.8414</td><td>137.7415</td><td>240.917</td><td>243.855</td><td>-0.56738</td><td>Cet</td><td>69.184943</td><td>38.7567923</td><td>-6.5558838</td><td>291.42763</td><td>66.76033</td><td>161.401923</td><td>-47.05005</td><td>15.8826369813</td><td>0.000354</td><td>0.0</td><td>0.0</td><td>7e-05</td><td>1e-05</td><td>-69.272</td><td>0.0</td><td>0.0</td><td>0.0129</td><td>0.0</td><td>0.0</td><td>0.0</td><td>0.0</td><td>233.4304</td><td>5.858063934</td><td>10.6311</td><td>33.1994</td><td>-7.5205</td></tr>\n",
       "<tr><td>1 Ceres (A801 AA)</td><td>2021-Jun-01 00:00</td><td>2459366.5</td><td>3.53</td><td>0.12</td><td>*</td><td></td><td>38.57502</td><td>8.2314</td><td>38.85104</td><td>8.32227</td><td>53.46781</td><td>18.33976</td><td>274.530583</td><td>7.147487</td><td>655.04</td><td>-605.56</td><td>-101078.48</td><td>-49427.29</td><td>249.5</td><td>8.4898065447</td><td>7.474</td><td>2.101</td><td>9.369</td><td>6.881</td><td>99.11327</td><td>0.0032</td><td>115917.2</td><td>*</td><td>0.36032</td><td>258.587563</td><td>-1.099532</td><td>269.322131</td><td>0.360647</td><td>61.32</td><td>0.03</td><td>337.9195</td><td>-0.167</td><td>28.11</td><td>-8.3974</td><td>2.882666021369</td><td>-1.1336679</td><td>3.68959578962758</td><td>-12.6456258</td><td>30.68543249</td><td>17.1676241</td><td>43.8794714</td><td>32.1992</td><td>/L</td><td>10.802</td><td>74.1</td><td>63.9436</td><td>137.002</td><td>241.256</td><td>243.899</td><td>-0.52094</td><td>Cet</td><td>69.184919</td><td>39.1367135</td><td>-6.5504253</td><td>291.42763</td><td>66.76033</td><td>161.732287</td><td>-46.747566</td><td>15.8801678896</td><td>0.000354</td><td>0.0</td><td>0.0</td><td>7e-05</td><td>1e-05</td><td>-69.291</td><td>0.0</td><td>0.0</td><td>0.0128</td><td>0.0</td><td>0.0</td><td>0.0</td><td>0.0</td><td>233.627</td><td>5.899737253</td><td>10.8067</td><td>33.4881</td><td>-7.5078</td></tr>\n",
       "<tr><td>1 Ceres (A801 AA)</td><td>2021-Jun-02 00:00</td><td>2459367.5</td><td>3.53</td><td>0.12</td><td>*</td><td></td><td>38.93495</td><td>8.35407</td><td>39.21128</td><td>8.44453</td><td>53.40835</td><td>18.20156</td><td>275.071874</td><td>6.81718</td><td>655.1</td><td>-605.09</td><td>-103197.56</td><td>-49464.14</td><td>250.088</td><td>8.5555161941</td><td>7.784</td><td>2.188</td><td>9.372</td><td>6.887</td><td>99.08442</td><td>0.0033</td><td>117950.7</td><td>*</td><td>0.361058</td><td>130.406104</td><td>-1.075528</td><td>141.320655</td><td>0.344525</td><td>61.66</td><td>0.03</td><td>337.9659</td><td>-0.167</td><td>28.3076</td><td>-8.3751</td><td>2.882010415236</td><td>-1.1365387</td><td>3.68205391495761</td><td>-12.851727</td><td>30.62270863</td><td>17.1716981</td><td>43.7855924</td><td>32.7641</td><td>/L</td><td>10.977</td><td>61.6</td><td>53.7549</td><td>136.2622</td><td>241.588</td><td>243.943</td><td>-0.47419</td><td>Cet</td><td>69.184895</td><td>39.5159217</td><td>-6.5450739</td><td>291.42763</td><td>66.76033</td><td>162.058811</td><td>-46.444924</td><td>15.8775832683</td><td>0.000354</td><td>0.0</td><td>0.0</td><td>7e-05</td><td>1e-05</td><td>-69.311</td><td>0.0</td><td>0.0</td><td>0.0128</td><td>0.0</td><td>0.0</td><td>0.0</td><td>0.0</td><td>233.8236</td><td>5.941431132</td><td>10.9816</td><td>33.7766</td><td>-7.4951</td></tr>\n",
       "<tr><td>1 Ceres (A801 AA)</td><td>2021-Jun-03 00:00</td><td>2459368.5</td><td>3.53</td><td>0.12</td><td>*</td><td></td><td>39.29456</td><td>8.47583</td><td>39.57118</td><td>8.56586</td><td>53.34607</td><td>18.06225</td><td>275.612415</td><td>6.486368</td><td>655.21</td><td>-604.55</td><td>-105323.41</td><td>-49481.13</td><td>250.672</td><td>8.6212251579</td><td>8.12</td><td>2.283</td><td>9.374</td><td>6.893</td><td>99.05521</td><td>0.0034</td><td>119987.6</td><td>*</td><td>0.361811</td><td>2.226032</td><td>-1.051079</td><td>13.319743</td><td>0.328392</td><td>61.98</td><td>0.04</td><td>338.0131</td><td>-0.167</td><td>28.5052</td><td>-8.3528</td><td>2.881353154047</td><td>-1.1393974</td><td>3.67439322151747</td><td>-13.0571645</td><td>30.55899659</td><td>17.1757834</td><td>43.6898923</td><td>33.3299</td><td>/L</td><td>11.1514</td><td>49.5</td><td>43.6973</td><td>135.522</td><td>241.914</td><td>243.988</td><td>-0.42712</td><td>Cet</td><td>69.184871</td><td>39.8944028</td><td>-6.5398293</td><td>291.42763</td><td>66.76033</td><td>162.381558</td><td>-46.14216</td><td>15.8748876729</td><td>0.000354</td><td>0.0</td><td>0.0</td><td>7e-05</td><td>1e-05</td><td>-69.332</td><td>0.0</td><td>0.0</td><td>0.0127</td><td>0.0</td><td>0.0</td><td>0.0</td><td>0.0</td><td>234.0204</td><td>5.983146762</td><td>11.156</td><td>34.0646</td><td>-7.4824</td></tr>\n",
       "<tr><td>1 Ceres (A801 AA)</td><td>2021-Jun-04 00:00</td><td>2459369.5</td><td>3.53</td><td>0.12</td><td>*</td><td></td><td>39.65382</td><td>8.59667</td><td>39.93073</td><td>8.68626</td><td>53.28083</td><td>17.92181</td><td>276.152261</td><td>6.155076</td><td>655.36</td><td>-603.97</td><td>-107456.2</td><td>-49478.12</td><td>251.252</td><td>8.686933772</td><td>8.486</td><td>2.385</td><td>9.375</td><td>6.9</td><td>99.02565</td><td>0.0035</td><td>122028.0</td><td>*</td><td>0.362578</td><td>234.047365</td><td>-1.026192</td><td>245.319393</td><td>0.312247</td><td>62.3</td><td>0.04</td><td>338.0612</td><td>-0.168</td><td>28.7029</td><td>-8.3304</td><td>2.880694244816</td><td>-1.1422439</td><td>3.66661414719588</td><td>-13.2618251</td><td>30.4943</td><td>17.1798799</td><td>43.5922963</td><td>33.8967</td><td>/L</td><td>11.3251</td><td>37.7</td><td>34.1141</td><td>134.7815</td><td>242.233</td><td>244.034</td><td>-0.37976</td><td>Cet</td><td>69.184847</td><td>40.2721425</td><td>-6.5346912</td><td>291.42763</td><td>66.76033</td><td>162.700594</td><td>-45.83931</td><td>15.8720860628</td><td>0.000354</td><td>0.0</td><td>0.0</td><td>7e-05</td><td>1e-05</td><td>-69.354</td><td>0.0</td><td>0.0</td><td>0.0127</td><td>0.0</td><td>0.0</td><td>0.0</td><td>0.0</td><td>234.2173</td><td>6.024885408</td><td>11.3297</td><td>34.3524</td><td>-7.4697</td></tr>\n",
       "<tr><td>1 Ceres (A801 AA)</td><td>2021-Jun-05 00:00</td><td>2459370.5</td><td>3.53</td><td>0.12</td><td>*</td><td></td><td>40.01272</td><td>8.71658</td><td>40.28991</td><td>8.80573</td><td>53.21255</td><td>17.78027</td><td>276.691465</td><td>5.823328</td><td>655.56</td><td>-603.33</td><td>-109596.12</td><td>-49454.96</td><td>251.828</td><td>8.7526423739</td><td>8.884</td><td>2.497</td><td>9.377</td><td>6.906</td><td>98.99575</td><td>0.0036</td><td>124071.9</td><td>*</td><td>0.363361</td><td>105.87012</td><td>-1.000871</td><td>117.319601</td><td>0.296091</td><td>62.62</td><td>0.04</td><td>338.1102</td><td>-0.168</td><td>28.9006</td><td>-8.3078</td><td>2.880033694581</td><td>-1.1450782</td><td>3.65871719414215</td><td>-13.4655997</td><td>30.42862304</td><td>17.1839876</td><td>43.4927494</td><td>34.4644</td><td>/L</td><td>11.4982</td><td>26.1</td><td>25.289</td><td>134.0406</td><td>242.547</td><td>244.081</td><td>-0.3321</td><td>Cet</td><td>69.184822</td><td>40.649126</td><td>-6.5296591</td><td>291.42763</td><td>66.76033</td><td>163.015981</td><td>-45.536409</td><td>15.8691837578</td><td>0.000354</td><td>0.0</td><td>0.0</td><td>7e-05</td><td>1e-05</td><td>-69.377</td><td>0.0</td><td>0.0</td><td>0.0126</td><td>0.0</td><td>0.0</td><td>0.0</td><td>0.0</td><td>234.4143</td><td>6.066648396</td><td>11.5028</td><td>34.6398</td><td>-7.457</td></tr>\n",
       "</table>"
      ],
      "text/plain": [
       "<Table masked=True length=9>\n",
       "    targetname       datetime_str   datetime_jd ... alpha_true  PABLon  PABLat\n",
       "       ---               ---             d      ...    deg       deg     deg  \n",
       "      str17             str17         float64   ...  float64   float64 float64\n",
       "----------------- ----------------- ----------- ... ---------- ------- -------\n",
       "1 Ceres (A801 AA) 2021-May-28 00:00   2459362.5 ...    10.1014 32.3314 -7.5588\n",
       "1 Ceres (A801 AA) 2021-May-29 00:00   2459363.5 ...    10.2785  32.621  -7.546\n",
       "1 Ceres (A801 AA) 2021-May-30 00:00   2459364.5 ...    10.4551 32.9104 -7.5333\n",
       "1 Ceres (A801 AA) 2021-May-31 00:00   2459365.5 ...    10.6311 33.1994 -7.5205\n",
       "1 Ceres (A801 AA) 2021-Jun-01 00:00   2459366.5 ...    10.8067 33.4881 -7.5078\n",
       "1 Ceres (A801 AA) 2021-Jun-02 00:00   2459367.5 ...    10.9816 33.7766 -7.4951\n",
       "1 Ceres (A801 AA) 2021-Jun-03 00:00   2459368.5 ...     11.156 34.0646 -7.4824\n",
       "1 Ceres (A801 AA) 2021-Jun-04 00:00   2459369.5 ...    11.3297 34.3524 -7.4697\n",
       "1 Ceres (A801 AA) 2021-Jun-05 00:00   2459370.5 ...    11.5028 34.6398  -7.457"
      ]
     },
     "execution_count": 19,
     "metadata": {},
     "output_type": "execute_result"
    }
   ],
   "source": [
    "obj1.ephemerides()"
   ]
  },
  {
   "cell_type": "markdown",
   "metadata": {},
   "source": [
    "<center><i>This notebook was originally written by <a href=\"https://aperiosoftware.com/\">Aperio Software Ltd</a> and modified by Brigitta Sipőcz. &copy; 2019-2021 and is licensed under a <a href=\"https://creativecommons.org/licenses/by/4.0/\">Creative Commons Attribution 4.0 International License (CC BY 4.0)</a></i></center>\n",
    "\n",
    "![cc](https://mirrors.creativecommons.org/presskit/buttons/88x31/svg/by.svg)"
   ]
  }
 ],
 "metadata": {
  "kernelspec": {
   "display_name": "Python 3",
   "language": "python",
   "name": "python3"
  },
  "language_info": {
   "codemirror_mode": {
    "name": "ipython",
    "version": 3
   },
   "file_extension": ".py",
   "mimetype": "text/x-python",
   "name": "python",
   "nbconvert_exporter": "python",
   "pygments_lexer": "ipython3",
   "version": "3.8.8"
  },
  "toc": {
   "base_numbering": 1,
   "nav_menu": {},
   "number_sections": true,
   "sideBar": true,
   "skip_h1_title": false,
   "title_cell": "Table of Contents",
   "title_sidebar": "Contents",
   "toc_cell": false,
   "toc_position": {},
   "toc_section_display": true,
   "toc_window_display": false
  }
 },
 "nbformat": 4,
 "nbformat_minor": 1
}
